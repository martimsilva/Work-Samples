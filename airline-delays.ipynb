{
 "cells": [
  {
   "cell_type": "markdown",
   "metadata": {},
   "source": [
    "# Flight Delay Analysis\n",
    "## ISTM 6212 - Fall 2018 - Final Project\n",
    "**Group 7: Ran He, Martim Silva, Maggie Wang, Mengfei Zhou**"
   ]
  },
  {
   "cell_type": "markdown",
   "metadata": {},
   "source": [
    "<img  src=\"https://i.redd.it/cg0ukpij0t301.gif\" width=\"35%\" align=\"left\">"
   ]
  },
  {
   "cell_type": "markdown",
   "metadata": {},
   "source": [
    "*Source: United Airlines (https://i.redd.it/cg0ukpij0t301.gif)*"
   ]
  },
  {
   "cell_type": "markdown",
   "metadata": {},
   "source": [
    "---"
   ]
  },
  {
   "cell_type": "markdown",
   "metadata": {},
   "source": [
    "### Part 1 - Selection"
   ]
  },
  {
   "cell_type": "markdown",
   "metadata": {},
   "source": [
    "#### Overview"
   ]
  },
  {
   "cell_type": "markdown",
   "metadata": {},
   "source": [
    "The airline industry is fascinating, and is constantly changing. And with thousands of data points are generated each day, there is a very large opportunity for data analysis to be conducted. Most modern aircraft are now equipped with sensors that generate a myriad of data points. For example, when an aircraft is parked at the gate and it releases its parking brakes, a data point is generated that indicates that the plane has departed the gate \n",
    "\n",
    "Our group has therefore chosen to use the  Reporting Carrier On-Time Performance (1987-present) dataset from the Bureau of Transportation Statistics. This dataset provides a series of information regarding individual flights that flew within the United States (i.e.: only domestic flights are included, international flights are excluded). We are focusing our efforts on analyzing one of the most important operational flight performance metrics: minute delays for a flight. The dataset provides information regarding scheduled departure/arrival times and actual departure/arrival times, as well as the causes for delays. \n",
    "\n",
    "We looked into multiple datasets but this was the only one that contained day-specific information (all other datasets provided up to quarter/month information which would limit our ability to reach detailed conclusions).\n",
    "\n",
    "The dataset may be found on: https://www.transtats.bts.gov/Tables.asp?DB_ID=120. Please note that the URL presents the user with two options:\n",
    "- Marketing Carrier On-Time Performance (Beginning January 2018) - provides flight information as well as information about the operating airline. For example, usually short-haul flight are operated by regional airlines but branded as major airlines. A United Airlines flight from Washington Dulles Int’l (IAD) to Charlottesville (CHO) is most likely operated by one of United’s regional partners (Mesa Airlines, Air Wisconsin, Republic Airlines…) but is marketed as a United Flight (or United Express). In addition to providing information about the reporting/marketing airline (United), this dataset provides information about the operating airline (e.g.: Mesa Airlines)\n",
    "- Reporting Carrier On-Time Performance (1987-present) - provides flight information as reported by the reporting / marketing airline.\n",
    "\n",
    "Given that the former only includes data from January 2018 onwards, it wouldn’t satisfy our desire to analyze a year-long flight information dataset. In addition, we have no strong desire to analyze delays by operating carrier.\n",
    "\n",
    "Furthemore, because of the rather large extent of the data (around 500,000 records per month for the entire US = 6,000,000 records for an entire year), we chose to focus our attention on flights that started and/or ended in the state of Virginia during the 2017 calendar year. The data is grouped into month-based dataframes (i.e.: all january flights are in the january.csv file), meaning that we have a total of twelve csv files that we will need to stack.\n"
   ]
  },
  {
   "cell_type": "markdown",
   "metadata": {},
   "source": [
    "The airports in our dataset are the following (IATA code and Name):\n",
    "- CHO - Charlottesville–Albemarle Airport\n",
    "- DCA - Ronald Reagan Washington National Airport\n",
    "- IAD - Washington Dulles International Airport\n",
    "- ORF - Norfolk International Airport\n",
    "- PHF - Newport News/Williamsburg International Airport\n",
    "- RIC - Richmond International Airport \n",
    "- ROA - Roanoke Regional Airport \n"
   ]
  },
  {
   "cell_type": "markdown",
   "metadata": {},
   "source": [
    "#### Concerns & Challenges"
   ]
  },
  {
   "cell_type": "markdown",
   "metadata": {},
   "source": [
    "We had many concerns and encountered many challenges in all stage of completing the projects. The following bullet points summarize our thought process at each stage of the project.\n",
    "\n",
    "- We encountered two challenges/concerns relate to schema design. The first challenge relates to the number of fact tables. Since our analysis focus on delays, we had a hard time deciding whether we should have two fact tables (arrival delay table and departure delay table) or one fact table (flight performance table). Moving on to our concern, the concerns we had relate to arrival time key. Half way through creating the schema using SQL, we realized that arrival date of an overtime flight is different from its departure date. Thus, arrival time key should be different from departure time key for every overnight flights. Since our data set only contains departure date, arrival time keys would be incorrect if we create match arrival time key in the fact table using departure date.\n",
    "- The challenge that took us the longest to figure out relates to data cleaning using Trifecta. To address the concern we discussed in the first bullet point, we created arrival timestamp based on departure timestamp. However, when we tried to split the arrival timestamp into year, month, and day, the split function in Trifacta kept getting us results with wildcards. We spent hours trying to debug. It turns out that it is an error on Trifacta's end. \n",
    "- The third challenge relates to the measurements regarding questions that we want to ask. We discussed about whether we should use average or count to perform our analysis. \n",
    "- The last challenge relate to the analysis process. We ran into an issue with regards to properly calculate the percentage of arrival and departure delay for each airlines. We realized that the where statement and the group by function result in miscalculation and return 100% for all airlines.  We then tried to do sub-queries. While the sub-queries work, it took us a long time to figure it out and it is hard to understand. We finally figured out a much easier solution perform in the analysis session of the notebook. "
   ]
  },
  {
   "cell_type": "markdown",
   "metadata": {},
   "source": [
    "---"
   ]
  },
  {
   "cell_type": "markdown",
   "metadata": {},
   "source": [
    "#### Getting Started"
   ]
  },
  {
   "cell_type": "markdown",
   "metadata": {},
   "source": [
    "**(\"Flight Attendants, Doors to Departure, Crosscheck and All-Call. Let's Get Ready For Takeoff\"):**"
   ]
  },
  {
   "cell_type": "markdown",
   "metadata": {},
   "source": [
    "We will start by downloading our data from an S3 bucket using the `wget` command:"
   ]
  },
  {
   "cell_type": "code",
   "execution_count": 1,
   "metadata": {},
   "outputs": [
    {
     "name": "stdout",
     "output_type": "stream",
     "text": [
      "--2018-12-10 17:47:20--  https://s3.amazonaws.com/2018-dmfa-group7/final_project/flight_delays_project.zip\n",
      "Resolving s3.amazonaws.com (s3.amazonaws.com)... 52.216.100.213\n",
      "Connecting to s3.amazonaws.com (s3.amazonaws.com)|52.216.100.213|:443... connected.\n",
      "HTTP request sent, awaiting response... 200 OK\n",
      "Length: 7750286 (7.4M) [application/zip]\n",
      "Saving to: ‘flight_delays_project.zip’\n",
      "\n",
      "flight_delays_proje 100%[===================>]   7.39M  35.4MB/s    in 0.2s    \n",
      "\n",
      "2018-12-10 17:47:20 (35.4 MB/s) - ‘flight_delays_project.zip’ saved [7750286/7750286]\n",
      "\n"
     ]
    }
   ],
   "source": [
    "!wget https://s3.amazonaws.com/2018-dmfa-group7/final_project/flight_delays_project.zip"
   ]
  },
  {
   "cell_type": "markdown",
   "metadata": {},
   "source": [
    "We will now unzip the contents of this .zip file:"
   ]
  },
  {
   "cell_type": "code",
   "execution_count": 2,
   "metadata": {},
   "outputs": [
    {
     "name": "stdout",
     "output_type": "stream",
     "text": [
      "Archive:  flight_delays_project.zip\n",
      "  inflating: VA_DELAYS_2017_08.csv   \n",
      "   creating: __MACOSX/\n",
      "  inflating: __MACOSX/._VA_DELAYS_2017_08.csv  \n",
      "  inflating: VA_DELAYS_2017_09.csv   \n",
      "  inflating: __MACOSX/._VA_DELAYS_2017_09.csv  \n",
      "  inflating: VA_DELAYS_2017_10.csv   \n",
      "  inflating: __MACOSX/._VA_DELAYS_2017_10.csv  \n",
      "  inflating: VA_DELAYS_2017_04.csv   \n",
      "  inflating: __MACOSX/._VA_DELAYS_2017_04.csv  \n",
      "  inflating: VA_DELAYS_2017_05.csv   \n",
      "  inflating: __MACOSX/._VA_DELAYS_2017_05.csv  \n",
      "  inflating: VA_DELAYS_2017_11.csv   \n",
      "  inflating: __MACOSX/._VA_DELAYS_2017_11.csv  \n",
      "  inflating: VA_DELAYS_2017_07.csv   \n",
      "  inflating: __MACOSX/._VA_DELAYS_2017_07.csv  \n",
      "  inflating: VA_DELAYS_2017_12.csv   \n",
      "  inflating: __MACOSX/._VA_DELAYS_2017_12.csv  \n",
      "  inflating: VA_DELAYS_2017_06.csv   \n",
      "  inflating: __MACOSX/._VA_DELAYS_2017_06.csv  \n",
      "  inflating: VA_DELAYS_2017_02.csv   \n",
      "  inflating: __MACOSX/._VA_DELAYS_2017_02.csv  \n",
      "  inflating: VA_DELAYS_2017_03.csv   \n",
      "  inflating: __MACOSX/._VA_DELAYS_2017_03.csv  \n",
      "  inflating: va_weather.csv          \n",
      "  inflating: __MACOSX/._va_weather.csv  \n",
      "  inflating: VA_DELAYS_2017_01.csv   \n",
      "  inflating: __MACOSX/._VA_DELAYS_2017_01.csv  \n",
      "  inflating: tail_numbers.csv        \n",
      "  inflating: __MACOSX/._tail_numbers.csv  \n"
     ]
    }
   ],
   "source": [
    "!unzip flight_delays_project"
   ]
  },
  {
   "cell_type": "markdown",
   "metadata": {},
   "source": [
    "We will now combine the twelve .csv files into a single .csv file using the handy `csvstack` command. We will also name this new file *flights_original.csv*:"
   ]
  },
  {
   "cell_type": "code",
   "execution_count": 3,
   "metadata": {},
   "outputs": [],
   "source": [
    "!csvstack VA_DELAYS*.csv > flights_original.csv"
   ]
  },
  {
   "cell_type": "markdown",
   "metadata": {},
   "source": [
    "We no longer need the individual month files, let's go ahead and delete them to reduce clutter:"
   ]
  },
  {
   "cell_type": "code",
   "execution_count": 4,
   "metadata": {},
   "outputs": [],
   "source": [
    "!rm VA_DELAYS*.csv"
   ]
  },
  {
   "cell_type": "code",
   "execution_count": 5,
   "metadata": {},
   "outputs": [],
   "source": [
    "!rm flight_delays*.zip"
   ]
  },
  {
   "cell_type": "markdown",
   "metadata": {},
   "source": [
    "Perfect! We should be all set to conduct some initial explorations of our data."
   ]
  },
  {
   "cell_type": "markdown",
   "metadata": {},
   "source": [
    "#### Data Exploration"
   ]
  },
  {
   "cell_type": "markdown",
   "metadata": {},
   "source": [
    "Let's start by obtaining the number of records that we will be analyzing:"
   ]
  },
  {
   "cell_type": "markdown",
   "metadata": {},
   "source": [
    "The following line of code will take a minute to run."
   ]
  },
  {
   "cell_type": "code",
   "execution_count": 6,
   "metadata": {},
   "outputs": [
    {
     "name": "stdout",
     "output_type": "stream",
     "text": [
      "285455 flights_original.csv\n"
     ]
    }
   ],
   "source": [
    "!wc -l flights_original.csv"
   ]
  },
  {
   "cell_type": "markdown",
   "metadata": {},
   "source": [
    "Next, let's obtain the column names:"
   ]
  },
  {
   "cell_type": "code",
   "execution_count": 7,
   "metadata": {},
   "outputs": [
    {
     "name": "stdout",
     "output_type": "stream",
     "text": [
      "  1: YEAR\n",
      "  2: MONTH\n",
      "  3: DAY_OF_MONTH\n",
      "  4: OP_CARRIER\n",
      "  5: TAIL_NUM\n",
      "  6: OP_CARRIER_FL_NUM\n",
      "  7: ORIGIN\n",
      "  8: ORIGIN_CITY_NAME\n",
      "  9: ORIGIN_STATE_ABR\n",
      " 10: DEST\n",
      " 11: DEST_CITY_NAME\n",
      " 12: DEST_STATE_ABR\n",
      " 13: CRS_DEP_TIME\n",
      " 14: DEP_TIME\n",
      " 15: DEP_DELAY\n",
      " 16: DEP_TIME_BLK\n",
      " 17: CRS_ARR_TIME\n",
      " 18: ARR_TIME\n",
      " 19: ARR_DELAY\n",
      " 20: ARR_TIME_BLK\n",
      " 21: CANCELLED\n",
      " 22: DIVERTED\n",
      " 23: CRS_ELAPSED_TIME\n",
      " 24: ACTUAL_ELAPSED_TIME\n",
      " 25: CARRIER_DELAY\n",
      " 26: WEATHER_DELAY\n",
      " 27: NAS_DELAY\n",
      " 28: SECURITY_DELAY\n",
      " 29: LATE_AIRCRAFT_DELAY\n",
      " 30: DIV_REACHED_DEST\n",
      " 31: DIV_ACTUAL_ELAPSED_TIME\n",
      " 32: DIV_ARR_DELAY\n",
      " 33: DIV_DISTANCE\n",
      " 34: DIV1_AIRPORT\n",
      " 35: \n"
     ]
    }
   ],
   "source": [
    "!csvcut -n flights_original.csv"
   ]
  },
  {
   "cell_type": "markdown",
   "metadata": {},
   "source": [
    "Let's obtain some information about a small sample of the variables:"
   ]
  },
  {
   "cell_type": "code",
   "execution_count": 8,
   "metadata": {},
   "outputs": [
    {
     "name": "stdout",
     "output_type": "stream",
     "text": [
      "/home/ubuntu/.local/lib/python3.5/site-packages/agate/utils.py:276: UnnamedColumnWarning: Column 34 has no name. Using \"ii\".\n",
      "  1. \"YEAR\"\n",
      "\n",
      "\tType of data:          Number\n",
      "\tContains null values:  False\n",
      "\tUnique values:         1\n",
      "\tSmallest value:        2,017\n",
      "\tLargest value:         2,017\n",
      "\tSum:                   18,153\n",
      "\tMean:                  2,017\n",
      "\tMedian:                2,017\n",
      "\tStDev:                 0\n",
      "\tMost common values:    2,017 (9x)\n",
      "\n",
      "  2. \"MONTH\"\n",
      "\n",
      "\tType of data:          Boolean\n",
      "\tContains null values:  False\n",
      "\tUnique values:         1\n",
      "\tMost common values:    True (9x)\n",
      "\n",
      "  3. \"DAY_OF_MONTH\"\n",
      "\n",
      "\tType of data:          Number\n",
      "\tContains null values:  False\n",
      "\tUnique values:         9\n",
      "\tSmallest value:        1\n",
      "\tLargest value:         9\n",
      "\tSum:                   45\n",
      "\tMean:                  5\n",
      "\tMedian:                5\n",
      "\tStDev:                 2.739\n",
      "\tMost common values:    1 (1x)\n",
      "\t                       2 (1x)\n",
      "\t                       3 (1x)\n",
      "\t                       4 (1x)\n",
      "\t                       5 (1x)\n",
      "\n",
      "  4. \"OP_CARRIER\"\n",
      "\n",
      "\tType of data:          Text\n",
      "\tContains null values:  False\n",
      "\tUnique values:         1\n",
      "\tLongest value:         2 characters\n",
      "\tMost common values:    AA (9x)\n",
      "\n",
      "  5. \"TAIL_NUM\"\n",
      "\n",
      "\tType of data:          Text\n",
      "\tContains null values:  False\n",
      "\tUnique values:         9\n",
      "\tLongest value:         6 characters\n",
      "\tMost common values:    N3HMAA (1x)\n",
      "\t                       N3CFAA (1x)\n",
      "\t                       N3NRAA (1x)\n",
      "\t                       N3GAAA (1x)\n",
      "\t                       N3DBAA (1x)\n",
      "\n",
      "  6. \"OP_CARRIER_FL_NUM\"\n",
      "\n",
      "\tType of data:          Number\n",
      "\tContains null values:  False\n",
      "\tUnique values:         1\n",
      "\tSmallest value:        52\n",
      "\tLargest value:         52\n",
      "\tSum:                   468\n",
      "\tMean:                  52\n",
      "\tMedian:                52\n",
      "\tStDev:                 0\n",
      "\tMost common values:    52 (9x)\n",
      "\n",
      "  7. \"ORIGIN\"\n",
      "\n",
      "\tType of data:          Text\n",
      "\tContains null values:  False\n",
      "\tUnique values:         1\n",
      "\tLongest value:         3 characters\n",
      "\tMost common values:    LAX (9x)\n",
      "\n",
      "  8. \"ORIGIN_CITY_NAME\"\n",
      "\n",
      "\tType of data:          Text\n",
      "\tContains null values:  False\n",
      "\tUnique values:         1\n",
      "\tLongest value:         15 characters\n",
      "\tMost common values:    Los Angeles, CA (9x)\n",
      "\n",
      "  9. \"ORIGIN_STATE_ABR\"\n",
      "\n",
      "\tType of data:          Text\n",
      "\tContains null values:  False\n",
      "\tUnique values:         1\n",
      "\tLongest value:         2 characters\n",
      "\tMost common values:    CA (9x)\n",
      "\n",
      " 10. \"DEST\"\n",
      "\n",
      "\tType of data:          Text\n",
      "\tContains null values:  False\n",
      "\tUnique values:         1\n",
      "\tLongest value:         3 characters\n",
      "\tMost common values:    DCA (9x)\n",
      "\n",
      " 11. \"DEST_CITY_NAME\"\n",
      "\n",
      "\tType of data:          Text\n",
      "\tContains null values:  False\n",
      "\tUnique values:         1\n",
      "\tLongest value:         14 characters\n",
      "\tMost common values:    Washington, DC (9x)\n",
      "\n",
      " 12. \"DEST_STATE_ABR\"\n",
      "\n",
      "\tType of data:          Text\n",
      "\tContains null values:  False\n",
      "\tUnique values:         1\n",
      "\tLongest value:         2 characters\n",
      "\tMost common values:    VA (9x)\n",
      "\n",
      " 13. \"CRS_DEP_TIME\"\n",
      "\n",
      "\tType of data:          Number\n",
      "\tContains null values:  False\n",
      "\tUnique values:         2\n",
      "\tSmallest value:        1,235\n",
      "\tLargest value:         1,240\n",
      "\tSum:                   11,155\n",
      "\tMean:                  1,239.444\n",
      "\tMedian:                1,240\n",
      "\tStDev:                 1.667\n",
      "\tMost common values:    1,240 (8x)\n",
      "\t                       1,235 (1x)\n",
      "\n",
      " 14. \"DEP_TIME\"\n",
      "\n",
      "\tType of data:          Number\n",
      "\tContains null values:  False\n",
      "\tUnique values:         6\n",
      "\tSmallest value:        1,235\n",
      "\tLargest value:         1,355\n",
      "\tSum:                   11,420\n",
      "\tMean:                  1,268.889\n",
      "\tMedian:                1,238\n",
      "\tStDev:                 45.909\n",
      "\tMost common values:    1,237 (2x)\n",
      "\t                       1,238 (2x)\n",
      "\t                       1,314 (2x)\n",
      "\t                       1,252 (1x)\n",
      "\t                       1,355 (1x)\n",
      "\n",
      " 15. \"DEP_DELAY\"\n",
      "\n",
      "\tType of data:          Number\n",
      "\tContains null values:  False\n",
      "\tUnique values:         7\n",
      "\tSmallest value:        -5\n",
      "\tLargest value:         75\n",
      "\tSum:                   145\n",
      "\tMean:                  16.111\n",
      "\tMedian:                2\n",
      "\tStDev:                 26.905\n",
      "\tMost common values:    -2 (2x)\n",
      "\t                       34 (2x)\n",
      "\t                       -3 (1x)\n",
      "\t                       12 (1x)\n",
      "\t                       75 (1x)\n",
      "\n",
      " 16. \"DEP_TIME_BLK\"\n",
      "\n",
      "\tType of data:          Text\n",
      "\tContains null values:  False\n",
      "\tUnique values:         1\n",
      "\tLongest value:         9 characters\n",
      "\tMost common values:    1200-1259 (9x)\n",
      "\n",
      " 17. \"CRS_ARR_TIME\"\n",
      "\n",
      "\tType of data:          Number\n",
      "\tContains null values:  False\n",
      "\tUnique values:         2\n",
      "\tSmallest value:        2,037\n",
      "\tLargest value:         2,038\n",
      "\tSum:                   18,334\n",
      "\tMean:                  2,037.111\n",
      "\tMedian:                2,037\n",
      "\tStDev:                 0.333\n",
      "\tMost common values:    2,037 (8x)\n",
      "\t                       2,038 (1x)\n",
      "\n",
      " 18. \"ARR_TIME\"\n",
      "\n",
      "\tType of data:          Number\n",
      "\tContains null values:  False\n",
      "\tUnique values:         9\n",
      "\tSmallest value:        1,954\n",
      "\tLargest value:         2,124\n",
      "\tSum:                   18,494\n",
      "\tMean:                  2,054.889\n",
      "\tMedian:                2,028\n",
      "\tStDev:                 60.055\n",
      "\tMost common values:    2,025 (1x)\n",
      "\t                       2,028 (1x)\n",
      "\t                       1,954 (1x)\n",
      "\t                       2,111 (1x)\n",
      "\t                       2,114 (1x)\n",
      "\n",
      " 19. \"ARR_DELAY\"\n",
      "\n",
      "\tType of data:          Number\n",
      "\tContains null values:  False\n",
      "\tUnique values:         9\n",
      "\tSmallest value:        -43\n",
      "\tLargest value:         46\n",
      "\tSum:                   40\n",
      "\tMean:                  4.444\n",
      "\tMedian:                -9\n",
      "\tStDev:                 32.137\n",
      "\tMost common values:    -12 (1x)\n",
      "\t                       -9 (1x)\n",
      "\t                       -43 (1x)\n",
      "\t                       34 (1x)\n",
      "\t                       37 (1x)\n",
      "\n",
      " 20. \"ARR_TIME_BLK\"\n",
      "\n",
      "\tType of data:          Text\n",
      "\tContains null values:  False\n",
      "\tUnique values:         1\n",
      "\tLongest value:         9 characters\n",
      "\tMost common values:    2000-2059 (9x)\n",
      "\n",
      " 21. \"CANCELLED\"\n",
      "\n",
      "\tType of data:          Number\n",
      "\tContains null values:  False\n",
      "\tUnique values:         1\n",
      "\tSmallest value:        0\n",
      "\tLargest value:         0\n",
      "\tSum:                   0\n",
      "\tMean:                  0\n",
      "\tMedian:                0\n",
      "\tStDev:                 0\n",
      "\tMost common values:    0 (9x)\n",
      "\n",
      " 22. \"DIVERTED\"\n",
      "\n",
      "\tType of data:          Number\n",
      "\tContains null values:  False\n",
      "\tUnique values:         1\n",
      "\tSmallest value:        0\n",
      "\tLargest value:         0\n",
      "\tSum:                   0\n",
      "\tMean:                  0\n",
      "\tMedian:                0\n",
      "\tStDev:                 0\n",
      "\tMost common values:    0 (9x)\n",
      "\n",
      " 23. \"CRS_ELAPSED_TIME\"\n",
      "\n",
      "\tType of data:          Number\n",
      "\tContains null values:  False\n",
      "\tUnique values:         2\n",
      "\tSmallest value:        297\n",
      "\tLargest value:         303\n",
      "\tSum:                   2,679\n",
      "\tMean:                  297.667\n",
      "\tMedian:                297\n",
      "\tStDev:                 2\n",
      "\tMost common values:    297 (8x)\n",
      "\t                       303 (1x)\n",
      "\n",
      " 24. \"ACTUAL_ELAPSED_TIME\"\n",
      "\n",
      "\tType of data:          Number\n",
      "\tContains null values:  False\n",
      "\tUnique values:         9\n",
      "\tSmallest value:        256\n",
      "\tLargest value:         347\n",
      "\tSum:                   2,574\n",
      "\tMean:                  286\n",
      "\tMedian:                282\n",
      "\tStDev:                 26.711\n",
      "\tMost common values:    288 (1x)\n",
      "\t                       276 (1x)\n",
      "\t                       256 (1x)\n",
      "\t                       297 (1x)\n",
      "\t                       259 (1x)\n",
      "\n",
      " 25. \"CARRIER_DELAY\"\n",
      "\n",
      "\tType of data:          Number\n",
      "\tContains null values:  True (excluded from calculations)\n",
      "\tUnique values:         5\n",
      "\tSmallest value:        0\n",
      "\tLargest value:         34\n",
      "\tSum:                   49\n",
      "\tMean:                  12.25\n",
      "\tMedian:                7.5\n",
      "\tStDev:                 15.064\n",
      "\tMost common values:    None (5x)\n",
      "\t                       34 (1x)\n",
      "\t                       5 (1x)\n",
      "\t                       10 (1x)\n",
      "\t                       0 (1x)\n",
      "\n",
      " 26. \"WEATHER_DELAY\"\n",
      "\n",
      "\tType of data:          Number\n",
      "\tContains null values:  True (excluded from calculations)\n",
      "\tUnique values:         2\n",
      "\tSmallest value:        0\n",
      "\tLargest value:         0\n",
      "\tSum:                   0\n",
      "\tMean:                  0\n",
      "\tMedian:                0\n",
      "\tStDev:                 0\n",
      "\tMost common values:    None (5x)\n",
      "\t                       0 (4x)\n",
      "\n",
      " 27. \"NAS_DELAY\"\n",
      "\n",
      "\tType of data:          Number\n",
      "\tContains null values:  True (excluded from calculations)\n",
      "\tUnique values:         3\n",
      "\tSmallest value:        0\n",
      "\tLargest value:         44\n",
      "\tSum:                   44\n",
      "\tMean:                  11\n",
      "\tMedian:                0\n",
      "\tStDev:                 22\n",
      "\tMost common values:    None (5x)\n",
      "\t                       0 (3x)\n",
      "\t                       44 (1x)\n",
      "\n",
      " 28. \"SECURITY_DELAY\"\n",
      "\n",
      "\tType of data:          Number\n",
      "\tContains null values:  True (excluded from calculations)\n",
      "\tUnique values:         2\n",
      "\tSmallest value:        0\n",
      "\tLargest value:         0\n",
      "\tSum:                   0\n",
      "\tMean:                  0\n",
      "\tMedian:                0\n",
      "\tStDev:                 0\n",
      "\tMost common values:    None (5x)\n",
      "\t                       0 (4x)\n",
      "\n",
      " 29. \"LATE_AIRCRAFT_DELAY\"\n",
      "\n",
      "\tType of data:          Number\n",
      "\tContains null values:  True (excluded from calculations)\n",
      "\tUnique values:         5\n",
      "\tSmallest value:        0\n",
      "\tLargest value:         32\n",
      "\tSum:                   53\n",
      "\tMean:                  13.25\n",
      "\tMedian:                10.5\n",
      "\tStDev:                 15.13\n",
      "\tMost common values:    None (5x)\n",
      "\t                       0 (1x)\n",
      "\t                       32 (1x)\n",
      "\t                       19 (1x)\n",
      "\t                       2 (1x)\n",
      "\n",
      " 30. \"DIV_REACHED_DEST\"\n",
      "\n",
      "\tType of data:          Boolean\n",
      "\tContains null values:  True (excluded from calculations)\n",
      "\tUnique values:         1\n",
      "\tMost common values:    None (9x)\n",
      "\n",
      " 31. \"DIV_ACTUAL_ELAPSED_TIME\"\n",
      "\n",
      "\tType of data:          Boolean\n",
      "\tContains null values:  True (excluded from calculations)\n",
      "\tUnique values:         1\n",
      "\tMost common values:    None (9x)\n",
      "\n",
      " 32. \"DIV_ARR_DELAY\"\n",
      "\n",
      "\tType of data:          Boolean\n",
      "\tContains null values:  True (excluded from calculations)\n",
      "\tUnique values:         1\n",
      "\tMost common values:    None (9x)\n",
      "\n",
      " 33. \"DIV_DISTANCE\"\n",
      "\n",
      "\tType of data:          Boolean\n",
      "\tContains null values:  True (excluded from calculations)\n",
      "\tUnique values:         1\n",
      "\tMost common values:    None (9x)\n",
      "\n",
      " 34. \"DIV1_AIRPORT\"\n",
      "\n",
      "\tType of data:          Boolean\n",
      "\tContains null values:  True (excluded from calculations)\n",
      "\tUnique values:         1\n",
      "\tMost common values:    None (9x)\n",
      "\n",
      " 35. \"ii\"\n",
      "\n",
      "\tType of data:          Boolean\n",
      "\tContains null values:  True (excluded from calculations)\n",
      "\tUnique values:         1\n",
      "\tMost common values:    None (9x)\n",
      "\n",
      "Row count: 9\n"
     ]
    }
   ],
   "source": [
    "!head flights_original.csv | csvstat"
   ]
  },
  {
   "cell_type": "markdown",
   "metadata": {},
   "source": [
    "Lastly, let's identify if there are any columns that contain null values:"
   ]
  },
  {
   "cell_type": "code",
   "execution_count": 9,
   "metadata": {},
   "outputs": [
    {
     "name": "stdout",
     "output_type": "stream",
     "text": [
      "/home/ubuntu/.local/lib/python3.5/site-packages/agate/utils.py:276: UnnamedColumnWarning: Column 34 has no name. Using \"ii\".\n",
      "  1. YEAR: False\n",
      "  2. MONTH: False\n",
      "  3. DAY_OF_MONTH: False\n",
      "  4. OP_CARRIER: False\n",
      "  5. TAIL_NUM: True\n",
      "  6. OP_CARRIER_FL_NUM: False\n",
      "  7. ORIGIN: False\n",
      "  8. ORIGIN_CITY_NAME: False\n",
      "  9. ORIGIN_STATE_ABR: False\n",
      " 10. DEST: False\n",
      " 11. DEST_CITY_NAME: False\n",
      " 12. DEST_STATE_ABR: False\n",
      " 13. CRS_DEP_TIME: False\n",
      " 14. DEP_TIME: True\n",
      " 15. DEP_DELAY: True\n",
      " 16. DEP_TIME_BLK: False\n",
      " 17. CRS_ARR_TIME: False\n",
      " 18. ARR_TIME: True\n",
      " 19. ARR_DELAY: True\n",
      " 20. ARR_TIME_BLK: False\n",
      " 21. CANCELLED: False\n",
      " 22. DIVERTED: False\n",
      " 23. CRS_ELAPSED_TIME: False\n",
      " 24. ACTUAL_ELAPSED_TIME: True\n",
      " 25. CARRIER_DELAY: True\n",
      " 26. WEATHER_DELAY: True\n",
      " 27. NAS_DELAY: True\n",
      " 28. SECURITY_DELAY: True\n",
      " 29. LATE_AIRCRAFT_DELAY: True\n",
      " 30. DIV_REACHED_DEST: True\n",
      " 31. DIV_ACTUAL_ELAPSED_TIME: True\n",
      " 32. DIV_ARR_DELAY: True\n",
      " 33. DIV_DISTANCE: True\n",
      " 34. DIV1_AIRPORT: True\n",
      " 35. ii: True\n"
     ]
    }
   ],
   "source": [
    "!head -n 5000 flights_original.csv | csvstat --nulls"
   ]
  },
  {
   "cell_type": "markdown",
   "metadata": {},
   "source": [
    "It appears that `TAIL_NUM`, `DEP_TIME`, `DEP_DELAY`, `ARR_TIME`, `ARR_DELAY`, `ACTUAL_ELAPSED_TIME`, ` CARRIER_DELAY`, `WEATHER_DELAY`, `NAS_DELAY`, `SECURITY_DELAY`, `LATE_AIRCRAFT_DELAY`, `DIV_REACHED_DEST`, `DIV_ACTUAL_ELAPSED_TIME`, `DIV_ARR_DELAY`, `DIV_DISTANCE`, and `DIV1_AIRPORT` contain null values. We will handle these when we wrangle our data. We also have a 35th column that appears to be blank (we'll remove this later)."
   ]
  },
  {
   "cell_type": "markdown",
   "metadata": {},
   "source": [
    "Let's preview some data:"
   ]
  },
  {
   "cell_type": "code",
   "execution_count": 10,
   "metadata": {},
   "outputs": [
    {
     "name": "stdout",
     "output_type": "stream",
     "text": [
      "YEAR,MONTH,DAY_OF_MONTH,OP_CARRIER,TAIL_NUM,OP_CARRIER_FL_NUM,ORIGIN,ORIGIN_CITY_NAME,ORIGIN_STATE_ABR,DEST,DEST_CITY_NAME,DEST_STATE_ABR,CRS_DEP_TIME,DEP_TIME,DEP_DELAY,DEP_TIME_BLK,CRS_ARR_TIME,ARR_TIME,ARR_DELAY,ARR_TIME_BLK,CANCELLED,DIVERTED,CRS_ELAPSED_TIME,ACTUAL_ELAPSED_TIME,CARRIER_DELAY,WEATHER_DELAY,NAS_DELAY,SECURITY_DELAY,LATE_AIRCRAFT_DELAY,DIV_REACHED_DEST,DIV_ACTUAL_ELAPSED_TIME,DIV_ARR_DELAY,DIV_DISTANCE,DIV1_AIRPORT\n",
      "2017,1,1,AA,N3HMAA,52,LAX,\"Los Angeles, CA\",CA,DCA,\"Washington, DC\",VA,1240,1237,-3.00,1200-1259,2037,2025,-12.00,2000-2059,0.00,0.00,297.00,288.00,,,,,,,,,,\n",
      "2017,1,2,AA,N3CFAA,52,LAX,\"Los Angeles, CA\",CA,DCA,\"Washington, DC\",VA,1240,1252,12.00,1200-1259,2037,2028,-9.00,2000-2059,0.00,0.00,297.00,276.00,,,,,,,,,,\n",
      "2017,1,3,AA,N3NRAA,52,LAX,\"Los Angeles, CA\",CA,DCA,\"Washington, DC\",VA,1240,1238,-2.00,1200-1259,2037,1954,-43.00,2000-2059,0.00,0.00,297.00,256.00,,,,,,,,,,\n",
      "2017,1,4,AA,N3GAAA,52,LAX,\"Los Angeles, CA\",CA,DCA,\"Washington, DC\",VA,1240,1314,34.00,1200-1259,2037,2111,34.00,2000-2059,0.00,0.00,297.00,297.00,34.00,0.00,0.00,0.00,0.00,,,,,\n"
     ]
    }
   ],
   "source": [
    "!csvcut -c 1-34 flights_original.csv | head -n 5"
   ]
  },
  {
   "cell_type": "markdown",
   "metadata": {},
   "source": [
    "**Variable Descriptions**"
   ]
  },
  {
   "cell_type": "markdown",
   "metadata": {},
   "source": [
    "Please find a description of all variables below:\n",
    "- YEAR: Flight year\n",
    "- MONTH: Flight month\n",
    "- DAY_OF_MONTH: Flight day\n",
    "- OP_CARRIER: Airline (e.g: UA, WN, AA…)\n",
    "- TAIL_NUM: Plane registration number (unique)\n",
    "- OP_CARRIER_FL_NUM: Flight number\n",
    "- ORIGIN:  Origin / Departure Airport Code (e.g.: IAD, DCA…)\n",
    "- ORIGIN_CITY_NAME: City, State Abbreviation - we can wrangle this to just get city name\n",
    "- ORIGIN_STATE_ABR: State Abbreviation (e.g.: VA)\n",
    "- DEST: Destination / Arrival Airport Code (e.g.: IAD, DCA…)\n",
    "- DEST_CITY_NAME: City, State Abbreviation - we can wrangle this to just get city name\n",
    "- DEST_STATE_ABR: State Abbreviation (e.g.: VA)\n",
    "- CRS_DEP_TIME: Scheduled departure time (Computer Reservation System)\n",
    "- DEP_TIME: Actual departure time\n",
    "- DEP_DELAY: Actual - Scheduled time (can be - and +)\n",
    "- DEP_TIME_BLK: Distribution of actual departure time and scheduled time by time block\n",
    "- CRS_ARR_TIME: Scheduled arrival time (Computer Reservation System)\n",
    "- ARR_TIME: Actual arrival time\n",
    "- ARR_DELAY: Actual - Scheduled time (can be - and +)\n",
    "- ARR_TIME_BLK: Distribution of actual arrival time and scheduled time by time block\n",
    "- CANCELLED: Flights cancelled\n",
    "- DIVERTED: Filghts diverted to places other than original destinations\n",
    "- CRS_ELAPSED_TIME: Scheduled flight length (includes ground movement)\n",
    "- ACTUAL_ELAPSED_TIME: Actual flight length (includes ground movement)\n",
    "- CARRIER_DELAY: Minute delays caused by carrier\n",
    "- WEATHER_DELAY: Minute delays caused by weather\n",
    "- NAS_DELAY: Minute delays caused by air traffic\n",
    "- SECURITY_DELAY: Minute delays caused by security reasons\n",
    "- LATE_AIRCRAFT_DELAY: Minute delays caused by late inbound aircraft"
   ]
  },
  {
   "cell_type": "markdown",
   "metadata": {},
   "source": [
    "**Facts & Dimensions**"
   ]
  },
  {
   "cell_type": "markdown",
   "metadata": {},
   "source": [
    "The following variables are dimensions:\n",
    "- YEAR\n",
    "- MONTH\n",
    "- DAY_OF_MONTH\n",
    "- OP_CARRIER\n",
    "- TAIL_NUM\n",
    "- OP_CARRIER_FL_NUM\n",
    "- ORIGIN\n",
    "- ORIGIN_CITY_NAME\n",
    "- ORIGIN_STATE_ABR\n",
    "- CRS_DEP_TIME\n",
    "- DEP_TIME\n",
    "- DEP_TIME_BLK\n",
    "- DEST\n",
    "- DEST_CITY_NAME\n",
    "- DEST_STATE_ABR\n",
    "- CRS_ARR_TIME\n",
    "- ARR_TIME\n",
    "- ARR_TIME_BLK\n",
    "- CANCELLED\n",
    "- DIVERTED\n",
    "- CRS_ELAPSED_TIME\n",
    "- ACTUAL_ELAPSED_TIME\n",
    "\n",
    "And the following variables are facts:\n",
    "- DEP_DELAY\n",
    "- ARR_DELAY\n",
    "- CARRIER_DELAY\n",
    "- WEATHER_DELAY\n",
    "- NAS_DELAY\n",
    "- SECURITY_DELAY\n",
    "- LATE_AIRCRAFT_DELAY\n"
   ]
  },
  {
   "cell_type": "markdown",
   "metadata": {},
   "source": [
    "The schema that we designed in the following contains only one fact table. We decided to have one fact table becasue we think that each flight is an unique record. Therefore, it makes sence to have flight as a fact."
   ]
  },
  {
   "cell_type": "markdown",
   "metadata": {},
   "source": [
    "**Project Goals & Next Steps**"
   ]
  },
  {
   "cell_type": "markdown",
   "metadata": {},
   "source": [
    "Based on this information we seek to answer the following questions / accomplish the following goals:\n",
    "- How do airlines and airports perform? Noted that evaluation is based on the percentage of arrival and departure delayed flight.\n",
    "- Which airlines experience the most and least delays flying out/in of VA airports?\n",
    "- Which VA airport has the highest/lowest average arrival / departure minute delay?\n",
    "- What is the main causes for delays for airlines flying out/in VA airports? What are the average delayed time of flight delay resulting from the same reason?\n",
    "- What are the timeblocks in the day when there is the highest/lowest average delay?"
   ]
  },
  {
   "cell_type": "markdown",
   "metadata": {},
   "source": [
    "Based on the exploration conducted above as well as our project goals, we will need to accomplish the following wrangling tasks:\n",
    "- Clean the data on issues such as data type, missing data, mismatched data\n",
    "- Add columns about geographic information for the airports\n",
    "- Delete columns that are considered redundant based on our schema\n",
    "\n",
    "The detailed process of wrangling is specified in Part 2 "
   ]
  },
  {
   "cell_type": "markdown",
   "metadata": {},
   "source": [
    "After the wrangling is completed, we expect our schema to be the following (includes the tables that we will add for the bonus section):"
   ]
  },
  {
   "cell_type": "markdown",
   "metadata": {},
   "source": [
    "<img src=\"https://s3.amazonaws.com/2018-dmfa-group7/final_project/schema.png\">"
   ]
  },
  {
   "cell_type": "markdown",
   "metadata": {},
   "source": [
    "---"
   ]
  },
  {
   "cell_type": "markdown",
   "metadata": {},
   "source": [
    "### Part 2 - Wrangling & Data Preparation"
   ]
  },
  {
   "cell_type": "markdown",
   "metadata": {},
   "source": [
    "#### Trifacta"
   ]
  },
  {
   "cell_type": "markdown",
   "metadata": {},
   "source": [
    "We downloaded our *flights.csv* file and uploaded it to Triffacta. Given that the file size was below 100MB we had no trouble wrangling the data in a single process."
   ]
  },
  {
   "cell_type": "markdown",
   "metadata": {},
   "source": [
    "Before we wrangle the data, since the dataset only contains the Year, Month, Day information for the departure, we would like to create the date information for arrivals so that we correctly label the arrival date for flights that arrive overnight (on the next day). Our method to create the arrival date information is described below."
   ]
  },
  {
   "cell_type": "markdown",
   "metadata": {},
   "source": [
    "**Wrangling using Trifacta**"
   ]
  },
  {
   "cell_type": "markdown",
   "metadata": {},
   "source": [
    "The main steps we wrangled our data include: <br>\n",
    "- a. Filtered and dropped the rows where the flight is canceled or diverted using since we will focus on analyzing delays; <br>\n",
    "- b. Dealt with null values. Specifically for the five columns that record the minutes for each reason of delays, there are null values if the flight did not delay. We replace all the nulls with '0' which makes sense if the flight was not delayed and it would not harm our analysis;<br>\n",
    "- c. Joined another csv file we found based on the unique airport name (eg. 'DCA') to create the longitude and latitude for both origin airports and destination airpots;<br>\n",
    "- d. Created a column name 'overnight' using 'IF...ELSE' function based on our method explained above;<br>\n",
    "- e. Merged the YEAR, MONTH, DAY to create a new column of departure date, then use 'DATEADD' function to create the correct arrival date for overnight flights, and save the arrival date for all flights in a new column;<br>\n",
    "- f. Splitted the arrival date column to retrieve year, month, day of arrival in three columns;<br>\n",
    "- g. Formatted, renamed and reordered some coloumns to ensure the correct data type, column name and appropriate order for our schema;<br>\n",
    "- h. Dropped columns that will not be used for this project based on our designed schema."
   ]
  },
  {
   "cell_type": "markdown",
   "metadata": {},
   "source": [
    "**Recipe**"
   ]
  },
  {
   "cell_type": "markdown",
   "metadata": {},
   "source": [
    "Please find our final recipe below:"
   ]
  },
  {
   "cell_type": "markdown",
   "metadata": {},
   "source": [
    "<img width=\"40%\" src=\"https://s3.amazonaws.com/2018-dmfa-group7/final_project/recipe.jpg\"/>"
   ]
  },
  {
   "cell_type": "markdown",
   "metadata": {},
   "source": [
    "Please note that this is how we calculated how long our overnight interval should be (this will take a few seconds):"
   ]
  },
  {
   "cell_type": "code",
   "execution_count": 11,
   "metadata": {},
   "outputs": [
    {
     "name": "stdout",
     "output_type": "stream",
     "text": [
      "648\n"
     ]
    }
   ],
   "source": [
    "!csvcut flights_original.csv -c CRS_ELAPSED_TIME | csvstat --max"
   ]
  },
  {
   "cell_type": "markdown",
   "metadata": {},
   "source": [
    "The longest flight was scheduled to last 648 minutes which equals to about 11 hours:\n",
    "- For the last possible arrival on the same day: 2359-11h = 1259 (military time); this means that if the longest flight took off by 12:59PM (1:00PM rounded) it will arrive to its destination on the same day.\n",
    "- For the latest arrival: 2359+11h = 1059 (military time); this means that if the longest flight took off at 11:59PM (latest possible time) it will arrive to its destination by 10:59AM (11:00AM rounded).\n",
    "\n",
    "We will therefore label a flight as being an overnight flights if it took off after **1:00PM** (rounded) and landed before **11:00AM** (rounded). This will work because if a flight does not cross into the following day, there is no way it will travel back in time to landing before the take-off time. \n",
    "\n",
    "We are aware of the different timezones in the United States, but given that there is a two-hour difference between the two times, it means that a flight would have to go through three timezones in one hour to 'travel back' to 11:00AM. In other words, a flight would have to go from Indiana's most western point (EST = 1PM) to Nevada most easter point (PST = 10AM) at a speed of:"
   ]
  },
  {
   "cell_type": "code",
   "execution_count": 12,
   "metadata": {},
   "outputs": [
    {
     "data": {
      "text/plain": [
       "2256.0"
      ]
     },
     "execution_count": 12,
     "metadata": {},
     "output_type": "execute_result"
    }
   ],
   "source": [
    "distance_km = 2256 #Source: https://www.distancefromto.net/\n",
    "time_hour = 1\n",
    "speed = (distance_km)/(time_hour)\n",
    "speed"
   ]
  },
  {
   "cell_type": "markdown",
   "metadata": {},
   "source": [
    "This speed is even higher than the maxmimum speed at which the Concorde (fastes passenger plane ever built) was capabale of flying (around 2,172 km/h according to http://www.guinnessworldrecords.com/news/60at60/2015/8/1996-fastest-flight-across-the-atlantic-in-a-commercial-aircraft-392882 ). To summarize, there is no way a plane would be able to take-off at 1:00PM somewhere in the United States and land at 11:00AM of the same day somewhere in the United States."
   ]
  },
  {
   "cell_type": "markdown",
   "metadata": {},
   "source": [
    "**Loading the Data**"
   ]
  },
  {
   "cell_type": "markdown",
   "metadata": {},
   "source": [
    "Let's download the wrangled dataset:"
   ]
  },
  {
   "cell_type": "code",
   "execution_count": 13,
   "metadata": {},
   "outputs": [
    {
     "name": "stdout",
     "output_type": "stream",
     "text": [
      "--2018-12-10 17:48:04--  https://s3.amazonaws.com/2018-dmfa-group7/final_project/VA_flight_delays_2017_final.csv\n",
      "Resolving s3.amazonaws.com (s3.amazonaws.com)... 52.216.165.93\n",
      "Connecting to s3.amazonaws.com (s3.amazonaws.com)|52.216.165.93|:443... connected.\n",
      "HTTP request sent, awaiting response... 200 OK\n",
      "Length: 60381737 (58M) [text/csv]\n",
      "Saving to: ‘VA_flight_delays_2017_final.csv’\n",
      "\n",
      "VA_flight_delays_20 100%[===================>]  57.58M  34.3MB/s    in 1.7s    \n",
      "\n",
      "2018-12-10 17:48:05 (34.3 MB/s) - ‘VA_flight_delays_2017_final.csv’ saved [60381737/60381737]\n",
      "\n"
     ]
    }
   ],
   "source": [
    "!wget https://s3.amazonaws.com/2018-dmfa-group7/final_project/VA_flight_delays_2017_final.csv"
   ]
  },
  {
   "cell_type": "markdown",
   "metadata": {},
   "source": [
    "Similarly to what we did above, let's rename this file:"
   ]
  },
  {
   "cell_type": "code",
   "execution_count": 14,
   "metadata": {},
   "outputs": [],
   "source": [
    "!mv VA_flight_delays_2017_final.csv flights.csv"
   ]
  },
  {
   "cell_type": "markdown",
   "metadata": {},
   "source": [
    "Let's obtain a row count:"
   ]
  },
  {
   "cell_type": "code",
   "execution_count": 15,
   "metadata": {},
   "outputs": [
    {
     "name": "stdout",
     "output_type": "stream",
     "text": [
      "Killed\n"
     ]
    }
   ],
   "source": [
    "!csvstat --count flights.csv"
   ]
  },
  {
   "cell_type": "markdown",
   "metadata": {},
   "source": [
    "Let's preview the column names:"
   ]
  },
  {
   "cell_type": "code",
   "execution_count": 16,
   "metadata": {},
   "outputs": [
    {
     "name": "stdout",
     "output_type": "stream",
     "text": [
      "  1: DEP_YEAR\n",
      "  2: DEP_MONTH\n",
      "  3: DEP_DAY_OF_MONTH\n",
      "  4: OP_CARRIER\n",
      "  5: TAIL_NUM\n",
      "  6: OP_CARRIER_FL_NUM\n",
      "  7: ORIGIN\n",
      "  8: ORIGIN_CITY_NAME\n",
      "  9: ORIGIN_STATE_ABR\n",
      " 10: DEST\n",
      " 11: DEST_CITY_NAME\n",
      " 12: DEST_STATE_ABR\n",
      " 13: DEP_DELAY\n",
      " 14: DEP_TIME_BLK\n",
      " 15: ARR_YEAR\n",
      " 16: ARR_MONTH\n",
      " 17: ARR_DAY\n",
      " 18: ARR_DELAY\n",
      " 19: ARR_TIME_BLK\n",
      " 20: CARRIER_DELAY\n",
      " 21: WEATHER_DELAY\n",
      " 22: NAS_DELAY\n",
      " 23: SECURITY_DELAY\n",
      " 24: LATE_AIRCRAFT_DELAY\n",
      " 25: ORIGIN_LATITUDE\n",
      " 26: ORGIN_LONGITUDE\n",
      " 27: DEST_LATITUDE\n",
      " 28: DEST_LONGITUDE\n"
     ]
    }
   ],
   "source": [
    "!csvcut -n flights.csv"
   ]
  },
  {
   "cell_type": "markdown",
   "metadata": {},
   "source": [
    "Let's preview the dataset:"
   ]
  },
  {
   "cell_type": "code",
   "execution_count": 17,
   "metadata": {},
   "outputs": [
    {
     "name": "stdout",
     "output_type": "stream",
     "text": [
      "| DEP_YEAR | DEP_MONTH | DEP_DAY_OF_MONTH | OP_CARRIER | TAIL_NUM | OP_CARRIER_FL_NUM | ORIGIN | ORIGIN_CITY_NAME | ORIGIN_STATE_ABR | DEST | DEST_CITY_NAME  | DEST_STATE_ABR | DEP_DELAY | DEP_TIME_BLK | ARR_YEAR | ARR_MONTH | ARR_DAY | ARR_DELAY | ARR_TIME_BLK | CARRIER_DELAY | WEATHER_DELAY | NAS_DELAY | SECURITY_DELAY | LATE_AIRCRAFT_DELAY | ORIGIN_LATITUDE | ORGIN_LONGITUDE | DEST_LATITUDE | DEST_LONGITUDE |\n",
      "| -------- | --------- | ---------------- | ---------- | -------- | ----------------- | ------ | ---------------- | ---------------- | ---- | --------------- | -------------- | --------- | ------------ | -------- | --------- | ------- | --------- | ------------ | ------------- | ------------- | --------- | -------------- | ------------------- | --------------- | --------------- | ------------- | -------------- |\n",
      "|    2,017 |      True |                5 | WN         | N258WN   |               284 | DCA    | Washington, DC   | VA               | MSY  | New Orleans, LA | LA             |        18 | 1200-1259    |    2,017 |      True |       5 |         8 | 1400-1459    |         False |         False |     False |          False |               False |         38.851… |        -77.038… |       29.993… |       -90.259… |\n"
     ]
    }
   ],
   "source": [
    "!head -2 flights.csv | csvlook"
   ]
  },
  {
   "cell_type": "markdown",
   "metadata": {},
   "source": [
    "Please note that we added the following variables:\n",
    "- Date information for arrivals. This includes three columns which are 'ARR_YEAR', 'ARR_MONTH', and 'ARR_DAY';\n",
    "- Geographic information for aiports. This includes four columns which are 'ORIGIN_LATITUDE', 'ORGIN_LONGITUDE', 'DEST_LATITUDE', and 'DEST_LONGITUDE'.\n",
    "\n",
    "Thus a total of 7 columns were added to the original dataset."
   ]
  },
  {
   "cell_type": "markdown",
   "metadata": {},
   "source": [
    "#### Creating The Schema"
   ]
  },
  {
   "cell_type": "markdown",
   "metadata": {},
   "source": [
    "Let's start by loading the SQL environment, dropping the database if it already exists, creating a new database and loading it:"
   ]
  },
  {
   "cell_type": "code",
   "execution_count": 1,
   "metadata": {},
   "outputs": [],
   "source": [
    "%load_ext sql"
   ]
  },
  {
   "cell_type": "code",
   "execution_count": 19,
   "metadata": {},
   "outputs": [],
   "source": [
    "!dropdb --if-exists -U student FinalProject"
   ]
  },
  {
   "cell_type": "code",
   "execution_count": 20,
   "metadata": {},
   "outputs": [],
   "source": [
    "!createdb -U student FinalProject"
   ]
  },
  {
   "cell_type": "code",
   "execution_count": 2,
   "metadata": {},
   "outputs": [
    {
     "data": {
      "text/plain": [
       "'Connected: student@FinalProject'"
      ]
     },
     "execution_count": 2,
     "metadata": {},
     "output_type": "execute_result"
    }
   ],
   "source": [
    "%sql postgresql://student@/FinalProject"
   ]
  },
  {
   "cell_type": "markdown",
   "metadata": {},
   "source": [
    "Now that we have SQL configured, let's go ahead and create our master table (this is where we will import our CSV data into. We will first drop the table if it already exists and then create the different variables: [UPDATE]"
   ]
  },
  {
   "cell_type": "code",
   "execution_count": 22,
   "metadata": {},
   "outputs": [
    {
     "name": "stdout",
     "output_type": "stream",
     "text": [
      " * postgresql://student@/FinalProject\n",
      "Done.\n",
      "Done.\n"
     ]
    },
    {
     "data": {
      "text/plain": [
       "[]"
      ]
     },
     "execution_count": 22,
     "metadata": {},
     "output_type": "execute_result"
    }
   ],
   "source": [
    "%%sql\n",
    "DROP TABLE IF EXISTS flight_perf;\n",
    "\n",
    "CREATE TABLE flight_perf (\n",
    "    dep_year INTEGER,\n",
    "    dep_month INTEGER,\n",
    "    dep_day INTEGER,\n",
    "    carrier CHAR(2),\n",
    "    tail_num CHAR(6),\n",
    "    fl_num VARCHAR(8),\n",
    "    dep_airport CHAR(3),\n",
    "    dep_city VARCHAR(50),\n",
    "    dep_state CHAR(2),\n",
    "    arr_airport CHAR(3),\n",
    "    arr_city VARCHAR(50),\n",
    "    arr_state CHAR(2),\n",
    "    dep_delay INTEGER,\n",
    "    dep_timeblock CHAR(9),\n",
    "    arr_year INTEGER,\n",
    "    arr_month INTEGER,\n",
    "    arr_day INTEGER,\n",
    "    arr_delay INTEGER,\n",
    "    arr_timeblock CHAR(9),\n",
    "    reason_carrier INTEGER,\n",
    "    reason_weather INTEGER,\n",
    "    reason_airtraffic INTEGER,\n",
    "    reason_security INTEGER,\n",
    "    reason_lateplane INTEGER,\n",
    "    dep_lat FLOAT,\n",
    "    dep_lon FLOAT,\n",
    "    arr_lat FLOAT,\n",
    "    arr_lon FLOAT\n",
    ")"
   ]
  },
  {
   "cell_type": "markdown",
   "metadata": {},
   "source": [
    "Let's preview our table (there will be no records, just headers):"
   ]
  },
  {
   "cell_type": "code",
   "execution_count": 23,
   "metadata": {},
   "outputs": [
    {
     "name": "stdout",
     "output_type": "stream",
     "text": [
      " * postgresql://student@/FinalProject\n",
      "0 rows affected.\n"
     ]
    },
    {
     "data": {
      "text/html": [
       "<table>\n",
       "    <tr>\n",
       "        <th>dep_year</th>\n",
       "        <th>dep_month</th>\n",
       "        <th>dep_day</th>\n",
       "        <th>carrier</th>\n",
       "        <th>tail_num</th>\n",
       "        <th>fl_num</th>\n",
       "        <th>dep_airport</th>\n",
       "        <th>dep_city</th>\n",
       "        <th>dep_state</th>\n",
       "        <th>arr_airport</th>\n",
       "        <th>arr_city</th>\n",
       "        <th>arr_state</th>\n",
       "        <th>dep_delay</th>\n",
       "        <th>dep_timeblock</th>\n",
       "        <th>arr_year</th>\n",
       "        <th>arr_month</th>\n",
       "        <th>arr_day</th>\n",
       "        <th>arr_delay</th>\n",
       "        <th>arr_timeblock</th>\n",
       "        <th>reason_carrier</th>\n",
       "        <th>reason_weather</th>\n",
       "        <th>reason_airtraffic</th>\n",
       "        <th>reason_security</th>\n",
       "        <th>reason_lateplane</th>\n",
       "        <th>dep_lat</th>\n",
       "        <th>dep_lon</th>\n",
       "        <th>arr_lat</th>\n",
       "        <th>arr_lon</th>\n",
       "    </tr>\n",
       "</table>"
      ],
      "text/plain": [
       "[]"
      ]
     },
     "execution_count": 23,
     "metadata": {},
     "output_type": "execute_result"
    }
   ],
   "source": [
    "%%sql\n",
    "SELECT * \n",
    "FROM flight_perf\n",
    "LIMIT 10"
   ]
  },
  {
   "cell_type": "markdown",
   "metadata": {},
   "source": [
    "Now that the table has been created, we will fill it with the contents in our *flights.csv* file:"
   ]
  },
  {
   "cell_type": "code",
   "execution_count": 24,
   "metadata": {},
   "outputs": [
    {
     "name": "stdout",
     "output_type": "stream",
     "text": [
      " * postgresql://student@/FinalProject\n",
      "280074 rows affected.\n"
     ]
    },
    {
     "data": {
      "text/plain": [
       "[]"
      ]
     },
     "execution_count": 24,
     "metadata": {},
     "output_type": "execute_result"
    }
   ],
   "source": [
    "%%sql\n",
    "COPY flight_perf FROM '/home/ubuntu/flights.csv'\n",
    "CSV\n",
    "HEADER;"
   ]
  },
  {
   "cell_type": "markdown",
   "metadata": {},
   "source": [
    "Let's see what it looks like:"
   ]
  },
  {
   "cell_type": "code",
   "execution_count": 25,
   "metadata": {},
   "outputs": [
    {
     "name": "stdout",
     "output_type": "stream",
     "text": [
      " * postgresql://student@/FinalProject\n",
      "5 rows affected.\n"
     ]
    },
    {
     "data": {
      "text/html": [
       "<table>\n",
       "    <tr>\n",
       "        <th>dep_year</th>\n",
       "        <th>dep_month</th>\n",
       "        <th>dep_day</th>\n",
       "        <th>carrier</th>\n",
       "        <th>tail_num</th>\n",
       "        <th>fl_num</th>\n",
       "        <th>dep_airport</th>\n",
       "        <th>dep_city</th>\n",
       "        <th>dep_state</th>\n",
       "        <th>arr_airport</th>\n",
       "        <th>arr_city</th>\n",
       "        <th>arr_state</th>\n",
       "        <th>dep_delay</th>\n",
       "        <th>dep_timeblock</th>\n",
       "        <th>arr_year</th>\n",
       "        <th>arr_month</th>\n",
       "        <th>arr_day</th>\n",
       "        <th>arr_delay</th>\n",
       "        <th>arr_timeblock</th>\n",
       "        <th>reason_carrier</th>\n",
       "        <th>reason_weather</th>\n",
       "        <th>reason_airtraffic</th>\n",
       "        <th>reason_security</th>\n",
       "        <th>reason_lateplane</th>\n",
       "        <th>dep_lat</th>\n",
       "        <th>dep_lon</th>\n",
       "        <th>arr_lat</th>\n",
       "        <th>arr_lon</th>\n",
       "    </tr>\n",
       "    <tr>\n",
       "        <td>2017</td>\n",
       "        <td>1</td>\n",
       "        <td>5</td>\n",
       "        <td>WN</td>\n",
       "        <td>N258WN</td>\n",
       "        <td>284</td>\n",
       "        <td>DCA</td>\n",
       "        <td>Washington, DC</td>\n",
       "        <td>VA</td>\n",
       "        <td>MSY</td>\n",
       "        <td>New Orleans, LA</td>\n",
       "        <td>LA</td>\n",
       "        <td>18</td>\n",
       "        <td>1200-1259</td>\n",
       "        <td>2017</td>\n",
       "        <td>1</td>\n",
       "        <td>5</td>\n",
       "        <td>8</td>\n",
       "        <td>1400-1459</td>\n",
       "        <td>0</td>\n",
       "        <td>0</td>\n",
       "        <td>0</td>\n",
       "        <td>0</td>\n",
       "        <td>0</td>\n",
       "        <td>38.85138889</td>\n",
       "        <td>-77.03777778</td>\n",
       "        <td>29.99333333</td>\n",
       "        <td>-90.25916667</td>\n",
       "    </tr>\n",
       "    <tr>\n",
       "        <td>2017</td>\n",
       "        <td>1</td>\n",
       "        <td>5</td>\n",
       "        <td>WN</td>\n",
       "        <td>N710SW</td>\n",
       "        <td>4850</td>\n",
       "        <td>DCA</td>\n",
       "        <td>Washington, DC</td>\n",
       "        <td>VA</td>\n",
       "        <td>MSY</td>\n",
       "        <td>New Orleans, LA</td>\n",
       "        <td>LA</td>\n",
       "        <td>16</td>\n",
       "        <td>1800-1859</td>\n",
       "        <td>2017</td>\n",
       "        <td>1</td>\n",
       "        <td>5</td>\n",
       "        <td>13</td>\n",
       "        <td>2000-2059</td>\n",
       "        <td>0</td>\n",
       "        <td>0</td>\n",
       "        <td>0</td>\n",
       "        <td>0</td>\n",
       "        <td>0</td>\n",
       "        <td>38.85138889</td>\n",
       "        <td>-77.03777778</td>\n",
       "        <td>29.99333333</td>\n",
       "        <td>-90.25916667</td>\n",
       "    </tr>\n",
       "    <tr>\n",
       "        <td>2017</td>\n",
       "        <td>1</td>\n",
       "        <td>14</td>\n",
       "        <td>WN</td>\n",
       "        <td>N955WN</td>\n",
       "        <td>2628</td>\n",
       "        <td>DCA</td>\n",
       "        <td>Washington, DC</td>\n",
       "        <td>VA</td>\n",
       "        <td>MSY</td>\n",
       "        <td>New Orleans, LA</td>\n",
       "        <td>LA</td>\n",
       "        <td>14</td>\n",
       "        <td>1800-1859</td>\n",
       "        <td>2017</td>\n",
       "        <td>1</td>\n",
       "        <td>14</td>\n",
       "        <td>-5</td>\n",
       "        <td>1900-1959</td>\n",
       "        <td>0</td>\n",
       "        <td>0</td>\n",
       "        <td>0</td>\n",
       "        <td>0</td>\n",
       "        <td>0</td>\n",
       "        <td>38.85138889</td>\n",
       "        <td>-77.03777778</td>\n",
       "        <td>29.99333333</td>\n",
       "        <td>-90.25916667</td>\n",
       "    </tr>\n",
       "    <tr>\n",
       "        <td>2017</td>\n",
       "        <td>1</td>\n",
       "        <td>14</td>\n",
       "        <td>WN</td>\n",
       "        <td>N936WN</td>\n",
       "        <td>5245</td>\n",
       "        <td>DCA</td>\n",
       "        <td>Washington, DC</td>\n",
       "        <td>VA</td>\n",
       "        <td>MSY</td>\n",
       "        <td>New Orleans, LA</td>\n",
       "        <td>LA</td>\n",
       "        <td>-3</td>\n",
       "        <td>1100-1159</td>\n",
       "        <td>2017</td>\n",
       "        <td>1</td>\n",
       "        <td>14</td>\n",
       "        <td>-24</td>\n",
       "        <td>1300-1359</td>\n",
       "        <td>0</td>\n",
       "        <td>0</td>\n",
       "        <td>0</td>\n",
       "        <td>0</td>\n",
       "        <td>0</td>\n",
       "        <td>38.85138889</td>\n",
       "        <td>-77.03777778</td>\n",
       "        <td>29.99333333</td>\n",
       "        <td>-90.25916667</td>\n",
       "    </tr>\n",
       "    <tr>\n",
       "        <td>2017</td>\n",
       "        <td>1</td>\n",
       "        <td>15</td>\n",
       "        <td>WN</td>\n",
       "        <td>N449WN</td>\n",
       "        <td>5122</td>\n",
       "        <td>DCA</td>\n",
       "        <td>Washington, DC</td>\n",
       "        <td>VA</td>\n",
       "        <td>MSY</td>\n",
       "        <td>New Orleans, LA</td>\n",
       "        <td>LA</td>\n",
       "        <td>-5</td>\n",
       "        <td>1200-1259</td>\n",
       "        <td>2017</td>\n",
       "        <td>1</td>\n",
       "        <td>15</td>\n",
       "        <td>-21</td>\n",
       "        <td>1400-1459</td>\n",
       "        <td>0</td>\n",
       "        <td>0</td>\n",
       "        <td>0</td>\n",
       "        <td>0</td>\n",
       "        <td>0</td>\n",
       "        <td>38.85138889</td>\n",
       "        <td>-77.03777778</td>\n",
       "        <td>29.99333333</td>\n",
       "        <td>-90.25916667</td>\n",
       "    </tr>\n",
       "</table>"
      ],
      "text/plain": [
       "[(2017, 1, 5, 'WN', 'N258WN', '284', 'DCA', 'Washington, DC', 'VA', 'MSY', 'New Orleans, LA', 'LA', 18, '1200-1259', 2017, 1, 5, 8, '1400-1459', 0, 0, 0, 0, 0, 38.85138889, -77.03777778, 29.99333333, -90.25916667),\n",
       " (2017, 1, 5, 'WN', 'N710SW', '4850', 'DCA', 'Washington, DC', 'VA', 'MSY', 'New Orleans, LA', 'LA', 16, '1800-1859', 2017, 1, 5, 13, '2000-2059', 0, 0, 0, 0, 0, 38.85138889, -77.03777778, 29.99333333, -90.25916667),\n",
       " (2017, 1, 14, 'WN', 'N955WN', '2628', 'DCA', 'Washington, DC', 'VA', 'MSY', 'New Orleans, LA', 'LA', 14, '1800-1859', 2017, 1, 14, -5, '1900-1959', 0, 0, 0, 0, 0, 38.85138889, -77.03777778, 29.99333333, -90.25916667),\n",
       " (2017, 1, 14, 'WN', 'N936WN', '5245', 'DCA', 'Washington, DC', 'VA', 'MSY', 'New Orleans, LA', 'LA', -3, '1100-1159', 2017, 1, 14, -24, '1300-1359', 0, 0, 0, 0, 0, 38.85138889, -77.03777778, 29.99333333, -90.25916667),\n",
       " (2017, 1, 15, 'WN', 'N449WN', '5122', 'DCA', 'Washington, DC', 'VA', 'MSY', 'New Orleans, LA', 'LA', -5, '1200-1259', 2017, 1, 15, -21, '1400-1459', 0, 0, 0, 0, 0, 38.85138889, -77.03777778, 29.99333333, -90.25916667)]"
      ]
     },
     "execution_count": 25,
     "metadata": {},
     "output_type": "execute_result"
    }
   ],
   "source": [
    "%%sql\n",
    "SELECT *\n",
    "FROM flight_perf\n",
    "LIMIT 5;"
   ]
  },
  {
   "cell_type": "markdown",
   "metadata": {},
   "source": [
    " Beautiful!"
   ]
  },
  {
   "cell_type": "markdown",
   "metadata": {},
   "source": [
    "Now that we have our fact table created, we will go ahead and create our dimension tables. Based on the schema above, we are going to have the following tables:\n",
    "- `AIRPORT`\n",
    "- `AIRLINE`\n",
    "- `DATETIME`\n",
    "- `FLIGHT`\n",
    "- `AIRCRAFT`\n",
    "- `WEATHER`"
   ]
  },
  {
   "cell_type": "markdown",
   "metadata": {},
   "source": [
    "**Airline Table**"
   ]
  },
  {
   "cell_type": "markdown",
   "metadata": {},
   "source": [
    "Let's start with the `airline` table. We'll start by creating an empty table:"
   ]
  },
  {
   "cell_type": "code",
   "execution_count": 26,
   "metadata": {},
   "outputs": [
    {
     "name": "stdout",
     "output_type": "stream",
     "text": [
      " * postgresql://student@/FinalProject\n",
      "Done.\n",
      "Done.\n"
     ]
    },
    {
     "data": {
      "text/plain": [
       "[]"
      ]
     },
     "execution_count": 26,
     "metadata": {},
     "output_type": "execute_result"
    }
   ],
   "source": [
    "%%sql\n",
    "DROP TABLE IF EXISTS airline;\n",
    "\n",
    "CREATE TABLE airline (\n",
    "    airline_key SERIAL PRIMARY KEY,\n",
    "    carrier CHAR(2)\n",
    "   \n",
    ")"
   ]
  },
  {
   "cell_type": "markdown",
   "metadata": {},
   "source": [
    "We'll now insert information from our main `flight_perf` table into the newly-created `airline` table:"
   ]
  },
  {
   "cell_type": "code",
   "execution_count": 27,
   "metadata": {},
   "outputs": [
    {
     "name": "stdout",
     "output_type": "stream",
     "text": [
      " * postgresql://student@/FinalProject\n",
      "10 rows affected.\n"
     ]
    },
    {
     "data": {
      "text/plain": [
       "[]"
      ]
     },
     "execution_count": 27,
     "metadata": {},
     "output_type": "execute_result"
    }
   ],
   "source": [
    "%%sql\n",
    "INSERT INTO airline (carrier)\n",
    "SELECT DISTINCT carrier\n",
    "FROM flight_perf;"
   ]
  },
  {
   "cell_type": "code",
   "execution_count": 28,
   "metadata": {},
   "outputs": [
    {
     "name": "stdout",
     "output_type": "stream",
     "text": [
      " * postgresql://student@/FinalProject\n",
      "10 rows affected.\n"
     ]
    },
    {
     "data": {
      "text/html": [
       "<table>\n",
       "    <tr>\n",
       "        <th>airline_key</th>\n",
       "        <th>carrier</th>\n",
       "    </tr>\n",
       "    <tr>\n",
       "        <td>7</td>\n",
       "        <td>AA</td>\n",
       "    </tr>\n",
       "    <tr>\n",
       "        <td>1</td>\n",
       "        <td>AS</td>\n",
       "    </tr>\n",
       "    <tr>\n",
       "        <td>2</td>\n",
       "        <td>B6</td>\n",
       "    </tr>\n",
       "    <tr>\n",
       "        <td>4</td>\n",
       "        <td>DL</td>\n",
       "    </tr>\n",
       "    <tr>\n",
       "        <td>8</td>\n",
       "        <td>EV</td>\n",
       "    </tr>\n",
       "    <tr>\n",
       "        <td>6</td>\n",
       "        <td>F9</td>\n",
       "    </tr>\n",
       "    <tr>\n",
       "        <td>10</td>\n",
       "        <td>OO</td>\n",
       "    </tr>\n",
       "    <tr>\n",
       "        <td>5</td>\n",
       "        <td>UA</td>\n",
       "    </tr>\n",
       "    <tr>\n",
       "        <td>3</td>\n",
       "        <td>VX</td>\n",
       "    </tr>\n",
       "    <tr>\n",
       "        <td>9</td>\n",
       "        <td>WN</td>\n",
       "    </tr>\n",
       "</table>"
      ],
      "text/plain": [
       "[(7, 'AA'),\n",
       " (1, 'AS'),\n",
       " (2, 'B6'),\n",
       " (4, 'DL'),\n",
       " (8, 'EV'),\n",
       " (6, 'F9'),\n",
       " (10, 'OO'),\n",
       " (5, 'UA'),\n",
       " (3, 'VX'),\n",
       " (9, 'WN')]"
      ]
     },
     "execution_count": 28,
     "metadata": {},
     "output_type": "execute_result"
    }
   ],
   "source": [
    "%%sql\n",
    "SELECT *\n",
    "FROM airline\n",
    "ORDER BY carrier"
   ]
  },
  {
   "cell_type": "markdown",
   "metadata": {},
   "source": [
    "To verify that we got all of the airlines covered, let's quickly run a pipe command on our CSV file to retrieve the airline names (we will start by selecting only the OP_CARRIER column, sorting it in ascending order, and printing the distinct values):"
   ]
  },
  {
   "cell_type": "code",
   "execution_count": 29,
   "metadata": {},
   "outputs": [
    {
     "name": "stdout",
     "output_type": "stream",
     "text": [
      "OP_CARRIER\n",
      "AA\n",
      "AS\n",
      "B6\n",
      "DL\n",
      "EV\n",
      "F9\n",
      "OO\n",
      "UA\n",
      "VX\n",
      "WN\n"
     ]
    }
   ],
   "source": [
    "!head -n 8000 flights_original.csv | csvcut -c OP_CARRIER | csvsort | uniq"
   ]
  },
  {
   "cell_type": "markdown",
   "metadata": {},
   "source": [
    "We have a match!"
   ]
  },
  {
   "cell_type": "markdown",
   "metadata": {},
   "source": [
    "The next step is to create a surrogate key in the fact table (`flight_perf`) that references the airline_key column in the `airline` table:"
   ]
  },
  {
   "cell_type": "code",
   "execution_count": 30,
   "metadata": {},
   "outputs": [
    {
     "name": "stdout",
     "output_type": "stream",
     "text": [
      " * postgresql://student@/FinalProject\n",
      "Done.\n"
     ]
    },
    {
     "data": {
      "text/plain": [
       "[]"
      ]
     },
     "execution_count": 30,
     "metadata": {},
     "output_type": "execute_result"
    }
   ],
   "source": [
    "%%sql\n",
    "ALTER TABLE flight_perf\n",
    "ADD COLUMN airline_key INTEGER,\n",
    "ADD CONSTRAINT fk_airline_key\n",
    "    FOREIGN KEY (airline_key)\n",
    "    REFERENCES airline (airline_key);"
   ]
  },
  {
   "cell_type": "markdown",
   "metadata": {},
   "source": [
    "First let's create an index on all columns in `airline` to improve the performance of queries."
   ]
  },
  {
   "cell_type": "code",
   "execution_count": 31,
   "metadata": {},
   "outputs": [
    {
     "name": "stdout",
     "output_type": "stream",
     "text": [
      " * postgresql://student@/FinalProject\n",
      "Done.\n",
      "Done.\n"
     ]
    },
    {
     "data": {
      "text/plain": [
       "[]"
      ]
     },
     "execution_count": 31,
     "metadata": {},
     "output_type": "execute_result"
    }
   ],
   "source": [
    "%%sql\n",
    "DROP INDEX IF EXISTS idx_airline;\n",
    "\n",
    "CREATE INDEX idx_airline ON airline (carrier);"
   ]
  },
  {
   "cell_type": "markdown",
   "metadata": {},
   "source": [
    "We will now populate the airline_key column in `flight_perf` with some values. To do so, we'll match the data in both the `flight_perf` and `airline` tables:"
   ]
  },
  {
   "cell_type": "code",
   "execution_count": 32,
   "metadata": {},
   "outputs": [
    {
     "name": "stdout",
     "output_type": "stream",
     "text": [
      " * postgresql://student@/FinalProject\n",
      "280074 rows affected.\n"
     ]
    },
    {
     "data": {
      "text/plain": [
       "[]"
      ]
     },
     "execution_count": 32,
     "metadata": {},
     "output_type": "execute_result"
    }
   ],
   "source": [
    "%%sql\n",
    "UPDATE FLIGHT_PERF\n",
    "SET airline_key = AIRLINE.airline_key\n",
    "FROM AIRLINE\n",
    "WHERE FLIGHT_PERF.carrier = AIRLINE.carrier"
   ]
  },
  {
   "cell_type": "markdown",
   "metadata": {},
   "source": [
    "Let's preview what we did:"
   ]
  },
  {
   "cell_type": "code",
   "execution_count": 33,
   "metadata": {},
   "outputs": [
    {
     "name": "stdout",
     "output_type": "stream",
     "text": [
      " * postgresql://student@/FinalProject\n",
      "5 rows affected.\n"
     ]
    },
    {
     "data": {
      "text/html": [
       "<table>\n",
       "    <tr>\n",
       "        <th>dep_year</th>\n",
       "        <th>dep_month</th>\n",
       "        <th>dep_day</th>\n",
       "        <th>carrier</th>\n",
       "        <th>dep_airport</th>\n",
       "        <th>arr_airport</th>\n",
       "        <th>airline_key</th>\n",
       "    </tr>\n",
       "    <tr>\n",
       "        <td>2017</td>\n",
       "        <td>1</td>\n",
       "        <td>5</td>\n",
       "        <td>WN</td>\n",
       "        <td>DCA</td>\n",
       "        <td>MSY</td>\n",
       "        <td>9</td>\n",
       "    </tr>\n",
       "    <tr>\n",
       "        <td>2017</td>\n",
       "        <td>1</td>\n",
       "        <td>5</td>\n",
       "        <td>WN</td>\n",
       "        <td>DCA</td>\n",
       "        <td>MSY</td>\n",
       "        <td>9</td>\n",
       "    </tr>\n",
       "    <tr>\n",
       "        <td>2017</td>\n",
       "        <td>1</td>\n",
       "        <td>14</td>\n",
       "        <td>WN</td>\n",
       "        <td>DCA</td>\n",
       "        <td>MSY</td>\n",
       "        <td>9</td>\n",
       "    </tr>\n",
       "    <tr>\n",
       "        <td>2017</td>\n",
       "        <td>1</td>\n",
       "        <td>14</td>\n",
       "        <td>WN</td>\n",
       "        <td>DCA</td>\n",
       "        <td>MSY</td>\n",
       "        <td>9</td>\n",
       "    </tr>\n",
       "    <tr>\n",
       "        <td>2017</td>\n",
       "        <td>1</td>\n",
       "        <td>15</td>\n",
       "        <td>WN</td>\n",
       "        <td>DCA</td>\n",
       "        <td>MSY</td>\n",
       "        <td>9</td>\n",
       "    </tr>\n",
       "</table>"
      ],
      "text/plain": [
       "[(2017, 1, 5, 'WN', 'DCA', 'MSY', 9),\n",
       " (2017, 1, 5, 'WN', 'DCA', 'MSY', 9),\n",
       " (2017, 1, 14, 'WN', 'DCA', 'MSY', 9),\n",
       " (2017, 1, 14, 'WN', 'DCA', 'MSY', 9),\n",
       " (2017, 1, 15, 'WN', 'DCA', 'MSY', 9)]"
      ]
     },
     "execution_count": 33,
     "metadata": {},
     "output_type": "execute_result"
    }
   ],
   "source": [
    "%%sql\n",
    "SELECT dep_year, dep_month, dep_day, carrier, dep_airport, arr_airport, airline_key\n",
    "FROM FLIGHT_PERF\n",
    "LIMIT 5"
   ]
  },
  {
   "cell_type": "markdown",
   "metadata": {},
   "source": [
    "Great! The keys match the carriers."
   ]
  },
  {
   "cell_type": "markdown",
   "metadata": {},
   "source": [
    "**Datetime Table**"
   ]
  },
  {
   "cell_type": "markdown",
   "metadata": {},
   "source": [
    "We'll start by creating an empty table:"
   ]
  },
  {
   "cell_type": "code",
   "execution_count": 34,
   "metadata": {},
   "outputs": [
    {
     "name": "stdout",
     "output_type": "stream",
     "text": [
      " * postgresql://student@/FinalProject\n",
      "Done.\n",
      "Done.\n"
     ]
    },
    {
     "data": {
      "text/plain": [
       "[]"
      ]
     },
     "execution_count": 34,
     "metadata": {},
     "output_type": "execute_result"
    }
   ],
   "source": [
    "%%sql\n",
    "DROP TABLE IF EXISTS datetime;\n",
    "\n",
    "CREATE TABLE datetime (\n",
    "    datetime_key SERIAL PRIMARY KEY,\n",
    "    day INTEGER,\n",
    "    month INTEGER,\n",
    "    year INTEGER,\n",
    "    timeblock CHAR(9)   \n",
    ")"
   ]
  },
  {
   "cell_type": "markdown",
   "metadata": {},
   "source": [
    "We'll now insert information from our main `flight_perf` table into the newly-created `datetime` table. Given that there are arrival and departure times, we will go ahead and inner join the two SELECT statements to obtain distinct values:"
   ]
  },
  {
   "cell_type": "code",
   "execution_count": 35,
   "metadata": {},
   "outputs": [
    {
     "name": "stdout",
     "output_type": "stream",
     "text": [
      " * postgresql://student@/FinalProject\n",
      "6938 rows affected.\n"
     ]
    },
    {
     "data": {
      "text/plain": [
       "[]"
      ]
     },
     "execution_count": 35,
     "metadata": {},
     "output_type": "execute_result"
    }
   ],
   "source": [
    "%%sql\n",
    "INSERT INTO datetime (day,month,year,timeblock)\n",
    "SELECT DISTINCT dep_day, dep_month, dep_year, dep_timeblock \n",
    "FROM flight_perf\n",
    "UNION\n",
    "SELECT DISTINCT arr_day, arr_month, arr_year, arr_timeblock \n",
    "FROM flight_perf;"
   ]
  },
  {
   "cell_type": "markdown",
   "metadata": {},
   "source": [
    "The next step is to create surrogate keys in the fact table (`flight_perf`) that references the datetime_key column in the `datetime` table. Given that departure time is not equal to arrival time, we will need to create two surrogate keys within our fact table:"
   ]
  },
  {
   "cell_type": "code",
   "execution_count": 36,
   "metadata": {},
   "outputs": [
    {
     "name": "stdout",
     "output_type": "stream",
     "text": [
      " * postgresql://student@/FinalProject\n",
      "Done.\n",
      "Done.\n"
     ]
    },
    {
     "data": {
      "text/plain": [
       "[]"
      ]
     },
     "execution_count": 36,
     "metadata": {},
     "output_type": "execute_result"
    }
   ],
   "source": [
    "%%sql\n",
    "ALTER TABLE flight_perf\n",
    "ADD COLUMN dep_datetime_key INTEGER,\n",
    "ADD CONSTRAINT fk_dep_datetime_key\n",
    "    FOREIGN KEY (dep_datetime_key)\n",
    "    REFERENCES datetime (datetime_key);\n",
    "    \n",
    "ALTER TABLE flight_perf\n",
    "ADD COLUMN arr_datetime_key INTEGER,\n",
    "ADD CONSTRAINT fk_arr_datetime_key\n",
    "    FOREIGN KEY (arr_datetime_key)\n",
    "    REFERENCES datetime (datetime_key);"
   ]
  },
  {
   "cell_type": "markdown",
   "metadata": {},
   "source": [
    "First let's create an index on all columns in `datetime` to improve the performance of queries."
   ]
  },
  {
   "cell_type": "code",
   "execution_count": 37,
   "metadata": {},
   "outputs": [
    {
     "name": "stdout",
     "output_type": "stream",
     "text": [
      " * postgresql://student@/FinalProject\n",
      "Done.\n",
      "Done.\n",
      "Done.\n",
      "Done.\n"
     ]
    },
    {
     "data": {
      "text/plain": [
       "[]"
      ]
     },
     "execution_count": 37,
     "metadata": {},
     "output_type": "execute_result"
    }
   ],
   "source": [
    "%%sql\n",
    "DROP INDEX IF EXISTS idx_dep_datetime;\n",
    "CREATE INDEX idx_dep_datetime ON datetime (day,month,year,timeblock);\n",
    "\n",
    "DROP INDEX IF EXISTS idx_arr_datetime;\n",
    "CREATE INDEX idx_arr_datetime ON datetime (day,month,year,timeblock);"
   ]
  },
  {
   "cell_type": "markdown",
   "metadata": {},
   "source": [
    "We will now populate the *datetime_key columns in `flight_perf` with some values. To do so, we'll match the data in both the `flight_perf` and `datetime` tables:"
   ]
  },
  {
   "cell_type": "code",
   "execution_count": 38,
   "metadata": {},
   "outputs": [
    {
     "name": "stdout",
     "output_type": "stream",
     "text": [
      " * postgresql://student@/FinalProject\n",
      "280074 rows affected.\n",
      "280074 rows affected.\n"
     ]
    },
    {
     "data": {
      "text/plain": [
       "[]"
      ]
     },
     "execution_count": 38,
     "metadata": {},
     "output_type": "execute_result"
    }
   ],
   "source": [
    "%%sql\n",
    "UPDATE flight_perf\n",
    "SET dep_datetime_key = datetime.datetime_key\n",
    "FROM DATETIME\n",
    "WHERE flight_perf.dep_day = datetime.day\n",
    "AND flight_perf.dep_month = datetime.month\n",
    "AND flight_perf.dep_year = datetime.year\n",
    "AND flight_perf.dep_timeblock = datetime.timeblock;\n",
    "\n",
    "UPDATE flight_perf\n",
    "SET arr_datetime_key = datetime.datetime_key\n",
    "FROM datetime\n",
    "WHERE flight_perf.arr_day = datetime.day\n",
    "AND flight_perf.arr_month = datetime.month\n",
    "AND flight_perf.arr_year = datetime.year\n",
    "AND flight_perf.arr_timeblock = datetime.timeblock"
   ]
  },
  {
   "cell_type": "markdown",
   "metadata": {},
   "source": [
    "Preview Data. If it was done properly, the arr_datetime_key for the first query will the same as the dep_datetime_key for the second query:"
   ]
  },
  {
   "cell_type": "code",
   "execution_count": 39,
   "metadata": {},
   "outputs": [
    {
     "name": "stdout",
     "output_type": "stream",
     "text": [
      " * postgresql://student@/FinalProject\n",
      "1 rows affected.\n"
     ]
    },
    {
     "data": {
      "text/html": [
       "<table>\n",
       "    <tr>\n",
       "        <th>dep_month</th>\n",
       "        <th>dep_day</th>\n",
       "        <th>arr_month</th>\n",
       "        <th>arr_day</th>\n",
       "        <th>dep_datetime_key</th>\n",
       "        <th>arr_datetime_key</th>\n",
       "    </tr>\n",
       "    <tr>\n",
       "        <td>2</td>\n",
       "        <td>12</td>\n",
       "        <td>2</td>\n",
       "        <td>13</td>\n",
       "        <td>3593</td>\n",
       "        <td>6909</td>\n",
       "    </tr>\n",
       "</table>"
      ],
      "text/plain": [
       "[(2, 12, 2, 13, 3593, 6909)]"
      ]
     },
     "execution_count": 39,
     "metadata": {},
     "output_type": "execute_result"
    }
   ],
   "source": [
    "%%sql\n",
    "SELECT dep_month, dep_day, arr_month, arr_day, dep_datetime_key, arr_datetime_key\n",
    "FROM flight_perf\n",
    "WHERE dep_month = '2' AND dep_day = '12' AND dep_timeblock = '2300-2359' AND arr_timeblock='0600-0659'\n",
    "LIMIT 1"
   ]
  },
  {
   "cell_type": "code",
   "execution_count": 40,
   "metadata": {},
   "outputs": [
    {
     "name": "stdout",
     "output_type": "stream",
     "text": [
      " * postgresql://student@/FinalProject\n",
      "1 rows affected.\n"
     ]
    },
    {
     "data": {
      "text/html": [
       "<table>\n",
       "    <tr>\n",
       "        <th>dep_month</th>\n",
       "        <th>dep_day</th>\n",
       "        <th>arr_month</th>\n",
       "        <th>arr_day</th>\n",
       "        <th>dep_datetime_key</th>\n",
       "        <th>arr_datetime_key</th>\n",
       "    </tr>\n",
       "    <tr>\n",
       "        <td>2</td>\n",
       "        <td>13</td>\n",
       "        <td>2</td>\n",
       "        <td>13</td>\n",
       "        <td>6909</td>\n",
       "        <td>4140</td>\n",
       "    </tr>\n",
       "</table>"
      ],
      "text/plain": [
       "[(2, 13, 2, 13, 6909, 4140)]"
      ]
     },
     "execution_count": 40,
     "metadata": {},
     "output_type": "execute_result"
    }
   ],
   "source": [
    "%%sql\n",
    "SELECT dep_month, dep_day, arr_month, arr_day, dep_datetime_key, arr_datetime_key\n",
    "FROM flight_perf\n",
    "WHERE dep_month = '2' AND dep_day = '13' AND dep_timeblock='0600-0659'\n",
    "LIMIT 1"
   ]
  },
  {
   "cell_type": "markdown",
   "metadata": {},
   "source": [
    "Looks great! They are both equal!"
   ]
  },
  {
   "cell_type": "markdown",
   "metadata": {},
   "source": [
    "**Airport Table**"
   ]
  },
  {
   "cell_type": "markdown",
   "metadata": {},
   "source": [
    "We'll start by creating an empty table:"
   ]
  },
  {
   "cell_type": "code",
   "execution_count": 41,
   "metadata": {},
   "outputs": [
    {
     "name": "stdout",
     "output_type": "stream",
     "text": [
      " * postgresql://student@/FinalProject\n",
      "Done.\n",
      "Done.\n"
     ]
    },
    {
     "data": {
      "text/plain": [
       "[]"
      ]
     },
     "execution_count": 41,
     "metadata": {},
     "output_type": "execute_result"
    }
   ],
   "source": [
    "%%sql\n",
    "DROP TABLE IF EXISTS airport;\n",
    "\n",
    "CREATE TABLE airport (\n",
    "    airport_key SERIAL PRIMARY KEY,\n",
    "    name CHAR(3),\n",
    "    city VARCHAR(50),\n",
    "    state CHAR(2),\n",
    "    lat FLOAT,\n",
    "    lon FLOAT\n",
    ")"
   ]
  },
  {
   "cell_type": "markdown",
   "metadata": {},
   "source": [
    "We'll now insert information from our main `flight_perf` table into the newly-created `airport` table. Given that there are arrival and departure airports, we will go ahead and inner join the two SELECT statements to obtain distinct values:"
   ]
  },
  {
   "cell_type": "code",
   "execution_count": 42,
   "metadata": {},
   "outputs": [
    {
     "name": "stdout",
     "output_type": "stream",
     "text": [
      " * postgresql://student@/FinalProject\n",
      "71 rows affected.\n"
     ]
    },
    {
     "data": {
      "text/plain": [
       "[]"
      ]
     },
     "execution_count": 42,
     "metadata": {},
     "output_type": "execute_result"
    }
   ],
   "source": [
    "%%sql\n",
    "INSERT INTO airport (name, city, state, lat, lon)\n",
    "SELECT DISTINCT dep_airport, dep_city, dep_state, dep_lat, dep_lon \n",
    "FROM flight_perf\n",
    "UNION\n",
    "SELECT DISTINCT arr_airport, arr_city, arr_state, arr_lat, arr_lon \n",
    "FROM flight_perf;"
   ]
  },
  {
   "cell_type": "markdown",
   "metadata": {},
   "source": [
    "The next step is to create surrogate keys in the fact table (`flight_perf`) that references the airport_key column in the `airport` table. Given that departure airport is not equal to arrival airport, we will need to create two surrogate keys within our fact table:"
   ]
  },
  {
   "cell_type": "code",
   "execution_count": 43,
   "metadata": {},
   "outputs": [
    {
     "name": "stdout",
     "output_type": "stream",
     "text": [
      " * postgresql://student@/FinalProject\n",
      "Done.\n",
      "Done.\n"
     ]
    },
    {
     "data": {
      "text/plain": [
       "[]"
      ]
     },
     "execution_count": 43,
     "metadata": {},
     "output_type": "execute_result"
    }
   ],
   "source": [
    "%%sql\n",
    "ALTER TABLE flight_perf\n",
    "ADD COLUMN dep_airport_key INTEGER,\n",
    "ADD CONSTRAINT fk_dep_airport_key\n",
    "    FOREIGN KEY (dep_airport_key)\n",
    "    REFERENCES airport (airport_key);\n",
    "    \n",
    "ALTER TABLE flight_perf\n",
    "ADD COLUMN arr_airport_key INTEGER,\n",
    "ADD CONSTRAINT fk_arr_airport_key\n",
    "    FOREIGN KEY (arr_airport_key)\n",
    "    REFERENCES airport (airport_key);"
   ]
  },
  {
   "cell_type": "markdown",
   "metadata": {},
   "source": [
    "First let's create an index on all columns in `datetime` to improve the performance of queries."
   ]
  },
  {
   "cell_type": "code",
   "execution_count": 44,
   "metadata": {},
   "outputs": [
    {
     "name": "stdout",
     "output_type": "stream",
     "text": [
      " * postgresql://student@/FinalProject\n",
      "Done.\n",
      "Done.\n",
      "Done.\n",
      "Done.\n"
     ]
    },
    {
     "data": {
      "text/plain": [
       "[]"
      ]
     },
     "execution_count": 44,
     "metadata": {},
     "output_type": "execute_result"
    }
   ],
   "source": [
    "%%sql\n",
    "DROP INDEX IF EXISTS idx_dep_airport;\n",
    "CREATE INDEX idx_dep_airport ON airport (name, city, state, lat, lon);\n",
    "\n",
    "DROP INDEX IF EXISTS idx_arr_airport;\n",
    "CREATE INDEX idx_arr_airport ON airport (name, city, state, lat, lon);"
   ]
  },
  {
   "cell_type": "markdown",
   "metadata": {},
   "source": [
    "We will now populate the *airport_key columns in `flight_perf` with some values. To do so, we'll match the data in both the `flight_perf` and `airport` tables:"
   ]
  },
  {
   "cell_type": "code",
   "execution_count": 45,
   "metadata": {},
   "outputs": [
    {
     "name": "stdout",
     "output_type": "stream",
     "text": [
      " * postgresql://student@/FinalProject\n",
      "280074 rows affected.\n",
      "280074 rows affected.\n"
     ]
    },
    {
     "data": {
      "text/plain": [
       "[]"
      ]
     },
     "execution_count": 45,
     "metadata": {},
     "output_type": "execute_result"
    }
   ],
   "source": [
    "%%sql\n",
    "UPDATE flight_perf\n",
    "SET dep_airport_key = airport.airport_key\n",
    "FROM airport\n",
    "WHERE flight_perf.dep_airport = airport.name\n",
    "AND flight_perf.dep_city = airport.city\n",
    "AND flight_perf.dep_state = airport.state\n",
    "AND flight_perf.dep_lat = airport.lat\n",
    "AND flight_perf.dep_lon = airport.lon;\n",
    "\n",
    "UPDATE flight_perf\n",
    "SET arr_airport_key = airport.airport_key\n",
    "FROM airport\n",
    "WHERE flight_perf.arr_airport = airport.name\n",
    "AND flight_perf.arr_city = airport.city\n",
    "AND flight_perf.arr_state = airport.state\n",
    "AND flight_perf.arr_lat = airport.lat\n",
    "AND flight_perf.arr_lon = airport.lon;"
   ]
  },
  {
   "cell_type": "markdown",
   "metadata": {},
   "source": [
    "Preview Data:"
   ]
  },
  {
   "cell_type": "code",
   "execution_count": 46,
   "metadata": {},
   "outputs": [
    {
     "name": "stdout",
     "output_type": "stream",
     "text": [
      " * postgresql://student@/FinalProject\n",
      "5 rows affected.\n"
     ]
    },
    {
     "data": {
      "text/html": [
       "<table>\n",
       "    <tr>\n",
       "        <th>dep_year</th>\n",
       "        <th>dep_month</th>\n",
       "        <th>dep_day</th>\n",
       "        <th>carrier</th>\n",
       "        <th>tail_num</th>\n",
       "        <th>fl_num</th>\n",
       "        <th>dep_airport</th>\n",
       "        <th>dep_city</th>\n",
       "        <th>dep_state</th>\n",
       "        <th>arr_airport</th>\n",
       "        <th>arr_city</th>\n",
       "        <th>arr_state</th>\n",
       "        <th>dep_delay</th>\n",
       "        <th>dep_timeblock</th>\n",
       "        <th>arr_year</th>\n",
       "        <th>arr_month</th>\n",
       "        <th>arr_day</th>\n",
       "        <th>arr_delay</th>\n",
       "        <th>arr_timeblock</th>\n",
       "        <th>reason_carrier</th>\n",
       "        <th>reason_weather</th>\n",
       "        <th>reason_airtraffic</th>\n",
       "        <th>reason_security</th>\n",
       "        <th>reason_lateplane</th>\n",
       "        <th>dep_lat</th>\n",
       "        <th>dep_lon</th>\n",
       "        <th>arr_lat</th>\n",
       "        <th>arr_lon</th>\n",
       "        <th>airline_key</th>\n",
       "        <th>dep_datetime_key</th>\n",
       "        <th>arr_datetime_key</th>\n",
       "        <th>dep_airport_key</th>\n",
       "        <th>arr_airport_key</th>\n",
       "    </tr>\n",
       "    <tr>\n",
       "        <td>2017</td>\n",
       "        <td>1</td>\n",
       "        <td>1</td>\n",
       "        <td>WN</td>\n",
       "        <td>N778SW</td>\n",
       "        <td>210</td>\n",
       "        <td>DCA</td>\n",
       "        <td>Washington, DC</td>\n",
       "        <td>VA</td>\n",
       "        <td>BNA</td>\n",
       "        <td>Nashville, TN</td>\n",
       "        <td>TN</td>\n",
       "        <td>-3</td>\n",
       "        <td>1600-1659</td>\n",
       "        <td>2017</td>\n",
       "        <td>1</td>\n",
       "        <td>1</td>\n",
       "        <td>-12</td>\n",
       "        <td>1700-1759</td>\n",
       "        <td>0</td>\n",
       "        <td>0</td>\n",
       "        <td>0</td>\n",
       "        <td>0</td>\n",
       "        <td>0</td>\n",
       "        <td>38.85138889</td>\n",
       "        <td>-77.03777778</td>\n",
       "        <td>36.12444444</td>\n",
       "        <td>-86.67805556</td>\n",
       "        <td>9</td>\n",
       "        <td>4371</td>\n",
       "        <td>5206</td>\n",
       "        <td>19</td>\n",
       "        <td>5</td>\n",
       "    </tr>\n",
       "    <tr>\n",
       "        <td>2017</td>\n",
       "        <td>12</td>\n",
       "        <td>1</td>\n",
       "        <td>WN</td>\n",
       "        <td>N7710A</td>\n",
       "        <td>5756</td>\n",
       "        <td>DCA</td>\n",
       "        <td>Washington, DC</td>\n",
       "        <td>VA</td>\n",
       "        <td>MCI</td>\n",
       "        <td>Kansas City, MO</td>\n",
       "        <td>MO</td>\n",
       "        <td>-5</td>\n",
       "        <td>1600-1659</td>\n",
       "        <td>2017</td>\n",
       "        <td>12</td>\n",
       "        <td>1</td>\n",
       "        <td>-30</td>\n",
       "        <td>1800-1859</td>\n",
       "        <td>0</td>\n",
       "        <td>0</td>\n",
       "        <td>0</td>\n",
       "        <td>0</td>\n",
       "        <td>0</td>\n",
       "        <td>38.85138889</td>\n",
       "        <td>-77.03777778</td>\n",
       "        <td>39.2975</td>\n",
       "        <td>-94.71388889</td>\n",
       "        <td>9</td>\n",
       "        <td>3018</td>\n",
       "        <td>5843</td>\n",
       "        <td>19</td>\n",
       "        <td>38</td>\n",
       "    </tr>\n",
       "    <tr>\n",
       "        <td>2017</td>\n",
       "        <td>12</td>\n",
       "        <td>1</td>\n",
       "        <td>WN</td>\n",
       "        <td>N7834A</td>\n",
       "        <td>5519</td>\n",
       "        <td>DCA</td>\n",
       "        <td>Washington, DC</td>\n",
       "        <td>VA</td>\n",
       "        <td>MCI</td>\n",
       "        <td>Kansas City, MO</td>\n",
       "        <td>MO</td>\n",
       "        <td>-1</td>\n",
       "        <td>0900-0959</td>\n",
       "        <td>2017</td>\n",
       "        <td>12</td>\n",
       "        <td>1</td>\n",
       "        <td>-24</td>\n",
       "        <td>1100-1159</td>\n",
       "        <td>0</td>\n",
       "        <td>0</td>\n",
       "        <td>0</td>\n",
       "        <td>0</td>\n",
       "        <td>0</td>\n",
       "        <td>38.85138889</td>\n",
       "        <td>-77.03777778</td>\n",
       "        <td>39.2975</td>\n",
       "        <td>-94.71388889</td>\n",
       "        <td>9</td>\n",
       "        <td>3034</td>\n",
       "        <td>5394</td>\n",
       "        <td>19</td>\n",
       "        <td>38</td>\n",
       "    </tr>\n",
       "    <tr>\n",
       "        <td>2017</td>\n",
       "        <td>1</td>\n",
       "        <td>1</td>\n",
       "        <td>WN</td>\n",
       "        <td>N7816B</td>\n",
       "        <td>3281</td>\n",
       "        <td>DCA</td>\n",
       "        <td>Washington, DC</td>\n",
       "        <td>VA</td>\n",
       "        <td>BNA</td>\n",
       "        <td>Nashville, TN</td>\n",
       "        <td>TN</td>\n",
       "        <td>-5</td>\n",
       "        <td>0600-0659</td>\n",
       "        <td>2017</td>\n",
       "        <td>1</td>\n",
       "        <td>1</td>\n",
       "        <td>-2</td>\n",
       "        <td>0700-0759</td>\n",
       "        <td>0</td>\n",
       "        <td>0</td>\n",
       "        <td>0</td>\n",
       "        <td>0</td>\n",
       "        <td>0</td>\n",
       "        <td>38.85138889</td>\n",
       "        <td>-77.03777778</td>\n",
       "        <td>36.12444444</td>\n",
       "        <td>-86.67805556</td>\n",
       "        <td>9</td>\n",
       "        <td>3486</td>\n",
       "        <td>6254</td>\n",
       "        <td>19</td>\n",
       "        <td>5</td>\n",
       "    </tr>\n",
       "    <tr>\n",
       "        <td>2017</td>\n",
       "        <td>1</td>\n",
       "        <td>1</td>\n",
       "        <td>WN</td>\n",
       "        <td>N944WN</td>\n",
       "        <td>572</td>\n",
       "        <td>DCA</td>\n",
       "        <td>Washington, DC</td>\n",
       "        <td>VA</td>\n",
       "        <td>BNA</td>\n",
       "        <td>Nashville, TN</td>\n",
       "        <td>TN</td>\n",
       "        <td>-4</td>\n",
       "        <td>1300-1359</td>\n",
       "        <td>2017</td>\n",
       "        <td>1</td>\n",
       "        <td>1</td>\n",
       "        <td>-10</td>\n",
       "        <td>1300-1359</td>\n",
       "        <td>0</td>\n",
       "        <td>0</td>\n",
       "        <td>0</td>\n",
       "        <td>0</td>\n",
       "        <td>0</td>\n",
       "        <td>38.85138889</td>\n",
       "        <td>-77.03777778</td>\n",
       "        <td>36.12444444</td>\n",
       "        <td>-86.67805556</td>\n",
       "        <td>9</td>\n",
       "        <td>6077</td>\n",
       "        <td>6077</td>\n",
       "        <td>19</td>\n",
       "        <td>5</td>\n",
       "    </tr>\n",
       "</table>"
      ],
      "text/plain": [
       "[(2017, 1, 1, 'WN', 'N778SW', '210', 'DCA', 'Washington, DC', 'VA', 'BNA', 'Nashville, TN', 'TN', -3, '1600-1659', 2017, 1, 1, -12, '1700-1759', 0, 0, 0, 0, 0, 38.85138889, -77.03777778, 36.12444444, -86.67805556, 9, 4371, 5206, 19, 5),\n",
       " (2017, 12, 1, 'WN', 'N7710A', '5756', 'DCA', 'Washington, DC', 'VA', 'MCI', 'Kansas City, MO', 'MO', -5, '1600-1659', 2017, 12, 1, -30, '1800-1859', 0, 0, 0, 0, 0, 38.85138889, -77.03777778, 39.2975, -94.71388889, 9, 3018, 5843, 19, 38),\n",
       " (2017, 12, 1, 'WN', 'N7834A', '5519', 'DCA', 'Washington, DC', 'VA', 'MCI', 'Kansas City, MO', 'MO', -1, '0900-0959', 2017, 12, 1, -24, '1100-1159', 0, 0, 0, 0, 0, 38.85138889, -77.03777778, 39.2975, -94.71388889, 9, 3034, 5394, 19, 38),\n",
       " (2017, 1, 1, 'WN', 'N7816B', '3281', 'DCA', 'Washington, DC', 'VA', 'BNA', 'Nashville, TN', 'TN', -5, '0600-0659', 2017, 1, 1, -2, '0700-0759', 0, 0, 0, 0, 0, 38.85138889, -77.03777778, 36.12444444, -86.67805556, 9, 3486, 6254, 19, 5),\n",
       " (2017, 1, 1, 'WN', 'N944WN', '572', 'DCA', 'Washington, DC', 'VA', 'BNA', 'Nashville, TN', 'TN', -4, '1300-1359', 2017, 1, 1, -10, '1300-1359', 0, 0, 0, 0, 0, 38.85138889, -77.03777778, 36.12444444, -86.67805556, 9, 6077, 6077, 19, 5)]"
      ]
     },
     "execution_count": 46,
     "metadata": {},
     "output_type": "execute_result"
    }
   ],
   "source": [
    "%%sql\n",
    "SELECT *\n",
    "FROM flight_perf\n",
    "WHERE dep_airport='DCA'\n",
    "ORDER BY dep_day\n",
    "LIMIT 5"
   ]
  },
  {
   "cell_type": "markdown",
   "metadata": {},
   "source": [
    "Great!"
   ]
  },
  {
   "cell_type": "markdown",
   "metadata": {},
   "source": [
    "**Flight Table**"
   ]
  },
  {
   "cell_type": "markdown",
   "metadata": {},
   "source": [
    "We'll start by creating an empty table:"
   ]
  },
  {
   "cell_type": "code",
   "execution_count": 47,
   "metadata": {},
   "outputs": [
    {
     "name": "stdout",
     "output_type": "stream",
     "text": [
      " * postgresql://student@/FinalProject\n",
      "Done.\n",
      "Done.\n"
     ]
    },
    {
     "data": {
      "text/plain": [
       "[]"
      ]
     },
     "execution_count": 47,
     "metadata": {},
     "output_type": "execute_result"
    }
   ],
   "source": [
    "%%sql\n",
    "DROP TABLE IF EXISTS flight;\n",
    "\n",
    "CREATE TABLE flight (\n",
    "    flight_key SERIAL PRIMARY KEY,\n",
    "    number VARCHAR(8)\n",
    ")"
   ]
  },
  {
   "cell_type": "markdown",
   "metadata": {},
   "source": [
    "We'll now insert information from our main `flight_perf` table into the newly-created `flight` table:"
   ]
  },
  {
   "cell_type": "code",
   "execution_count": 48,
   "metadata": {},
   "outputs": [
    {
     "name": "stdout",
     "output_type": "stream",
     "text": [
      " * postgresql://student@/FinalProject\n",
      "3936 rows affected.\n"
     ]
    },
    {
     "data": {
      "text/plain": [
       "[]"
      ]
     },
     "execution_count": 48,
     "metadata": {},
     "output_type": "execute_result"
    }
   ],
   "source": [
    "%%sql\n",
    "INSERT INTO flight (number)\n",
    "SELECT DISTINCT fl_num\n",
    "FROM flight_perf"
   ]
  },
  {
   "cell_type": "markdown",
   "metadata": {},
   "source": [
    "The next step is to create a surrogate key in the fact table (`flight_perf`) that references the flight_key column in the `flight`:"
   ]
  },
  {
   "cell_type": "code",
   "execution_count": 49,
   "metadata": {},
   "outputs": [
    {
     "name": "stdout",
     "output_type": "stream",
     "text": [
      " * postgresql://student@/FinalProject\n",
      "Done.\n"
     ]
    },
    {
     "data": {
      "text/plain": [
       "[]"
      ]
     },
     "execution_count": 49,
     "metadata": {},
     "output_type": "execute_result"
    }
   ],
   "source": [
    "%%sql\n",
    "ALTER TABLE flight_perf\n",
    "ADD COLUMN flight_key INTEGER,\n",
    "ADD CONSTRAINT fk_flight_key\n",
    "    FOREIGN KEY (flight_key)\n",
    "    REFERENCES flight (flight_key);"
   ]
  },
  {
   "cell_type": "markdown",
   "metadata": {},
   "source": [
    "First let's create an index on all columns in `datetime` to improve the performance of queries."
   ]
  },
  {
   "cell_type": "code",
   "execution_count": 50,
   "metadata": {},
   "outputs": [
    {
     "name": "stdout",
     "output_type": "stream",
     "text": [
      " * postgresql://student@/FinalProject\n",
      "Done.\n",
      "Done.\n"
     ]
    },
    {
     "data": {
      "text/plain": [
       "[]"
      ]
     },
     "execution_count": 50,
     "metadata": {},
     "output_type": "execute_result"
    }
   ],
   "source": [
    "%%sql\n",
    "DROP INDEX IF EXISTS idx_flight;\n",
    "CREATE INDEX idx_flight ON flight (number)"
   ]
  },
  {
   "cell_type": "markdown",
   "metadata": {},
   "source": [
    "We will now populate the flight_key column in `flight_perf` with some values. To do so, we'll match the data in both the `flight_perf` and `flight` tables:"
   ]
  },
  {
   "cell_type": "code",
   "execution_count": 51,
   "metadata": {},
   "outputs": [
    {
     "name": "stdout",
     "output_type": "stream",
     "text": [
      " * postgresql://student@/FinalProject\n",
      "280074 rows affected.\n"
     ]
    },
    {
     "data": {
      "text/plain": [
       "[]"
      ]
     },
     "execution_count": 51,
     "metadata": {},
     "output_type": "execute_result"
    }
   ],
   "source": [
    "%%sql\n",
    "UPDATE flight_perf\n",
    "SET flight_key = flight.flight_key\n",
    "FROM flight\n",
    "WHERE flight_perf.fl_num = flight.number"
   ]
  },
  {
   "cell_type": "markdown",
   "metadata": {},
   "source": [
    "Preview Data:"
   ]
  },
  {
   "cell_type": "code",
   "execution_count": 52,
   "metadata": {},
   "outputs": [
    {
     "name": "stdout",
     "output_type": "stream",
     "text": [
      " * postgresql://student@/FinalProject\n",
      "5 rows affected.\n"
     ]
    },
    {
     "data": {
      "text/html": [
       "<table>\n",
       "    <tr>\n",
       "        <th>dep_year</th>\n",
       "        <th>dep_month</th>\n",
       "        <th>dep_day</th>\n",
       "        <th>carrier</th>\n",
       "        <th>tail_num</th>\n",
       "        <th>fl_num</th>\n",
       "        <th>dep_airport</th>\n",
       "        <th>dep_city</th>\n",
       "        <th>dep_state</th>\n",
       "        <th>arr_airport</th>\n",
       "        <th>arr_city</th>\n",
       "        <th>arr_state</th>\n",
       "        <th>dep_delay</th>\n",
       "        <th>dep_timeblock</th>\n",
       "        <th>arr_year</th>\n",
       "        <th>arr_month</th>\n",
       "        <th>arr_day</th>\n",
       "        <th>arr_delay</th>\n",
       "        <th>arr_timeblock</th>\n",
       "        <th>reason_carrier</th>\n",
       "        <th>reason_weather</th>\n",
       "        <th>reason_airtraffic</th>\n",
       "        <th>reason_security</th>\n",
       "        <th>reason_lateplane</th>\n",
       "        <th>dep_lat</th>\n",
       "        <th>dep_lon</th>\n",
       "        <th>arr_lat</th>\n",
       "        <th>arr_lon</th>\n",
       "        <th>airline_key</th>\n",
       "        <th>dep_datetime_key</th>\n",
       "        <th>arr_datetime_key</th>\n",
       "        <th>dep_airport_key</th>\n",
       "        <th>arr_airport_key</th>\n",
       "        <th>flight_key</th>\n",
       "    </tr>\n",
       "    <tr>\n",
       "        <td>2017</td>\n",
       "        <td>4</td>\n",
       "        <td>29</td>\n",
       "        <td>UA</td>\n",
       "        <td>N38424</td>\n",
       "        <td>10</td>\n",
       "        <td>IAD</td>\n",
       "        <td>Washington, DC</td>\n",
       "        <td>VA</td>\n",
       "        <td>SEA</td>\n",
       "        <td>Seattle, WA</td>\n",
       "        <td>WA</td>\n",
       "        <td>0</td>\n",
       "        <td>1700-1759</td>\n",
       "        <td>2017</td>\n",
       "        <td>4</td>\n",
       "        <td>29</td>\n",
       "        <td>-19</td>\n",
       "        <td>2000-2059</td>\n",
       "        <td>0</td>\n",
       "        <td>0</td>\n",
       "        <td>0</td>\n",
       "        <td>0</td>\n",
       "        <td>0</td>\n",
       "        <td>38.9475</td>\n",
       "        <td>-77.46</td>\n",
       "        <td>47.45</td>\n",
       "        <td>-122.3116667</td>\n",
       "        <td>5</td>\n",
       "        <td>2069</td>\n",
       "        <td>6256</td>\n",
       "        <td>30</td>\n",
       "        <td>64</td>\n",
       "        <td>2181</td>\n",
       "    </tr>\n",
       "    <tr>\n",
       "        <td>2017</td>\n",
       "        <td>4</td>\n",
       "        <td>28</td>\n",
       "        <td>UA</td>\n",
       "        <td>N68801</td>\n",
       "        <td>10</td>\n",
       "        <td>IAD</td>\n",
       "        <td>Washington, DC</td>\n",
       "        <td>VA</td>\n",
       "        <td>SEA</td>\n",
       "        <td>Seattle, WA</td>\n",
       "        <td>WA</td>\n",
       "        <td>-2</td>\n",
       "        <td>1700-1759</td>\n",
       "        <td>2017</td>\n",
       "        <td>4</td>\n",
       "        <td>28</td>\n",
       "        <td>-10</td>\n",
       "        <td>2000-2059</td>\n",
       "        <td>0</td>\n",
       "        <td>0</td>\n",
       "        <td>0</td>\n",
       "        <td>0</td>\n",
       "        <td>0</td>\n",
       "        <td>38.9475</td>\n",
       "        <td>-77.46</td>\n",
       "        <td>47.45</td>\n",
       "        <td>-122.3116667</td>\n",
       "        <td>5</td>\n",
       "        <td>5449</td>\n",
       "        <td>2637</td>\n",
       "        <td>30</td>\n",
       "        <td>64</td>\n",
       "        <td>2181</td>\n",
       "    </tr>\n",
       "    <tr>\n",
       "        <td>2017</td>\n",
       "        <td>4</td>\n",
       "        <td>30</td>\n",
       "        <td>UA</td>\n",
       "        <td>N66837</td>\n",
       "        <td>10</td>\n",
       "        <td>IAD</td>\n",
       "        <td>Washington, DC</td>\n",
       "        <td>VA</td>\n",
       "        <td>SEA</td>\n",
       "        <td>Seattle, WA</td>\n",
       "        <td>WA</td>\n",
       "        <td>-3</td>\n",
       "        <td>1700-1759</td>\n",
       "        <td>2017</td>\n",
       "        <td>4</td>\n",
       "        <td>30</td>\n",
       "        <td>-5</td>\n",
       "        <td>2000-2059</td>\n",
       "        <td>0</td>\n",
       "        <td>0</td>\n",
       "        <td>0</td>\n",
       "        <td>0</td>\n",
       "        <td>0</td>\n",
       "        <td>38.9475</td>\n",
       "        <td>-77.46</td>\n",
       "        <td>47.45</td>\n",
       "        <td>-122.3116667</td>\n",
       "        <td>5</td>\n",
       "        <td>2020</td>\n",
       "        <td>6097</td>\n",
       "        <td>30</td>\n",
       "        <td>64</td>\n",
       "        <td>2181</td>\n",
       "    </tr>\n",
       "    <tr>\n",
       "        <td>2017</td>\n",
       "        <td>4</td>\n",
       "        <td>26</td>\n",
       "        <td>UA</td>\n",
       "        <td>N34455</td>\n",
       "        <td>10</td>\n",
       "        <td>IAD</td>\n",
       "        <td>Washington, DC</td>\n",
       "        <td>VA</td>\n",
       "        <td>SEA</td>\n",
       "        <td>Seattle, WA</td>\n",
       "        <td>WA</td>\n",
       "        <td>-7</td>\n",
       "        <td>1700-1759</td>\n",
       "        <td>2017</td>\n",
       "        <td>4</td>\n",
       "        <td>26</td>\n",
       "        <td>-23</td>\n",
       "        <td>2000-2059</td>\n",
       "        <td>0</td>\n",
       "        <td>0</td>\n",
       "        <td>0</td>\n",
       "        <td>0</td>\n",
       "        <td>0</td>\n",
       "        <td>38.9475</td>\n",
       "        <td>-77.46</td>\n",
       "        <td>47.45</td>\n",
       "        <td>-122.3116667</td>\n",
       "        <td>5</td>\n",
       "        <td>4162</td>\n",
       "        <td>1395</td>\n",
       "        <td>30</td>\n",
       "        <td>64</td>\n",
       "        <td>2181</td>\n",
       "    </tr>\n",
       "    <tr>\n",
       "        <td>2017</td>\n",
       "        <td>4</td>\n",
       "        <td>27</td>\n",
       "        <td>UA</td>\n",
       "        <td>N37465</td>\n",
       "        <td>10</td>\n",
       "        <td>IAD</td>\n",
       "        <td>Washington, DC</td>\n",
       "        <td>VA</td>\n",
       "        <td>SEA</td>\n",
       "        <td>Seattle, WA</td>\n",
       "        <td>WA</td>\n",
       "        <td>-5</td>\n",
       "        <td>1800-1859</td>\n",
       "        <td>2017</td>\n",
       "        <td>4</td>\n",
       "        <td>27</td>\n",
       "        <td>-53</td>\n",
       "        <td>2100-2159</td>\n",
       "        <td>0</td>\n",
       "        <td>0</td>\n",
       "        <td>0</td>\n",
       "        <td>0</td>\n",
       "        <td>0</td>\n",
       "        <td>38.9475</td>\n",
       "        <td>-77.46</td>\n",
       "        <td>47.45</td>\n",
       "        <td>-122.3116667</td>\n",
       "        <td>5</td>\n",
       "        <td>6092</td>\n",
       "        <td>3026</td>\n",
       "        <td>30</td>\n",
       "        <td>64</td>\n",
       "        <td>2181</td>\n",
       "    </tr>\n",
       "</table>"
      ],
      "text/plain": [
       "[(2017, 4, 29, 'UA', 'N38424', '10', 'IAD', 'Washington, DC', 'VA', 'SEA', 'Seattle, WA', 'WA', 0, '1700-1759', 2017, 4, 29, -19, '2000-2059', 0, 0, 0, 0, 0, 38.9475, -77.46, 47.45, -122.3116667, 5, 2069, 6256, 30, 64, 2181),\n",
       " (2017, 4, 28, 'UA', 'N68801', '10', 'IAD', 'Washington, DC', 'VA', 'SEA', 'Seattle, WA', 'WA', -2, '1700-1759', 2017, 4, 28, -10, '2000-2059', 0, 0, 0, 0, 0, 38.9475, -77.46, 47.45, -122.3116667, 5, 5449, 2637, 30, 64, 2181),\n",
       " (2017, 4, 30, 'UA', 'N66837', '10', 'IAD', 'Washington, DC', 'VA', 'SEA', 'Seattle, WA', 'WA', -3, '1700-1759', 2017, 4, 30, -5, '2000-2059', 0, 0, 0, 0, 0, 38.9475, -77.46, 47.45, -122.3116667, 5, 2020, 6097, 30, 64, 2181),\n",
       " (2017, 4, 26, 'UA', 'N34455', '10', 'IAD', 'Washington, DC', 'VA', 'SEA', 'Seattle, WA', 'WA', -7, '1700-1759', 2017, 4, 26, -23, '2000-2059', 0, 0, 0, 0, 0, 38.9475, -77.46, 47.45, -122.3116667, 5, 4162, 1395, 30, 64, 2181),\n",
       " (2017, 4, 27, 'UA', 'N37465', '10', 'IAD', 'Washington, DC', 'VA', 'SEA', 'Seattle, WA', 'WA', -5, '1800-1859', 2017, 4, 27, -53, '2100-2159', 0, 0, 0, 0, 0, 38.9475, -77.46, 47.45, -122.3116667, 5, 6092, 3026, 30, 64, 2181)]"
      ]
     },
     "execution_count": 52,
     "metadata": {},
     "output_type": "execute_result"
    }
   ],
   "source": [
    "%%sql\n",
    "SELECT *\n",
    "FROM flight_perf\n",
    "WHERE dep_airport='IAD'\n",
    "ORDER BY fl_num\n",
    "LIMIT 5"
   ]
  },
  {
   "cell_type": "markdown",
   "metadata": {},
   "source": [
    "Great!"
   ]
  },
  {
   "cell_type": "markdown",
   "metadata": {},
   "source": [
    "**Aircraft Table**"
   ]
  },
  {
   "cell_type": "markdown",
   "metadata": {},
   "source": [
    "We'll start by creating an empty table:"
   ]
  },
  {
   "cell_type": "code",
   "execution_count": 53,
   "metadata": {},
   "outputs": [
    {
     "name": "stdout",
     "output_type": "stream",
     "text": [
      " * postgresql://student@/FinalProject\n",
      "Done.\n",
      "Done.\n"
     ]
    },
    {
     "data": {
      "text/plain": [
       "[]"
      ]
     },
     "execution_count": 53,
     "metadata": {},
     "output_type": "execute_result"
    }
   ],
   "source": [
    "%%sql\n",
    "DROP TABLE IF EXISTS aircraft;\n",
    "\n",
    "CREATE TABLE aircraft (\n",
    "    aircraft_key SERIAL PRIMARY KEY,\n",
    "    tail CHAR(6)\n",
    ")"
   ]
  },
  {
   "cell_type": "markdown",
   "metadata": {},
   "source": [
    "We'll now insert information from our main `flight_perf` table into the newly-created `aircraft` table:"
   ]
  },
  {
   "cell_type": "code",
   "execution_count": 54,
   "metadata": {},
   "outputs": [
    {
     "name": "stdout",
     "output_type": "stream",
     "text": [
      " * postgresql://student@/FinalProject\n",
      "3942 rows affected.\n"
     ]
    },
    {
     "data": {
      "text/plain": [
       "[]"
      ]
     },
     "execution_count": 54,
     "metadata": {},
     "output_type": "execute_result"
    }
   ],
   "source": [
    "%%sql\n",
    "INSERT INTO aircraft (tail)\n",
    "SELECT DISTINCT tail_num\n",
    "FROM flight_perf"
   ]
  },
  {
   "cell_type": "markdown",
   "metadata": {},
   "source": [
    "The next step is to create a surrogate key in the fact table (`flight_perf`) that references the aircraft_key column in the `aircraft`:"
   ]
  },
  {
   "cell_type": "code",
   "execution_count": 55,
   "metadata": {},
   "outputs": [
    {
     "name": "stdout",
     "output_type": "stream",
     "text": [
      " * postgresql://student@/FinalProject\n",
      "Done.\n"
     ]
    },
    {
     "data": {
      "text/plain": [
       "[]"
      ]
     },
     "execution_count": 55,
     "metadata": {},
     "output_type": "execute_result"
    }
   ],
   "source": [
    "%%sql\n",
    "ALTER TABLE flight_perf\n",
    "ADD COLUMN aircraft_key INTEGER,\n",
    "ADD CONSTRAINT fk_aircraft_key\n",
    "    FOREIGN KEY (aircraft_key)\n",
    "    REFERENCES aircraft (aircraft_key);"
   ]
  },
  {
   "cell_type": "markdown",
   "metadata": {},
   "source": [
    "First let's create an index on all columns in `datetime` to improve the performance of queries."
   ]
  },
  {
   "cell_type": "code",
   "execution_count": 56,
   "metadata": {},
   "outputs": [
    {
     "name": "stdout",
     "output_type": "stream",
     "text": [
      " * postgresql://student@/FinalProject\n",
      "Done.\n",
      "Done.\n"
     ]
    },
    {
     "data": {
      "text/plain": [
       "[]"
      ]
     },
     "execution_count": 56,
     "metadata": {},
     "output_type": "execute_result"
    }
   ],
   "source": [
    "%%sql\n",
    "DROP INDEX IF EXISTS idx_aircraft;\n",
    "CREATE INDEX idx_aircraft ON aircraft (tail)"
   ]
  },
  {
   "cell_type": "markdown",
   "metadata": {},
   "source": [
    "We will now populate the flight_key column in `flight_perf` with some values. To do so, we'll match the data in both the `flight_perf` and `flight` tables:"
   ]
  },
  {
   "cell_type": "code",
   "execution_count": 57,
   "metadata": {},
   "outputs": [
    {
     "name": "stdout",
     "output_type": "stream",
     "text": [
      " * postgresql://student@/FinalProject\n",
      "280074 rows affected.\n"
     ]
    },
    {
     "data": {
      "text/plain": [
       "[]"
      ]
     },
     "execution_count": 57,
     "metadata": {},
     "output_type": "execute_result"
    }
   ],
   "source": [
    "%%sql\n",
    "UPDATE flight_perf\n",
    "SET aircraft_key = aircraft.aircraft_key\n",
    "FROM aircraft\n",
    "WHERE flight_perf.tail_num = aircraft.tail"
   ]
  },
  {
   "cell_type": "markdown",
   "metadata": {},
   "source": [
    "Preview Data:"
   ]
  },
  {
   "cell_type": "code",
   "execution_count": 58,
   "metadata": {},
   "outputs": [
    {
     "name": "stdout",
     "output_type": "stream",
     "text": [
      " * postgresql://student@/FinalProject\n",
      "5 rows affected.\n"
     ]
    },
    {
     "data": {
      "text/html": [
       "<table>\n",
       "    <tr>\n",
       "        <th>dep_year</th>\n",
       "        <th>dep_month</th>\n",
       "        <th>dep_day</th>\n",
       "        <th>carrier</th>\n",
       "        <th>tail_num</th>\n",
       "        <th>fl_num</th>\n",
       "        <th>dep_airport</th>\n",
       "        <th>dep_city</th>\n",
       "        <th>dep_state</th>\n",
       "        <th>arr_airport</th>\n",
       "        <th>arr_city</th>\n",
       "        <th>arr_state</th>\n",
       "        <th>dep_delay</th>\n",
       "        <th>dep_timeblock</th>\n",
       "        <th>arr_year</th>\n",
       "        <th>arr_month</th>\n",
       "        <th>arr_day</th>\n",
       "        <th>arr_delay</th>\n",
       "        <th>arr_timeblock</th>\n",
       "        <th>reason_carrier</th>\n",
       "        <th>reason_weather</th>\n",
       "        <th>reason_airtraffic</th>\n",
       "        <th>reason_security</th>\n",
       "        <th>reason_lateplane</th>\n",
       "        <th>dep_lat</th>\n",
       "        <th>dep_lon</th>\n",
       "        <th>arr_lat</th>\n",
       "        <th>arr_lon</th>\n",
       "        <th>airline_key</th>\n",
       "        <th>dep_datetime_key</th>\n",
       "        <th>arr_datetime_key</th>\n",
       "        <th>dep_airport_key</th>\n",
       "        <th>arr_airport_key</th>\n",
       "        <th>flight_key</th>\n",
       "        <th>aircraft_key</th>\n",
       "    </tr>\n",
       "    <tr>\n",
       "        <td>2017</td>\n",
       "        <td>6</td>\n",
       "        <td>11</td>\n",
       "        <td>AA</td>\n",
       "        <td>N001AA</td>\n",
       "        <td>2357</td>\n",
       "        <td>IAD</td>\n",
       "        <td>Washington, DC</td>\n",
       "        <td>VA</td>\n",
       "        <td>MIA</td>\n",
       "        <td>Miami, FL</td>\n",
       "        <td>FL</td>\n",
       "        <td>56</td>\n",
       "        <td>1900-1959</td>\n",
       "        <td>2017</td>\n",
       "        <td>6</td>\n",
       "        <td>11</td>\n",
       "        <td>35</td>\n",
       "        <td>2100-2159</td>\n",
       "        <td>0</td>\n",
       "        <td>0</td>\n",
       "        <td>0</td>\n",
       "        <td>0</td>\n",
       "        <td>35</td>\n",
       "        <td>38.9475</td>\n",
       "        <td>-77.46</td>\n",
       "        <td>25.79527778</td>\n",
       "        <td>-80.29</td>\n",
       "        <td>7</td>\n",
       "        <td>6594</td>\n",
       "        <td>841</td>\n",
       "        <td>30</td>\n",
       "        <td>42</td>\n",
       "        <td>3014</td>\n",
       "        <td>2938</td>\n",
       "    </tr>\n",
       "    <tr>\n",
       "        <td>2017</td>\n",
       "        <td>5</td>\n",
       "        <td>17</td>\n",
       "        <td>AA</td>\n",
       "        <td>N001AA</td>\n",
       "        <td>2213</td>\n",
       "        <td>IAD</td>\n",
       "        <td>Washington, DC</td>\n",
       "        <td>VA</td>\n",
       "        <td>MIA</td>\n",
       "        <td>Miami, FL</td>\n",
       "        <td>FL</td>\n",
       "        <td>-7</td>\n",
       "        <td>1100-1159</td>\n",
       "        <td>2017</td>\n",
       "        <td>5</td>\n",
       "        <td>17</td>\n",
       "        <td>-20</td>\n",
       "        <td>1400-1459</td>\n",
       "        <td>0</td>\n",
       "        <td>0</td>\n",
       "        <td>0</td>\n",
       "        <td>0</td>\n",
       "        <td>0</td>\n",
       "        <td>38.9475</td>\n",
       "        <td>-77.46</td>\n",
       "        <td>25.79527778</td>\n",
       "        <td>-80.29</td>\n",
       "        <td>7</td>\n",
       "        <td>6563</td>\n",
       "        <td>6669</td>\n",
       "        <td>30</td>\n",
       "        <td>42</td>\n",
       "        <td>1660</td>\n",
       "        <td>2938</td>\n",
       "    </tr>\n",
       "    <tr>\n",
       "        <td>2017</td>\n",
       "        <td>4</td>\n",
       "        <td>6</td>\n",
       "        <td>AA</td>\n",
       "        <td>N001AA</td>\n",
       "        <td>2213</td>\n",
       "        <td>IAD</td>\n",
       "        <td>Washington, DC</td>\n",
       "        <td>VA</td>\n",
       "        <td>MIA</td>\n",
       "        <td>Miami, FL</td>\n",
       "        <td>FL</td>\n",
       "        <td>191</td>\n",
       "        <td>1100-1159</td>\n",
       "        <td>2017</td>\n",
       "        <td>4</td>\n",
       "        <td>6</td>\n",
       "        <td>263</td>\n",
       "        <td>1400-1459</td>\n",
       "        <td>0</td>\n",
       "        <td>191</td>\n",
       "        <td>72</td>\n",
       "        <td>0</td>\n",
       "        <td>0</td>\n",
       "        <td>38.9475</td>\n",
       "        <td>-77.46</td>\n",
       "        <td>25.79527778</td>\n",
       "        <td>-80.29</td>\n",
       "        <td>7</td>\n",
       "        <td>5447</td>\n",
       "        <td>5567</td>\n",
       "        <td>30</td>\n",
       "        <td>42</td>\n",
       "        <td>1660</td>\n",
       "        <td>2938</td>\n",
       "    </tr>\n",
       "    <tr>\n",
       "        <td>2017</td>\n",
       "        <td>6</td>\n",
       "        <td>19</td>\n",
       "        <td>AA</td>\n",
       "        <td>N001AA</td>\n",
       "        <td>2213</td>\n",
       "        <td>IAD</td>\n",
       "        <td>Washington, DC</td>\n",
       "        <td>VA</td>\n",
       "        <td>MIA</td>\n",
       "        <td>Miami, FL</td>\n",
       "        <td>FL</td>\n",
       "        <td>12</td>\n",
       "        <td>1100-1159</td>\n",
       "        <td>2017</td>\n",
       "        <td>6</td>\n",
       "        <td>19</td>\n",
       "        <td>49</td>\n",
       "        <td>1400-1459</td>\n",
       "        <td>0</td>\n",
       "        <td>12</td>\n",
       "        <td>37</td>\n",
       "        <td>0</td>\n",
       "        <td>0</td>\n",
       "        <td>38.9475</td>\n",
       "        <td>-77.46</td>\n",
       "        <td>25.79527778</td>\n",
       "        <td>-80.29</td>\n",
       "        <td>7</td>\n",
       "        <td>1932</td>\n",
       "        <td>1747</td>\n",
       "        <td>30</td>\n",
       "        <td>42</td>\n",
       "        <td>1660</td>\n",
       "        <td>2938</td>\n",
       "    </tr>\n",
       "    <tr>\n",
       "        <td>2017</td>\n",
       "        <td>6</td>\n",
       "        <td>29</td>\n",
       "        <td>AA</td>\n",
       "        <td>N001AA</td>\n",
       "        <td>2357</td>\n",
       "        <td>IAD</td>\n",
       "        <td>Washington, DC</td>\n",
       "        <td>VA</td>\n",
       "        <td>MIA</td>\n",
       "        <td>Miami, FL</td>\n",
       "        <td>FL</td>\n",
       "        <td>23</td>\n",
       "        <td>1900-1959</td>\n",
       "        <td>2017</td>\n",
       "        <td>6</td>\n",
       "        <td>29</td>\n",
       "        <td>5</td>\n",
       "        <td>2100-2159</td>\n",
       "        <td>0</td>\n",
       "        <td>0</td>\n",
       "        <td>0</td>\n",
       "        <td>0</td>\n",
       "        <td>0</td>\n",
       "        <td>38.9475</td>\n",
       "        <td>-77.46</td>\n",
       "        <td>25.79527778</td>\n",
       "        <td>-80.29</td>\n",
       "        <td>7</td>\n",
       "        <td>3478</td>\n",
       "        <td>2939</td>\n",
       "        <td>30</td>\n",
       "        <td>42</td>\n",
       "        <td>3014</td>\n",
       "        <td>2938</td>\n",
       "    </tr>\n",
       "</table>"
      ],
      "text/plain": [
       "[(2017, 6, 11, 'AA', 'N001AA', '2357', 'IAD', 'Washington, DC', 'VA', 'MIA', 'Miami, FL', 'FL', 56, '1900-1959', 2017, 6, 11, 35, '2100-2159', 0, 0, 0, 0, 35, 38.9475, -77.46, 25.79527778, -80.29, 7, 6594, 841, 30, 42, 3014, 2938),\n",
       " (2017, 5, 17, 'AA', 'N001AA', '2213', 'IAD', 'Washington, DC', 'VA', 'MIA', 'Miami, FL', 'FL', -7, '1100-1159', 2017, 5, 17, -20, '1400-1459', 0, 0, 0, 0, 0, 38.9475, -77.46, 25.79527778, -80.29, 7, 6563, 6669, 30, 42, 1660, 2938),\n",
       " (2017, 4, 6, 'AA', 'N001AA', '2213', 'IAD', 'Washington, DC', 'VA', 'MIA', 'Miami, FL', 'FL', 191, '1100-1159', 2017, 4, 6, 263, '1400-1459', 0, 191, 72, 0, 0, 38.9475, -77.46, 25.79527778, -80.29, 7, 5447, 5567, 30, 42, 1660, 2938),\n",
       " (2017, 6, 19, 'AA', 'N001AA', '2213', 'IAD', 'Washington, DC', 'VA', 'MIA', 'Miami, FL', 'FL', 12, '1100-1159', 2017, 6, 19, 49, '1400-1459', 0, 12, 37, 0, 0, 38.9475, -77.46, 25.79527778, -80.29, 7, 1932, 1747, 30, 42, 1660, 2938),\n",
       " (2017, 6, 29, 'AA', 'N001AA', '2357', 'IAD', 'Washington, DC', 'VA', 'MIA', 'Miami, FL', 'FL', 23, '1900-1959', 2017, 6, 29, 5, '2100-2159', 0, 0, 0, 0, 0, 38.9475, -77.46, 25.79527778, -80.29, 7, 3478, 2939, 30, 42, 3014, 2938)]"
      ]
     },
     "execution_count": 58,
     "metadata": {},
     "output_type": "execute_result"
    }
   ],
   "source": [
    "%%sql\n",
    "SELECT *\n",
    "FROM flight_perf\n",
    "WHERE dep_airport='IAD'\n",
    "ORDER BY tail_num\n",
    "LIMIT 5"
   ]
  },
  {
   "cell_type": "markdown",
   "metadata": {},
   "source": [
    "Great!"
   ]
  },
  {
   "cell_type": "markdown",
   "metadata": {},
   "source": [
    "**Clearing the Fact Table**"
   ]
  },
  {
   "cell_type": "markdown",
   "metadata": {},
   "source": [
    "Now that we have our connection established, we can go ahead and drop the columns that do not contain keys or facts:"
   ]
  },
  {
   "cell_type": "code",
   "execution_count": 59,
   "metadata": {},
   "outputs": [
    {
     "name": "stdout",
     "output_type": "stream",
     "text": [
      " * postgresql://student@/FinalProject\n",
      "Done.\n"
     ]
    },
    {
     "data": {
      "text/plain": [
       "[]"
      ]
     },
     "execution_count": 59,
     "metadata": {},
     "output_type": "execute_result"
    }
   ],
   "source": [
    "%%sql\n",
    "ALTER TABLE flight_perf\n",
    "DROP COLUMN dep_year,\n",
    "DROP COLUMN dep_month,\n",
    "DROP COLUMN dep_day,\n",
    "DROP COLUMN arr_year,\n",
    "DROP COLUMN arr_month,\n",
    "DROP COLUMN arr_day,\n",
    "DROP COLUMN carrier,\n",
    "DROP COLUMN tail_num,\n",
    "DROP COLUMN fl_num,\n",
    "DROP COLUMN dep_airport,\n",
    "DROP COLUMN dep_city,\n",
    "DROP COLUMN dep_state,\n",
    "DROP COLUMN arr_airport,\n",
    "DROP COLUMN arr_city,\n",
    "DROP COLUMN arr_state,\n",
    "DROP COLUMN dep_timeblock,\n",
    "DROP COLUMN arr_timeblock,\n",
    "DROP COLUMN dep_lat,\n",
    "DROP COLUMN dep_lon,\n",
    "DROP COLUMN arr_lat,\n",
    "DROP COLUMN arr_lon;"
   ]
  },
  {
   "cell_type": "markdown",
   "metadata": {},
   "source": [
    "Let's preview the final data:"
   ]
  },
  {
   "cell_type": "code",
   "execution_count": 60,
   "metadata": {},
   "outputs": [
    {
     "name": "stdout",
     "output_type": "stream",
     "text": [
      " * postgresql://student@/FinalProject\n",
      "5 rows affected.\n"
     ]
    },
    {
     "data": {
      "text/html": [
       "<table>\n",
       "    <tr>\n",
       "        <th>dep_delay</th>\n",
       "        <th>arr_delay</th>\n",
       "        <th>reason_carrier</th>\n",
       "        <th>reason_weather</th>\n",
       "        <th>reason_airtraffic</th>\n",
       "        <th>reason_security</th>\n",
       "        <th>reason_lateplane</th>\n",
       "        <th>airline_key</th>\n",
       "        <th>dep_datetime_key</th>\n",
       "        <th>arr_datetime_key</th>\n",
       "        <th>dep_airport_key</th>\n",
       "        <th>arr_airport_key</th>\n",
       "        <th>flight_key</th>\n",
       "        <th>aircraft_key</th>\n",
       "    </tr>\n",
       "    <tr>\n",
       "        <td>4</td>\n",
       "        <td>-20</td>\n",
       "        <td>0</td>\n",
       "        <td>0</td>\n",
       "        <td>0</td>\n",
       "        <td>0</td>\n",
       "        <td>0</td>\n",
       "        <td>9</td>\n",
       "        <td>1846</td>\n",
       "        <td>6829</td>\n",
       "        <td>19</td>\n",
       "        <td>38</td>\n",
       "        <td>2673</td>\n",
       "        <td>3105</td>\n",
       "    </tr>\n",
       "    <tr>\n",
       "        <td>-4</td>\n",
       "        <td>-14</td>\n",
       "        <td>0</td>\n",
       "        <td>0</td>\n",
       "        <td>0</td>\n",
       "        <td>0</td>\n",
       "        <td>0</td>\n",
       "        <td>9</td>\n",
       "        <td>1482</td>\n",
       "        <td>3824</td>\n",
       "        <td>19</td>\n",
       "        <td>38</td>\n",
       "        <td>743</td>\n",
       "        <td>1763</td>\n",
       "    </tr>\n",
       "    <tr>\n",
       "        <td>11</td>\n",
       "        <td>-2</td>\n",
       "        <td>0</td>\n",
       "        <td>0</td>\n",
       "        <td>0</td>\n",
       "        <td>0</td>\n",
       "        <td>0</td>\n",
       "        <td>9</td>\n",
       "        <td>1159</td>\n",
       "        <td>3972</td>\n",
       "        <td>19</td>\n",
       "        <td>38</td>\n",
       "        <td>2673</td>\n",
       "        <td>3914</td>\n",
       "    </tr>\n",
       "    <tr>\n",
       "        <td>3</td>\n",
       "        <td>-23</td>\n",
       "        <td>0</td>\n",
       "        <td>0</td>\n",
       "        <td>0</td>\n",
       "        <td>0</td>\n",
       "        <td>0</td>\n",
       "        <td>9</td>\n",
       "        <td>6662</td>\n",
       "        <td>2108</td>\n",
       "        <td>19</td>\n",
       "        <td>38</td>\n",
       "        <td>743</td>\n",
       "        <td>250</td>\n",
       "    </tr>\n",
       "    <tr>\n",
       "        <td>4</td>\n",
       "        <td>-14</td>\n",
       "        <td>0</td>\n",
       "        <td>0</td>\n",
       "        <td>0</td>\n",
       "        <td>0</td>\n",
       "        <td>0</td>\n",
       "        <td>9</td>\n",
       "        <td>6313</td>\n",
       "        <td>2186</td>\n",
       "        <td>19</td>\n",
       "        <td>38</td>\n",
       "        <td>2673</td>\n",
       "        <td>1960</td>\n",
       "    </tr>\n",
       "</table>"
      ],
      "text/plain": [
       "[(4, -20, 0, 0, 0, 0, 0, 9, 1846, 6829, 19, 38, 2673, 3105),\n",
       " (-4, -14, 0, 0, 0, 0, 0, 9, 1482, 3824, 19, 38, 743, 1763),\n",
       " (11, -2, 0, 0, 0, 0, 0, 9, 1159, 3972, 19, 38, 2673, 3914),\n",
       " (3, -23, 0, 0, 0, 0, 0, 9, 6662, 2108, 19, 38, 743, 250),\n",
       " (4, -14, 0, 0, 0, 0, 0, 9, 6313, 2186, 19, 38, 2673, 1960)]"
      ]
     },
     "execution_count": 60,
     "metadata": {},
     "output_type": "execute_result"
    }
   ],
   "source": [
    "%%sql\n",
    "SELECT *\n",
    "FROM flight_perf\n",
    "LIMIT 5"
   ]
  },
  {
   "cell_type": "markdown",
   "metadata": {},
   "source": [
    "---"
   ]
  },
  {
   "cell_type": "markdown",
   "metadata": {},
   "source": [
    "### Part 3 - Analysis"
   ]
  },
  {
   "cell_type": "markdown",
   "metadata": {},
   "source": [
    "**Let's start by establishing some performance metrics for each airline. We'll compute percentage delays for both arrivals and departures:**"
   ]
  },
  {
   "cell_type": "code",
   "execution_count": 61,
   "metadata": {},
   "outputs": [
    {
     "name": "stdout",
     "output_type": "stream",
     "text": [
      " * postgresql://student@/FinalProject\n",
      "10 rows affected.\n"
     ]
    },
    {
     "data": {
      "text/html": [
       "<table>\n",
       "    <tr>\n",
       "        <th>carrier</th>\n",
       "        <th>flights_total</th>\n",
       "        <th>dep_delay_percent</th>\n",
       "        <th>arr_delay_percent</th>\n",
       "    </tr>\n",
       "    <tr>\n",
       "        <td>AA</td>\n",
       "        <td>63373</td>\n",
       "        <td>29.47</td>\n",
       "        <td>34.55</td>\n",
       "    </tr>\n",
       "    <tr>\n",
       "        <td>UA</td>\n",
       "        <td>56814</td>\n",
       "        <td>28.18</td>\n",
       "        <td>25.16</td>\n",
       "    </tr>\n",
       "    <tr>\n",
       "        <td>WN</td>\n",
       "        <td>41707</td>\n",
       "        <td>41.91</td>\n",
       "        <td>35.91</td>\n",
       "    </tr>\n",
       "    <tr>\n",
       "        <td>DL</td>\n",
       "        <td>37424</td>\n",
       "        <td>29.11</td>\n",
       "        <td>26.01</td>\n",
       "    </tr>\n",
       "    <tr>\n",
       "        <td>B6</td>\n",
       "        <td>29930</td>\n",
       "        <td>32.36</td>\n",
       "        <td>34.35</td>\n",
       "    </tr>\n",
       "    <tr>\n",
       "        <td>EV</td>\n",
       "        <td>25844</td>\n",
       "        <td>35.51</td>\n",
       "        <td>38.83</td>\n",
       "    </tr>\n",
       "    <tr>\n",
       "        <td>OO</td>\n",
       "        <td>11430</td>\n",
       "        <td>31.01</td>\n",
       "        <td>39.23</td>\n",
       "    </tr>\n",
       "    <tr>\n",
       "        <td>VX</td>\n",
       "        <td>5734</td>\n",
       "        <td>31.71</td>\n",
       "        <td>36.48</td>\n",
       "    </tr>\n",
       "    <tr>\n",
       "        <td>F9</td>\n",
       "        <td>4195</td>\n",
       "        <td>32.71</td>\n",
       "        <td>31.37</td>\n",
       "    </tr>\n",
       "    <tr>\n",
       "        <td>AS</td>\n",
       "        <td>3623</td>\n",
       "        <td>25.39</td>\n",
       "        <td>28.40</td>\n",
       "    </tr>\n",
       "</table>"
      ],
      "text/plain": [
       "[('AA', 63373, Decimal('29.47'), Decimal('34.55')),\n",
       " ('UA', 56814, Decimal('28.18'), Decimal('25.16')),\n",
       " ('WN', 41707, Decimal('41.91'), Decimal('35.91')),\n",
       " ('DL', 37424, Decimal('29.11'), Decimal('26.01')),\n",
       " ('B6', 29930, Decimal('32.36'), Decimal('34.35')),\n",
       " ('EV', 25844, Decimal('35.51'), Decimal('38.83')),\n",
       " ('OO', 11430, Decimal('31.01'), Decimal('39.23')),\n",
       " ('VX', 5734, Decimal('31.71'), Decimal('36.48')),\n",
       " ('F9', 4195, Decimal('32.71'), Decimal('31.37')),\n",
       " ('AS', 3623, Decimal('25.39'), Decimal('28.40'))]"
      ]
     },
     "execution_count": 61,
     "metadata": {},
     "output_type": "execute_result"
    }
   ],
   "source": [
    "%%sql\n",
    "SELECT carrier, count(*) as flights_total,\n",
    "       ROUND((sum(case when dep_delay > 0 then 1 else 0 end)::numeric / (COUNT(*)::numeric))*100,2) as dep_delay_percent,\n",
    "       ROUND((sum(case when arr_delay > 0 then 1 else 0 end)::numeric / (COUNT(*)::numeric))*100,2) as arr_delay_percent\n",
    "FROM flight_perf, airline\n",
    "WHERE flight_perf.airline_key = airline.airline_key\n",
    "GROUP BY carrier\n",
    "ORDER BY flights_total DESC"
   ]
  },
  {
   "cell_type": "code",
   "execution_count": 62,
   "metadata": {},
   "outputs": [
    {
     "name": "stdout",
     "output_type": "stream",
     "text": [
      " * postgresql://student@/FinalProject\n",
      "10 rows affected.\n"
     ]
    },
    {
     "data": {
      "text/plain": [
       "<Figure size 640x480 with 1 Axes>"
      ]
     },
     "metadata": {},
     "output_type": "display_data"
    }
   ],
   "source": [
    "import matplotlib.pyplot as plt\n",
    "import numpy as np\n",
    "data = %sql SELECT carrier, count(*) as flights_total,ROUND((sum(case when dep_delay > 0 then 1 else 0 end)::numeric / (COUNT(*)::numeric))*100,2) as dep_delay_percent,ROUND((sum(case when arr_delay > 0 then 1 else 0 end)::numeric / (COUNT(*)::numeric))*100,2) as arr_delay_percent FROM flight_perf, airline WHERE flight_perf.airline_key = airline.airline_key GROUP BY carrier ORDER BY flights_total DESC\n",
    "df = data.DataFrame()\n",
    "y_pos = np.array(list(range(len(df['dep_delay_percent']))))\n",
    "y = df['dep_delay_percent']\n",
    "z = df['arr_delay_percent']\n",
    "\n",
    "plt.ylabel('Percentage of delays')\n",
    "plt.bar(y_pos-0.3, y,width=0.3,color='b',align='center')\n",
    "plt.bar(y_pos, z,width=0.3,color='r',align='center')\n",
    "plt.xticks(y_pos, df['carrier'])\n",
    "\n",
    "plt.show()"
   ]
  },
  {
   "cell_type": "markdown",
   "metadata": {},
   "source": [
    "The airlines with the highest rate of departure delay are WN(Southwest Airlines) and EV(ExpressJet). The airlines with the highest rate of arrival delay are OO(SkyWest Airlines) and  EV(ExpressJet). \n",
    "\n",
    "\n",
    "The percentage of departure delay of WN(Southwest Airlines) is 6% higher than the percentage of arrival delay. It means that a considerable amount of their flights although depart late, arrive early or on time.\n",
    "\n",
    "\n",
    "The percentage of arrival delay of OO(SkyWest Airlines) is 8.22% higher than the percentage of departure delay. It means that a considerable amount of their flights arrive late even if the departure is on time. "
   ]
  },
  {
   "cell_type": "markdown",
   "metadata": {},
   "source": [
    "**Which airlines experience the most and least delays flying into and out of Virginia Airport?**"
   ]
  },
  {
   "cell_type": "markdown",
   "metadata": {},
   "source": [
    "The following query measures arrival and departure delays by count. "
   ]
  },
  {
   "cell_type": "code",
   "execution_count": 63,
   "metadata": {},
   "outputs": [
    {
     "name": "stdout",
     "output_type": "stream",
     "text": [
      " * postgresql://student@/FinalProject\n",
      "10 rows affected.\n"
     ]
    },
    {
     "data": {
      "text/html": [
       "<table>\n",
       "    <tr>\n",
       "        <th>carrier</th>\n",
       "        <th>dep_delay_count</th>\n",
       "    </tr>\n",
       "    <tr>\n",
       "        <td>AA</td>\n",
       "        <td>8952</td>\n",
       "    </tr>\n",
       "    <tr>\n",
       "        <td>WN</td>\n",
       "        <td>7908</td>\n",
       "    </tr>\n",
       "    <tr>\n",
       "        <td>UA</td>\n",
       "        <td>7528</td>\n",
       "    </tr>\n",
       "    <tr>\n",
       "        <td>DL</td>\n",
       "        <td>4978</td>\n",
       "    </tr>\n",
       "    <tr>\n",
       "        <td>B6</td>\n",
       "        <td>4669</td>\n",
       "    </tr>\n",
       "    <tr>\n",
       "        <td>EV</td>\n",
       "        <td>4603</td>\n",
       "    </tr>\n",
       "    <tr>\n",
       "        <td>OO</td>\n",
       "        <td>1750</td>\n",
       "    </tr>\n",
       "    <tr>\n",
       "        <td>VX</td>\n",
       "        <td>787</td>\n",
       "    </tr>\n",
       "    <tr>\n",
       "        <td>F9</td>\n",
       "        <td>561</td>\n",
       "    </tr>\n",
       "    <tr>\n",
       "        <td>AS</td>\n",
       "        <td>474</td>\n",
       "    </tr>\n",
       "</table>"
      ],
      "text/plain": [
       "[('AA', 8952),\n",
       " ('WN', 7908),\n",
       " ('UA', 7528),\n",
       " ('DL', 4978),\n",
       " ('B6', 4669),\n",
       " ('EV', 4603),\n",
       " ('OO', 1750),\n",
       " ('VX', 787),\n",
       " ('F9', 561),\n",
       " ('AS', 474)]"
      ]
     },
     "execution_count": 63,
     "metadata": {},
     "output_type": "execute_result"
    }
   ],
   "source": [
    "%%sql\n",
    "SELECT carrier,count(dep_delay) AS dep_delay_count\n",
    "FROM flight_perf \n",
    "JOIN airline\n",
    "ON flight_perf.airline_key = airline.airline_key\n",
    "JOIN airport\n",
    "ON flight_perf.dep_airport_key = airport.airport_key\n",
    "WHERE dep_delay>0 AND state = 'VA'\n",
    "GROUP BY carrier\n",
    "ORDER BY dep_delay_count DESC"
   ]
  },
  {
   "cell_type": "code",
   "execution_count": 64,
   "metadata": {},
   "outputs": [],
   "source": [
    "%matplotlib inline"
   ]
  },
  {
   "cell_type": "code",
   "execution_count": 65,
   "metadata": {},
   "outputs": [
    {
     "data": {
      "text/plain": [
       "<BarContainer object of 10 artists>"
      ]
     },
     "execution_count": 65,
     "metadata": {},
     "output_type": "execute_result"
    },
    {
     "data": {
      "image/png": "[encoded data removed]",
      "text/plain": [
       "<Figure size 432x288 with 1 Axes>"
      ]
     },
     "metadata": {
      "needs_background": "light"
     },
     "output_type": "display_data"
    }
   ],
   "source": [
    "_.bar()"
   ]
  },
  {
   "cell_type": "code",
   "execution_count": 66,
   "metadata": {},
   "outputs": [
    {
     "name": "stdout",
     "output_type": "stream",
     "text": [
      " * postgresql://student@/FinalProject\n",
      "10 rows affected.\n"
     ]
    },
    {
     "data": {
      "text/html": [
       "<table>\n",
       "    <tr>\n",
       "        <th>carrier</th>\n",
       "        <th>arr_delay_count</th>\n",
       "    </tr>\n",
       "    <tr>\n",
       "        <td>AA</td>\n",
       "        <td>11423</td>\n",
       "    </tr>\n",
       "    <tr>\n",
       "        <td>WN</td>\n",
       "        <td>8024</td>\n",
       "    </tr>\n",
       "    <tr>\n",
       "        <td>UA</td>\n",
       "        <td>6705</td>\n",
       "    </tr>\n",
       "    <tr>\n",
       "        <td>B6</td>\n",
       "        <td>5219</td>\n",
       "    </tr>\n",
       "    <tr>\n",
       "        <td>DL</td>\n",
       "        <td>5145</td>\n",
       "    </tr>\n",
       "    <tr>\n",
       "        <td>EV</td>\n",
       "        <td>5039</td>\n",
       "    </tr>\n",
       "    <tr>\n",
       "        <td>OO</td>\n",
       "        <td>2341</td>\n",
       "    </tr>\n",
       "    <tr>\n",
       "        <td>VX</td>\n",
       "        <td>1119</td>\n",
       "    </tr>\n",
       "    <tr>\n",
       "        <td>F9</td>\n",
       "        <td>678</td>\n",
       "    </tr>\n",
       "    <tr>\n",
       "        <td>AS</td>\n",
       "        <td>567</td>\n",
       "    </tr>\n",
       "</table>"
      ],
      "text/plain": [
       "[('AA', 11423),\n",
       " ('WN', 8024),\n",
       " ('UA', 6705),\n",
       " ('B6', 5219),\n",
       " ('DL', 5145),\n",
       " ('EV', 5039),\n",
       " ('OO', 2341),\n",
       " ('VX', 1119),\n",
       " ('F9', 678),\n",
       " ('AS', 567)]"
      ]
     },
     "execution_count": 66,
     "metadata": {},
     "output_type": "execute_result"
    }
   ],
   "source": [
    "%%sql\n",
    "SELECT carrier,count(arr_delay) AS arr_delay_count\n",
    "FROM flight_perf \n",
    "JOIN airline\n",
    "ON flight_perf.airline_key = airline.airline_key\n",
    "JOIN airport\n",
    "ON flight_perf.arr_airport_key = airport.airport_key\n",
    "WHERE arr_delay>0 AND state = 'VA'\n",
    "GROUP BY carrier\n",
    "ORDER BY arr_delay_count DESC"
   ]
  },
  {
   "cell_type": "code",
   "execution_count": 67,
   "metadata": {},
   "outputs": [
    {
     "data": {
      "text/plain": [
       "<BarContainer object of 10 artists>"
      ]
     },
     "execution_count": 67,
     "metadata": {},
     "output_type": "execute_result"
    },
    {
     "data": {
      "image/png": "[encoded data removed]",
      "text/plain": [
       "<Figure size 432x288 with 1 Axes>"
      ]
     },
     "metadata": {
      "needs_background": "light"
     },
     "output_type": "display_data"
    }
   ],
   "source": [
    "_.bar()"
   ]
  },
  {
   "cell_type": "markdown",
   "metadata": {},
   "source": [
    "For flights of which the origin or the destination is in Virginia, American Airlines has the highest total amount of delayed flights. Alaska Airlines has the lowest amuont of delayed flights. "
   ]
  },
  {
   "cell_type": "markdown",
   "metadata": {},
   "source": [
    "The following query measures the most arrival and departure delays by average delay time."
   ]
  },
  {
   "cell_type": "code",
   "execution_count": 68,
   "metadata": {},
   "outputs": [
    {
     "name": "stdout",
     "output_type": "stream",
     "text": [
      " * postgresql://student@/FinalProject\n",
      "10 rows affected.\n"
     ]
    },
    {
     "data": {
      "text/html": [
       "<table>\n",
       "    <tr>\n",
       "        <th>carrier</th>\n",
       "        <th>average_departure_delay</th>\n",
       "    </tr>\n",
       "    <tr>\n",
       "        <td>EV</td>\n",
       "        <td>67.36</td>\n",
       "    </tr>\n",
       "    <tr>\n",
       "        <td>OO</td>\n",
       "        <td>59.82</td>\n",
       "    </tr>\n",
       "    <tr>\n",
       "        <td>B6</td>\n",
       "        <td>49.80</td>\n",
       "    </tr>\n",
       "    <tr>\n",
       "        <td>F9</td>\n",
       "        <td>48.29</td>\n",
       "    </tr>\n",
       "    <tr>\n",
       "        <td>UA</td>\n",
       "        <td>43.92</td>\n",
       "    </tr>\n",
       "    <tr>\n",
       "        <td>VX</td>\n",
       "        <td>43.79</td>\n",
       "    </tr>\n",
       "    <tr>\n",
       "        <td>DL</td>\n",
       "        <td>40.42</td>\n",
       "    </tr>\n",
       "    <tr>\n",
       "        <td>AA</td>\n",
       "        <td>39.11</td>\n",
       "    </tr>\n",
       "    <tr>\n",
       "        <td>AS</td>\n",
       "        <td>29.28</td>\n",
       "    </tr>\n",
       "    <tr>\n",
       "        <td>WN</td>\n",
       "        <td>28.21</td>\n",
       "    </tr>\n",
       "</table>"
      ],
      "text/plain": [
       "[('EV', Decimal('67.36')),\n",
       " ('OO', Decimal('59.82')),\n",
       " ('B6', Decimal('49.80')),\n",
       " ('F9', Decimal('48.29')),\n",
       " ('UA', Decimal('43.92')),\n",
       " ('VX', Decimal('43.79')),\n",
       " ('DL', Decimal('40.42')),\n",
       " ('AA', Decimal('39.11')),\n",
       " ('AS', Decimal('29.28')),\n",
       " ('WN', Decimal('28.21'))]"
      ]
     },
     "execution_count": 68,
     "metadata": {},
     "output_type": "execute_result"
    }
   ],
   "source": [
    "%%sql\n",
    "SELECT carrier,ROUND(avg(dep_delay),2) AS average_departure_delay\n",
    "FROM flight_perf \n",
    "JOIN airline ON flight_perf.airline_key = airline.airline_key\n",
    "JOIN airport ON flight_perf.dep_airport_key = airport.airport_key\n",
    "WHERE dep_delay>0 AND airport.state = 'VA'\n",
    "GROUP BY carrier\n",
    "ORDER BY average_departure_delay DESC"
   ]
  },
  {
   "cell_type": "code",
   "execution_count": 69,
   "metadata": {},
   "outputs": [
    {
     "data": {
      "text/plain": [
       "<BarContainer object of 10 artists>"
      ]
     },
     "execution_count": 69,
     "metadata": {},
     "output_type": "execute_result"
    },
    {
     "data": {
      "image/png": "[encoded data removed]",
      "text/plain": [
       "<Figure size 432x288 with 1 Axes>"
      ]
     },
     "metadata": {
      "needs_background": "light"
     },
     "output_type": "display_data"
    }
   ],
   "source": [
    "_.bar()"
   ]
  },
  {
   "cell_type": "markdown",
   "metadata": {},
   "source": [
    "For flights of which the origin is in Virginia, ExpressJet (EV) has the highest average delay minutes while Southwest has the lowest average delay minutes."
   ]
  },
  {
   "cell_type": "code",
   "execution_count": 70,
   "metadata": {},
   "outputs": [
    {
     "name": "stdout",
     "output_type": "stream",
     "text": [
      " * postgresql://student@/FinalProject\n",
      "10 rows affected.\n"
     ]
    },
    {
     "data": {
      "text/html": [
       "<table>\n",
       "    <tr>\n",
       "        <th>carrier</th>\n",
       "        <th>average_arrival_delay</th>\n",
       "    </tr>\n",
       "    <tr>\n",
       "        <td>EV</td>\n",
       "        <td>54.80</td>\n",
       "    </tr>\n",
       "    <tr>\n",
       "        <td>B6</td>\n",
       "        <td>44.99</td>\n",
       "    </tr>\n",
       "    <tr>\n",
       "        <td>OO</td>\n",
       "        <td>43.43</td>\n",
       "    </tr>\n",
       "    <tr>\n",
       "        <td>AA</td>\n",
       "        <td>31.13</td>\n",
       "    </tr>\n",
       "    <tr>\n",
       "        <td>F9</td>\n",
       "        <td>29.55</td>\n",
       "    </tr>\n",
       "    <tr>\n",
       "        <td>DL</td>\n",
       "        <td>25.91</td>\n",
       "    </tr>\n",
       "    <tr>\n",
       "        <td>UA</td>\n",
       "        <td>25.57</td>\n",
       "    </tr>\n",
       "    <tr>\n",
       "        <td>VX</td>\n",
       "        <td>22.51</td>\n",
       "    </tr>\n",
       "    <tr>\n",
       "        <td>WN</td>\n",
       "        <td>20.85</td>\n",
       "    </tr>\n",
       "    <tr>\n",
       "        <td>AS</td>\n",
       "        <td>19.37</td>\n",
       "    </tr>\n",
       "</table>"
      ],
      "text/plain": [
       "[('EV', Decimal('54.80')),\n",
       " ('B6', Decimal('44.99')),\n",
       " ('OO', Decimal('43.43')),\n",
       " ('AA', Decimal('31.13')),\n",
       " ('F9', Decimal('29.55')),\n",
       " ('DL', Decimal('25.91')),\n",
       " ('UA', Decimal('25.57')),\n",
       " ('VX', Decimal('22.51')),\n",
       " ('WN', Decimal('20.85')),\n",
       " ('AS', Decimal('19.37'))]"
      ]
     },
     "execution_count": 70,
     "metadata": {},
     "output_type": "execute_result"
    }
   ],
   "source": [
    "%%sql\n",
    "SELECT carrier,ROUND(avg(arr_delay),2) AS average_arrival_delay\n",
    "FROM flight_perf \n",
    "JOIN airline ON flight_perf.airline_key = airline.airline_key\n",
    "JOIN airport ON flight_perf.arr_airport_key = airport.airport_key\n",
    "WHERE dep_delay>0 AND airport.state = 'VA'\n",
    "GROUP BY carrier\n",
    "ORDER BY average_arrival_delay DESC"
   ]
  },
  {
   "cell_type": "code",
   "execution_count": 71,
   "metadata": {},
   "outputs": [
    {
     "data": {
      "text/plain": [
       "<BarContainer object of 10 artists>"
      ]
     },
     "execution_count": 71,
     "metadata": {},
     "output_type": "execute_result"
    },
    {
     "data": {
      "image/png": "[encoded data removed]",
      "text/plain": [
       "<Figure size 432x288 with 1 Axes>"
      ]
     },
     "metadata": {
      "needs_background": "light"
     },
     "output_type": "display_data"
    }
   ],
   "source": [
    "_.bar()"
   ]
  },
  {
   "cell_type": "markdown",
   "metadata": {},
   "source": [
    "For flights of which the destination is in Virginia, ExpressJet (EV) has the highest average delay minutes while Alaska has the lowest average delay minutes."
   ]
  },
  {
   "cell_type": "markdown",
   "metadata": {},
   "source": [
    "**Which Virginia airport experiences the most / least delays (for arrivals and departures)?**"
   ]
  },
  {
   "cell_type": "markdown",
   "metadata": {},
   "source": [
    "For all departures leaving Virginia airports:"
   ]
  },
  {
   "cell_type": "code",
   "execution_count": 72,
   "metadata": {},
   "outputs": [
    {
     "name": "stdout",
     "output_type": "stream",
     "text": [
      " * postgresql://student@/FinalProject\n",
      "2 rows affected.\n"
     ]
    },
    {
     "data": {
      "text/html": [
       "<table>\n",
       "    <tr>\n",
       "        <th>name</th>\n",
       "        <th>avg_dep_delay</th>\n",
       "    </tr>\n",
       "    <tr>\n",
       "        <td>CHO</td>\n",
       "        <td>70.00</td>\n",
       "    </tr>\n",
       "    <tr>\n",
       "        <td>DCA</td>\n",
       "        <td>39.83</td>\n",
       "    </tr>\n",
       "</table>"
      ],
      "text/plain": [
       "[('CHO', Decimal('70.00')), ('DCA', Decimal('39.83'))]"
      ]
     },
     "execution_count": 72,
     "metadata": {},
     "output_type": "execute_result"
    }
   ],
   "source": [
    "%%sql\n",
    "(SELECT name, ROUND(AVG(dep_delay),2) AS avg_dep_delay\n",
    "FROM flight_perf\n",
    "JOIN airport\n",
    "ON flight_perf.dep_airport_key = airport.airport_key\n",
    "WHERE dep_delay >0 AND state = 'VA'\n",
    "GROUP BY name\n",
    "ORDER BY avg_dep_delay DESC\n",
    "LIMIT 1)\n",
    "\n",
    "UNION ALL\n",
    "\n",
    "(SELECT name, ROUND(AVG(dep_delay),2) AS avg_dep_delay\n",
    "FROM flight_perf\n",
    "JOIN airport\n",
    "ON flight_perf.dep_airport_key = airport.airport_key\n",
    "WHERE dep_delay >0 AND state = 'VA'\n",
    "GROUP BY name\n",
    "ORDER BY avg_dep_delay\n",
    "LIMIT 1)"
   ]
  },
  {
   "cell_type": "markdown",
   "metadata": {},
   "source": [
    "From the above query, we can conclude that CHO (Charlottesville–Albemarle Airport) has the highest average departure delay and that DCA (Ronald Reagan Washington National Airport) has the lowest average departure delay."
   ]
  },
  {
   "cell_type": "markdown",
   "metadata": {},
   "source": [
    "For all arrivals into Virginia airports:"
   ]
  },
  {
   "cell_type": "code",
   "execution_count": 73,
   "metadata": {},
   "outputs": [
    {
     "name": "stdout",
     "output_type": "stream",
     "text": [
      " * postgresql://student@/FinalProject\n",
      "2 rows affected.\n"
     ]
    },
    {
     "data": {
      "text/html": [
       "<table>\n",
       "    <tr>\n",
       "        <th>name</th>\n",
       "        <th>avg_arr_delay</th>\n",
       "    </tr>\n",
       "    <tr>\n",
       "        <td>CHO</td>\n",
       "        <td>54.54</td>\n",
       "    </tr>\n",
       "    <tr>\n",
       "        <td>IAD</td>\n",
       "        <td>26.39</td>\n",
       "    </tr>\n",
       "</table>"
      ],
      "text/plain": [
       "[('CHO', Decimal('54.54')), ('IAD', Decimal('26.39'))]"
      ]
     },
     "execution_count": 73,
     "metadata": {},
     "output_type": "execute_result"
    }
   ],
   "source": [
    "%%sql\n",
    "(SELECT name, ROUND(AVG(arr_delay),2) AS avg_arr_delay\n",
    "FROM flight_perf\n",
    "JOIN airport\n",
    "ON flight_perf.arr_airport_key = airport.airport_key\n",
    "WHERE dep_delay >0 AND state = 'VA'\n",
    "GROUP BY name\n",
    "ORDER BY avg_arr_delay DESC\n",
    "LIMIT 1)\n",
    "\n",
    "UNION ALL\n",
    "\n",
    "(SELECT name, ROUND(AVG(arr_delay),2) AS avg_arr_delay\n",
    "FROM flight_perf\n",
    "JOIN airport\n",
    "ON flight_perf.arr_airport_key = airport.airport_key\n",
    "WHERE dep_delay >0 AND state = 'VA'\n",
    "GROUP BY name\n",
    "ORDER BY avg_arr_delay\n",
    "LIMIT 1)"
   ]
  },
  {
   "cell_type": "markdown",
   "metadata": {},
   "source": [
    "From the above query, we can conclude that CHO (Charlottesville–Albemarle Airport) has the highest average arrival delay and that IAD (Washington Dulles International Airport) has the lowest average departure delay."
   ]
  },
  {
   "cell_type": "markdown",
   "metadata": {},
   "source": [
    "**What are the main causes for delays?**"
   ]
  },
  {
   "cell_type": "code",
   "execution_count": 74,
   "metadata": {},
   "outputs": [
    {
     "name": "stdout",
     "output_type": "stream",
     "text": [
      " * postgresql://student@/FinalProject\n",
      "1 rows affected.\n"
     ]
    },
    {
     "data": {
      "text/html": [
       "<table>\n",
       "    <tr>\n",
       "        <th>carrier_delay_count</th>\n",
       "        <th>weather_delay_count</th>\n",
       "        <th>airtraffic_delay_count</th>\n",
       "        <th>security_delay_count</th>\n",
       "        <th>lateplane_delay_count</th>\n",
       "    </tr>\n",
       "    <tr>\n",
       "        <td>25105</td>\n",
       "        <td>2999</td>\n",
       "        <td>26979</td>\n",
       "        <td>95</td>\n",
       "        <td>24909</td>\n",
       "    </tr>\n",
       "</table>"
      ],
      "text/plain": [
       "[(25105, 2999, 26979, 95, 24909)]"
      ]
     },
     "execution_count": 74,
     "metadata": {},
     "output_type": "execute_result"
    }
   ],
   "source": [
    "%%sql\n",
    "SELECT (select count(reason_carrier) AS carrier_delay_count FROM flight_perf WHERE reason_carrier != 0),\n",
    "       (select count(reason_weather) AS weather_delay_count FROM flight_perf WHERE reason_weather !=0),\n",
    "       (select count(reason_airtraffic) AS airtraffic_delay_count FROM flight_perf WHERE reason_airtraffic !=0),\n",
    "       (select count(reason_security) AS security_delay_count FROM flight_perf WHERE reason_security !=0),\n",
    "       (select count(reason_lateplane) AS lateplane_delay_count FROM flight_perf WHERE reason_lateplane !=0)\n",
    "FROM flight_perf\n",
    "LIMIT 1"
   ]
  },
  {
   "cell_type": "markdown",
   "metadata": {},
   "source": [
    "The most popular reason for delay is air traffic delay, and the least popular one is security delay."
   ]
  },
  {
   "cell_type": "code",
   "execution_count": 75,
   "metadata": {},
   "outputs": [
    {
     "name": "stdout",
     "output_type": "stream",
     "text": [
      " * postgresql://student@/FinalProject\n",
      "1 rows affected.\n"
     ]
    },
    {
     "data": {
      "text/html": [
       "<table>\n",
       "    <tr>\n",
       "        <th>carrier_delay_avg</th>\n",
       "        <th>weather_delay_avg</th>\n",
       "        <th>airtraffic_delay_avg</th>\n",
       "        <th>security_delay_avg</th>\n",
       "        <th>lateplane_delay_avg</th>\n",
       "    </tr>\n",
       "    <tr>\n",
       "        <td>42.36</td>\n",
       "        <td>53.44</td>\n",
       "        <td>31.21</td>\n",
       "        <td>43.51</td>\n",
       "        <td>51.76</td>\n",
       "    </tr>\n",
       "</table>"
      ],
      "text/plain": [
       "[(Decimal('42.36'), Decimal('53.44'), Decimal('31.21'), Decimal('43.51'), Decimal('51.76'))]"
      ]
     },
     "execution_count": 75,
     "metadata": {},
     "output_type": "execute_result"
    }
   ],
   "source": [
    "%%sql\n",
    "SELECT (select round(avg(reason_carrier),2) AS carrier_delay_avg FROM flight_perf WHERE reason_carrier != 0),\n",
    "       (select round(avg(reason_weather),2) AS weather_delay_avg FROM flight_perf WHERE reason_weather !=0),\n",
    "       (select round(avg(reason_airtraffic),2) AS airtraffic_delay_avg FROM flight_perf WHERE reason_airtraffic !=0),\n",
    "       (select round(avg(reason_security),2) AS security_delay_avg FROM flight_perf WHERE reason_security !=0),\n",
    "       (select round(avg(reason_lateplane),2) AS lateplane_delay_avg FROM flight_perf WHERE reason_lateplane !=0)\n",
    "FROM flight_perf\n",
    "LIMIT 1"
   ]
  },
  {
   "cell_type": "markdown",
   "metadata": {},
   "source": [
    "Among the reasons that cause flight arrival delays, weather delay has the largest value of average delay minutes, and airtraffic has the samllest value of average delay minutes."
   ]
  },
  {
   "cell_type": "markdown",
   "metadata": {},
   "source": [
    "#### What are the timeblocks in the day when there is the highest/lowest average delay?"
   ]
  },
  {
   "cell_type": "code",
   "execution_count": 76,
   "metadata": {},
   "outputs": [
    {
     "name": "stdout",
     "output_type": "stream",
     "text": [
      " * postgresql://student@/FinalProject\n",
      "18 rows affected.\n"
     ]
    },
    {
     "data": {
      "text/html": [
       "<table>\n",
       "    <tr>\n",
       "        <th>timeblock</th>\n",
       "        <th>avg_arr_delay</th>\n",
       "    </tr>\n",
       "    <tr>\n",
       "        <td>0001-0559</td>\n",
       "        <td>41.17</td>\n",
       "    </tr>\n",
       "    <tr>\n",
       "        <td>0600-0659</td>\n",
       "        <td>37.65</td>\n",
       "    </tr>\n",
       "    <tr>\n",
       "        <td>0700-0759</td>\n",
       "        <td>44.16</td>\n",
       "    </tr>\n",
       "    <tr>\n",
       "        <td>0800-0859</td>\n",
       "        <td>42.34</td>\n",
       "    </tr>\n",
       "    <tr>\n",
       "        <td>0900-0959</td>\n",
       "        <td>39.46</td>\n",
       "    </tr>\n",
       "    <tr>\n",
       "        <td>1000-1059</td>\n",
       "        <td>42.17</td>\n",
       "    </tr>\n",
       "    <tr>\n",
       "        <td>1100-1159</td>\n",
       "        <td>33.13</td>\n",
       "    </tr>\n",
       "    <tr>\n",
       "        <td>1200-1259</td>\n",
       "        <td>36.80</td>\n",
       "    </tr>\n",
       "    <tr>\n",
       "        <td>1300-1359</td>\n",
       "        <td>34.89</td>\n",
       "    </tr>\n",
       "    <tr>\n",
       "        <td>1400-1459</td>\n",
       "        <td>47.33</td>\n",
       "    </tr>\n",
       "    <tr>\n",
       "        <td>1500-1559</td>\n",
       "        <td>39.93</td>\n",
       "    </tr>\n",
       "    <tr>\n",
       "        <td>1600-1659</td>\n",
       "        <td>38.90</td>\n",
       "    </tr>\n",
       "    <tr>\n",
       "        <td>1700-1759</td>\n",
       "        <td>46.40</td>\n",
       "    </tr>\n",
       "    <tr>\n",
       "        <td>1800-1859</td>\n",
       "        <td>51.00</td>\n",
       "    </tr>\n",
       "    <tr>\n",
       "        <td>1900-1959</td>\n",
       "        <td>52.08</td>\n",
       "    </tr>\n",
       "    <tr>\n",
       "        <td>2000-2059</td>\n",
       "        <td>52.97</td>\n",
       "    </tr>\n",
       "    <tr>\n",
       "        <td>2100-2159</td>\n",
       "        <td>48.65</td>\n",
       "    </tr>\n",
       "    <tr>\n",
       "        <td>2200-2259</td>\n",
       "        <td>41.18</td>\n",
       "    </tr>\n",
       "</table>"
      ],
      "text/plain": [
       "[('0001-0559', Decimal('41.17')),\n",
       " ('0600-0659', Decimal('37.65')),\n",
       " ('0700-0759', Decimal('44.16')),\n",
       " ('0800-0859', Decimal('42.34')),\n",
       " ('0900-0959', Decimal('39.46')),\n",
       " ('1000-1059', Decimal('42.17')),\n",
       " ('1100-1159', Decimal('33.13')),\n",
       " ('1200-1259', Decimal('36.80')),\n",
       " ('1300-1359', Decimal('34.89')),\n",
       " ('1400-1459', Decimal('47.33')),\n",
       " ('1500-1559', Decimal('39.93')),\n",
       " ('1600-1659', Decimal('38.90')),\n",
       " ('1700-1759', Decimal('46.40')),\n",
       " ('1800-1859', Decimal('51.00')),\n",
       " ('1900-1959', Decimal('52.08')),\n",
       " ('2000-2059', Decimal('52.97')),\n",
       " ('2100-2159', Decimal('48.65')),\n",
       " ('2200-2259', Decimal('41.18'))]"
      ]
     },
     "execution_count": 76,
     "metadata": {},
     "output_type": "execute_result"
    }
   ],
   "source": [
    "%%sql\n",
    "SELECT timeblock, round(avg(dep_delay),2) AS avg_arr_delay\n",
    "FROM flight_perf\n",
    "JOIN datetime\n",
    "ON flight_perf.dep_datetime_key = datetime.datetime_key\n",
    "JOIN airport on flight_perf.dep_airport_key = airport.airport_key\n",
    "WHERE airport.state = 'VA' AND dep_delay>0\n",
    "GROUP BY timeblock\n",
    "ORDER BY timeblock"
   ]
  },
  {
   "cell_type": "code",
   "execution_count": 77,
   "metadata": {},
   "outputs": [
    {
     "name": "stdout",
     "output_type": "stream",
     "text": [
      " * postgresql://student@/FinalProject\n",
      "19 rows affected.\n"
     ]
    },
    {
     "data": {
      "text/html": [
       "<table>\n",
       "    <tr>\n",
       "        <th>timeblock</th>\n",
       "        <th>avg_arr_delay</th>\n",
       "    </tr>\n",
       "    <tr>\n",
       "        <td>0001-0559</td>\n",
       "        <td>34.12</td>\n",
       "    </tr>\n",
       "    <tr>\n",
       "        <td>0600-0659</td>\n",
       "        <td>31.47</td>\n",
       "    </tr>\n",
       "    <tr>\n",
       "        <td>0700-0759</td>\n",
       "        <td>28.15</td>\n",
       "    </tr>\n",
       "    <tr>\n",
       "        <td>0800-0859</td>\n",
       "        <td>30.03</td>\n",
       "    </tr>\n",
       "    <tr>\n",
       "        <td>0900-0959</td>\n",
       "        <td>26.79</td>\n",
       "    </tr>\n",
       "    <tr>\n",
       "        <td>1000-1059</td>\n",
       "        <td>28.74</td>\n",
       "    </tr>\n",
       "    <tr>\n",
       "        <td>1100-1159</td>\n",
       "        <td>30.73</td>\n",
       "    </tr>\n",
       "    <tr>\n",
       "        <td>1200-1259</td>\n",
       "        <td>32.64</td>\n",
       "    </tr>\n",
       "    <tr>\n",
       "        <td>1300-1359</td>\n",
       "        <td>29.96</td>\n",
       "    </tr>\n",
       "    <tr>\n",
       "        <td>1400-1459</td>\n",
       "        <td>35.01</td>\n",
       "    </tr>\n",
       "    <tr>\n",
       "        <td>1500-1559</td>\n",
       "        <td>40.34</td>\n",
       "    </tr>\n",
       "    <tr>\n",
       "        <td>1600-1659</td>\n",
       "        <td>38.30</td>\n",
       "    </tr>\n",
       "    <tr>\n",
       "        <td>1700-1759</td>\n",
       "        <td>40.92</td>\n",
       "    </tr>\n",
       "    <tr>\n",
       "        <td>1800-1859</td>\n",
       "        <td>45.47</td>\n",
       "    </tr>\n",
       "    <tr>\n",
       "        <td>1900-1959</td>\n",
       "        <td>45.62</td>\n",
       "    </tr>\n",
       "    <tr>\n",
       "        <td>2000-2059</td>\n",
       "        <td>48.94</td>\n",
       "    </tr>\n",
       "    <tr>\n",
       "        <td>2100-2159</td>\n",
       "        <td>43.17</td>\n",
       "    </tr>\n",
       "    <tr>\n",
       "        <td>2200-2259</td>\n",
       "        <td>35.02</td>\n",
       "    </tr>\n",
       "    <tr>\n",
       "        <td>2300-2359</td>\n",
       "        <td>23.82</td>\n",
       "    </tr>\n",
       "</table>"
      ],
      "text/plain": [
       "[('0001-0559', Decimal('34.12')),\n",
       " ('0600-0659', Decimal('31.47')),\n",
       " ('0700-0759', Decimal('28.15')),\n",
       " ('0800-0859', Decimal('30.03')),\n",
       " ('0900-0959', Decimal('26.79')),\n",
       " ('1000-1059', Decimal('28.74')),\n",
       " ('1100-1159', Decimal('30.73')),\n",
       " ('1200-1259', Decimal('32.64')),\n",
       " ('1300-1359', Decimal('29.96')),\n",
       " ('1400-1459', Decimal('35.01')),\n",
       " ('1500-1559', Decimal('40.34')),\n",
       " ('1600-1659', Decimal('38.30')),\n",
       " ('1700-1759', Decimal('40.92')),\n",
       " ('1800-1859', Decimal('45.47')),\n",
       " ('1900-1959', Decimal('45.62')),\n",
       " ('2000-2059', Decimal('48.94')),\n",
       " ('2100-2159', Decimal('43.17')),\n",
       " ('2200-2259', Decimal('35.02')),\n",
       " ('2300-2359', Decimal('23.82'))]"
      ]
     },
     "execution_count": 77,
     "metadata": {},
     "output_type": "execute_result"
    }
   ],
   "source": [
    "%%sql\n",
    "SELECT timeblock, round(avg(dep_delay),2) AS avg_arr_delay\n",
    "FROM flight_perf\n",
    "JOIN datetime\n",
    "ON flight_perf.dep_datetime_key = datetime.datetime_key\n",
    "JOIN airport on flight_perf.arr_airport_key = airport.airport_key\n",
    "WHERE airport.state = 'VA' AND dep_delay>0\n",
    "GROUP BY timeblock\n",
    "ORDER BY timeblock"
   ]
  },
  {
   "cell_type": "markdown",
   "metadata": {},
   "source": [
    "<img src=\"https://s3.amazonaws.com/2018-dmfa-group7/final_project/delay_timeblock_combined.png\"/>"
   ]
  },
  {
   "cell_type": "markdown",
   "metadata": {},
   "source": [
    "For flights that departs from VA, more average delay minutes is experienced in 1800-1859,1900-1959,2000,2059,2100-2159 compared to other time in the day. This consecutive longer delay time indicates the time interval from 1800-2159 is the busiest time for airports in VA.\n",
    "<br>\n",
    "For flights that arrives at VA, we observed similar patterns that the peak is at 2100-2159. It is also found that flights arrive at VA at 0800-0859 in the morning has the lowest average arrival delay minutes."
   ]
  },
  {
   "cell_type": "markdown",
   "metadata": {},
   "source": [
    "---"
   ]
  },
  {
   "cell_type": "markdown",
   "metadata": {},
   "source": [
    "### Bonus - Augment"
   ]
  },
  {
   "cell_type": "markdown",
   "metadata": {},
   "source": [
    "*Please note: we assumed that when the question stated \"Pull this additional data into your chosen environment\" we were not required to add it to our current star schema. But instead compare it side by side or by using non-index keys.*"
   ]
  },
  {
   "cell_type": "markdown",
   "metadata": {},
   "source": [
    "We chose to add two additional datasets:\n",
    "- The FAA's 2017 Aircraft Registration Database (https://www.faa.gov/licenses_certificates/aircraft_certification/aircraft_registry/releasable_aircraft_download/)\n",
    "- NOAA's Weather Daily Summary Database (https://www.ncdc.noaa.gov/cdo-web/)"
   ]
  },
  {
   "cell_type": "markdown",
   "metadata": {},
   "source": [
    "#### Aicraft Tail Numbers"
   ]
  },
  {
   "cell_type": "markdown",
   "metadata": {},
   "source": [
    "All US aicrafts are required by law to be registered with the Federal Aviation Administration, whether they are a small one-person glyder or a massive jumbo jet, all flying aircraft are given a number called the \"N-Number\" which can be compared to a phone number. The reason for this comparison is that a N-Number may be transferred or renewed over time, meaning that an aicraft may have multiple registration numbers over the course of its lifespan. This makes it particularly challenging when analyzing data as the information provided on our original dataset is static in time (i.e.: a plane that flew in January may have one registration then, and have another one by December). Furthermore, the dataset that contains information about the aicraft model and manufacturer associated to each N-Number provides numeric data (i.e.: an Airbus A350 is not labelled as such but instead is coded as 3940050). This would not be very helpful because we want to actually see the aircraft model and not just its model ID. \n",
    "\n",
    "We had two issues to overcome: ensuring that we had the correct registration number for each aicraft, and obtaining readable information. We solved these by combining three different tables from the FAA, the 2017 Master Registration dataset, the 2017 Deregistrations dataset, and the Aircraft Reference Table. By using Triffacta we were able to append the deregistrations dataset to the master registration dataset (excluding the registrations number that already existed in the master table), and then joining the combined dataset with the reference table to obtain readable information about each aicraft."
   ]
  },
  {
   "cell_type": "markdown",
   "metadata": {},
   "source": [
    "Let's start by identifying the variables in the data:"
   ]
  },
  {
   "cell_type": "code",
   "execution_count": 78,
   "metadata": {},
   "outputs": [
    {
     "name": "stdout",
     "output_type": "stream",
     "text": [
      "  1: N-NUMBER\n",
      "  2: MFR_NEW\n",
      "  3: MODEL\n",
      "  4: NO-ENG\n",
      "  5: NO-SEATS\n"
     ]
    }
   ],
   "source": [
    "!csvcut -n tail_numbers.csv"
   ]
  },
  {
   "cell_type": "code",
   "execution_count": 79,
   "metadata": {},
   "outputs": [
    {
     "name": "stdout",
     "output_type": "stream",
     "text": [
      "Row count: 148911\n"
     ]
    }
   ],
   "source": [
    "!csvstat --count tail_numbers.csv"
   ]
  },
  {
   "cell_type": "code",
   "execution_count": 80,
   "metadata": {},
   "outputs": [
    {
     "name": "stdout",
     "output_type": "stream",
     "text": [
      "  1. \"N-NUMBER\"\n",
      "\n",
      "\tType of data:          Text\n",
      "\tContains null values:  False\n",
      "\tUnique values:         9\n",
      "\tLongest value:         6 characters\n",
      "\tMost common values:    N91296 (1x)\n",
      "\t                       N86TZ  (1x)\n",
      "\t                       N164RS (1x)\n",
      "\t                       N69HF  (1x)\n",
      "\t                       N846E  (1x)\n",
      "\n",
      "  2. \"MFR_NEW\"\n",
      "\n",
      "\tType of data:          Text\n",
      "\tContains null values:  False\n",
      "\tUnique values:         8\n",
      "\tLongest value:         24 characters\n",
      "\tMost common values:    DAWN AIR INC (2x)\n",
      "\t                       DORSCHNER DOUGLAS HAROLD (1x)\n",
      "\t                       USZUKO TIMOTHY C (1x)\n",
      "\t                       SMITH RON (1x)\n",
      "\t                       FEUCHTER HOMER WILBUR (1x)\n",
      "\n",
      "  3. \"MODEL\"\n",
      "\n",
      "\tType of data:          Text\n",
      "\tContains null values:  False\n",
      "\tUnique values:         8\n",
      "\tLongest value:         14 characters\n",
      "\tMost common values:    EZ FLYER (2x)\n",
      "\t                       MARINER (1x)\n",
      "\t                       RUTAN LONG EZE (1x)\n",
      "\t                       RV6A (1x)\n",
      "\t                       RV6 (1x)\n",
      "\n",
      "  4. \"NO-ENG\"\n",
      "\n",
      "\tType of data:          Boolean\n",
      "\tContains null values:  False\n",
      "\tUnique values:         1\n",
      "\tMost common values:    True (9x)\n",
      "\n",
      "  5. \"NO-SEATS\"\n",
      "\n",
      "\tType of data:          Number\n",
      "\tContains null values:  False\n",
      "\tUnique values:         2\n",
      "\tSmallest value:        1\n",
      "\tLargest value:         2\n",
      "\tSum:                   17\n",
      "\tMean:                  1.889\n",
      "\tMedian:                2\n",
      "\tStDev:                 0.333\n",
      "\tMost common values:    2 (8x)\n",
      "\t                       1 (1x)\n",
      "\n",
      "Row count: 9\n"
     ]
    }
   ],
   "source": [
    "!head tail_numbers.csv | csvstat"
   ]
  },
  {
   "cell_type": "markdown",
   "metadata": {},
   "source": [
    "Let's add it to our database! We'll first create a table:"
   ]
  },
  {
   "cell_type": "code",
   "execution_count": 81,
   "metadata": {},
   "outputs": [
    {
     "name": "stdout",
     "output_type": "stream",
     "text": [
      " * postgresql://student@/FinalProject\n",
      "Done.\n",
      "Done.\n"
     ]
    },
    {
     "data": {
      "text/plain": [
       "[]"
      ]
     },
     "execution_count": 81,
     "metadata": {},
     "output_type": "execute_result"
    }
   ],
   "source": [
    "%%sql\n",
    "DROP TABLE IF EXISTS tails;\n",
    "\n",
    "CREATE TABLE tails (\n",
    "    number VARCHAR(6),\n",
    "    manufacturer VARCHAR(50),\n",
    "    model VARCHAR(30),\n",
    "    engines INTEGER,\n",
    "    seats INTEGER\n",
    ")"
   ]
  },
  {
   "cell_type": "markdown",
   "metadata": {},
   "source": [
    "Now that the table has been created, we will fill it with the contents in our *flights.csv* file:"
   ]
  },
  {
   "cell_type": "code",
   "execution_count": 82,
   "metadata": {},
   "outputs": [
    {
     "name": "stdout",
     "output_type": "stream",
     "text": [
      " * postgresql://student@/FinalProject\n",
      "148911 rows affected.\n"
     ]
    },
    {
     "data": {
      "text/plain": [
       "[]"
      ]
     },
     "execution_count": 82,
     "metadata": {},
     "output_type": "execute_result"
    }
   ],
   "source": [
    "%%sql\n",
    "COPY tails FROM '/home/ubuntu/tail_numbers.csv'\n",
    "CSV\n",
    "HEADER;"
   ]
  },
  {
   "cell_type": "markdown",
   "metadata": {},
   "source": [
    "Let's preview our table:"
   ]
  },
  {
   "cell_type": "code",
   "execution_count": 83,
   "metadata": {},
   "outputs": [
    {
     "name": "stdout",
     "output_type": "stream",
     "text": [
      " * postgresql://student@/FinalProject\n",
      "5 rows affected.\n"
     ]
    },
    {
     "data": {
      "text/html": [
       "<table>\n",
       "    <tr>\n",
       "        <th>number</th>\n",
       "        <th>manufacturer</th>\n",
       "        <th>model</th>\n",
       "        <th>engines</th>\n",
       "        <th>seats</th>\n",
       "    </tr>\n",
       "    <tr>\n",
       "        <td>N91296</td>\n",
       "        <td>DORSCHNER DOUGLAS HAROLD</td>\n",
       "        <td>MARINER</td>\n",
       "        <td>1</td>\n",
       "        <td>2</td>\n",
       "    </tr>\n",
       "    <tr>\n",
       "        <td>N86TZ </td>\n",
       "        <td>USZUKO TIMOTHY C</td>\n",
       "        <td>RUTAN LONG EZE</td>\n",
       "        <td>1</td>\n",
       "        <td>2</td>\n",
       "    </tr>\n",
       "    <tr>\n",
       "        <td>N164RS</td>\n",
       "        <td>SMITH RON</td>\n",
       "        <td>RV6A</td>\n",
       "        <td>1</td>\n",
       "        <td>2</td>\n",
       "    </tr>\n",
       "    <tr>\n",
       "        <td>N69HF </td>\n",
       "        <td>FEUCHTER HOMER WILBUR</td>\n",
       "        <td>RV6</td>\n",
       "        <td>1</td>\n",
       "        <td>2</td>\n",
       "    </tr>\n",
       "    <tr>\n",
       "        <td>N846E </td>\n",
       "        <td>RICHARDSON RONALD B</td>\n",
       "        <td>RV-6</td>\n",
       "        <td>1</td>\n",
       "        <td>2</td>\n",
       "    </tr>\n",
       "</table>"
      ],
      "text/plain": [
       "[('N91296', 'DORSCHNER DOUGLAS HAROLD', 'MARINER', 1, 2),\n",
       " ('N86TZ ', 'USZUKO TIMOTHY C', 'RUTAN LONG EZE', 1, 2),\n",
       " ('N164RS', 'SMITH RON', 'RV6A', 1, 2),\n",
       " ('N69HF ', 'FEUCHTER HOMER WILBUR', 'RV6', 1, 2),\n",
       " ('N846E ', 'RICHARDSON RONALD B', 'RV-6', 1, 2)]"
      ]
     },
     "execution_count": 83,
     "metadata": {},
     "output_type": "execute_result"
    }
   ],
   "source": [
    "%%sql\n",
    "SELECT * \n",
    "FROM tails\n",
    "LIMIT 5"
   ]
  },
  {
   "cell_type": "markdown",
   "metadata": {},
   "source": [
    "Great!"
   ]
  },
  {
   "cell_type": "markdown",
   "metadata": {},
   "source": [
    "**Which aircraft models were mainly used in 2017?**"
   ]
  },
  {
   "cell_type": "code",
   "execution_count": 84,
   "metadata": {},
   "outputs": [
    {
     "name": "stdout",
     "output_type": "stream",
     "text": [
      " * postgresql://student@/FinalProject\n",
      "10 rows affected.\n"
     ]
    },
    {
     "data": {
      "text/html": [
       "<table>\n",
       "    <tr>\n",
       "        <th>model</th>\n",
       "        <th>count</th>\n",
       "        <th>manufacturer</th>\n",
       "    </tr>\n",
       "    <tr>\n",
       "        <td>ERJ 190-100 IGW</td>\n",
       "        <td>27173</td>\n",
       "        <td>EMBRAER</td>\n",
       "    </tr>\n",
       "    <tr>\n",
       "        <td>737-7H4</td>\n",
       "        <td>26801</td>\n",
       "        <td>BOEING</td>\n",
       "    </tr>\n",
       "    <tr>\n",
       "        <td>737-924ER</td>\n",
       "        <td>21666</td>\n",
       "        <td>BOEING</td>\n",
       "    </tr>\n",
       "    <tr>\n",
       "        <td>A320-232</td>\n",
       "        <td>15514</td>\n",
       "        <td>AIRBUS</td>\n",
       "    </tr>\n",
       "    <tr>\n",
       "        <td>MD-88</td>\n",
       "        <td>11786</td>\n",
       "        <td>MCDONNELL</td>\n",
       "    </tr>\n",
       "    <tr>\n",
       "        <td>EMB-145LR</td>\n",
       "        <td>9706</td>\n",
       "        <td>EMBRAER</td>\n",
       "    </tr>\n",
       "    <tr>\n",
       "        <td>CL-600-2C10</td>\n",
       "        <td>9398</td>\n",
       "        <td>BOMBARDIER INC</td>\n",
       "    </tr>\n",
       "    <tr>\n",
       "        <td>737-824</td>\n",
       "        <td>9390</td>\n",
       "        <td>BOEING</td>\n",
       "    </tr>\n",
       "    <tr>\n",
       "        <td>A321-211</td>\n",
       "        <td>6282</td>\n",
       "        <td>AIRBUS</td>\n",
       "    </tr>\n",
       "    <tr>\n",
       "        <td>CL-600-2B19</td>\n",
       "        <td>6044</td>\n",
       "        <td>BOMBARDIER INC</td>\n",
       "    </tr>\n",
       "</table>"
      ],
      "text/plain": [
       "[('ERJ 190-100 IGW', 27173, 'EMBRAER'),\n",
       " ('737-7H4', 26801, 'BOEING'),\n",
       " ('737-924ER', 21666, 'BOEING'),\n",
       " ('A320-232', 15514, 'AIRBUS'),\n",
       " ('MD-88', 11786, 'MCDONNELL'),\n",
       " ('EMB-145LR', 9706, 'EMBRAER'),\n",
       " ('CL-600-2C10', 9398, 'BOMBARDIER INC'),\n",
       " ('737-824', 9390, 'BOEING'),\n",
       " ('A321-211', 6282, 'AIRBUS'),\n",
       " ('CL-600-2B19', 6044, 'BOMBARDIER INC')]"
      ]
     },
     "execution_count": 84,
     "metadata": {},
     "output_type": "execute_result"
    }
   ],
   "source": [
    "%%sql\n",
    "SELECT tails.model, count(tails.model), tails.manufacturer\n",
    "FROM tails\n",
    "    LEFT OUTER JOIN aircraft ON aircraft.tail = tails.number \n",
    "    INNER JOIN flight_perf ON aircraft.aircraft_key = flight_perf.aircraft_key\n",
    "GROUP BY tails.model, tails.manufacturer\n",
    "ORDER BY count DESC\n",
    "LIMIT 10"
   ]
  },
  {
   "cell_type": "markdown",
   "metadata": {},
   "source": [
    "It appears that the ERJ-190 aircraft made by the Brazilian manufacturer Embraer dominated the domestic flight market. These are usually the planes operated by United Express, American Eagle... for regional flights. The Boeing 737 is very close and if you combine the variants, this model is the market leader. This is not surprising as some airlines such as Southwest only have 737s in their fleet. "
   ]
  },
  {
   "cell_type": "markdown",
   "metadata": {},
   "source": [
    "**What are the most frequent airplanes seen at Washington Reagan (DCA)?**"
   ]
  },
  {
   "cell_type": "code",
   "execution_count": 85,
   "metadata": {},
   "outputs": [
    {
     "name": "stdout",
     "output_type": "stream",
     "text": [
      " * postgresql://student@/FinalProject\n",
      "10 rows affected.\n"
     ]
    },
    {
     "data": {
      "text/html": [
       "<table>\n",
       "    <tr>\n",
       "        <th>model</th>\n",
       "        <th>plane</th>\n",
       "        <th>airport</th>\n",
       "        <th>state</th>\n",
       "    </tr>\n",
       "    <tr>\n",
       "        <td>737-7H4</td>\n",
       "        <td>10416</td>\n",
       "        <td>DCA</td>\n",
       "        <td>VA</td>\n",
       "    </tr>\n",
       "    <tr>\n",
       "        <td>ERJ 190-100 IGW</td>\n",
       "        <td>9037</td>\n",
       "        <td>DCA</td>\n",
       "        <td>VA</td>\n",
       "    </tr>\n",
       "    <tr>\n",
       "        <td>A321-211</td>\n",
       "        <td>3139</td>\n",
       "        <td>DCA</td>\n",
       "        <td>VA</td>\n",
       "    </tr>\n",
       "    <tr>\n",
       "        <td>EMB-145LR</td>\n",
       "        <td>2702</td>\n",
       "        <td>DCA</td>\n",
       "        <td>VA</td>\n",
       "    </tr>\n",
       "    <tr>\n",
       "        <td>A320-232</td>\n",
       "        <td>2244</td>\n",
       "        <td>DCA</td>\n",
       "        <td>VA</td>\n",
       "    </tr>\n",
       "    <tr>\n",
       "        <td>ERJ 170-200 LR</td>\n",
       "        <td>1981</td>\n",
       "        <td>DCA</td>\n",
       "        <td>VA</td>\n",
       "    </tr>\n",
       "    <tr>\n",
       "        <td>737-890</td>\n",
       "        <td>1440</td>\n",
       "        <td>DCA</td>\n",
       "        <td>VA</td>\n",
       "    </tr>\n",
       "    <tr>\n",
       "        <td>A320-212</td>\n",
       "        <td>1140</td>\n",
       "        <td>DCA</td>\n",
       "        <td>VA</td>\n",
       "    </tr>\n",
       "    <tr>\n",
       "        <td>MD-90-30</td>\n",
       "        <td>1118</td>\n",
       "        <td>DCA</td>\n",
       "        <td>VA</td>\n",
       "    </tr>\n",
       "    <tr>\n",
       "        <td>A319-131</td>\n",
       "        <td>1088</td>\n",
       "        <td>DCA</td>\n",
       "        <td>VA</td>\n",
       "    </tr>\n",
       "</table>"
      ],
      "text/plain": [
       "[('737-7H4', 10416, 'DCA', 'VA'),\n",
       " ('ERJ 190-100 IGW', 9037, 'DCA', 'VA'),\n",
       " ('A321-211', 3139, 'DCA', 'VA'),\n",
       " ('EMB-145LR', 2702, 'DCA', 'VA'),\n",
       " ('A320-232', 2244, 'DCA', 'VA'),\n",
       " ('ERJ 170-200 LR', 1981, 'DCA', 'VA'),\n",
       " ('737-890', 1440, 'DCA', 'VA'),\n",
       " ('A320-212', 1140, 'DCA', 'VA'),\n",
       " ('MD-90-30', 1118, 'DCA', 'VA'),\n",
       " ('A319-131', 1088, 'DCA', 'VA')]"
      ]
     },
     "execution_count": 85,
     "metadata": {},
     "output_type": "execute_result"
    }
   ],
   "source": [
    "%%sql\n",
    "SELECT tails.model, count(tails.model) as plane, airport.name as airport, airport.state\n",
    "FROM tails\n",
    "    LEFT JOIN aircraft ON aircraft.tail = tails.number \n",
    "    INNER JOIN flight_perf ON aircraft.aircraft_key = flight_perf.aircraft_key\n",
    "    INNER JOIN airport ON flight_perf.dep_airport_key = airport.airport_key\n",
    "GROUP BY tails.model, airport.name, airport.state\n",
    "HAVING airport.name = 'DCA'\n",
    "ORDER BY plane DESC\n",
    "LIMIT 10"
   ]
  },
  {
   "cell_type": "markdown",
   "metadata": {},
   "source": [
    "**What about Washington Dulles (IAD)?**"
   ]
  },
  {
   "cell_type": "code",
   "execution_count": 86,
   "metadata": {},
   "outputs": [
    {
     "name": "stdout",
     "output_type": "stream",
     "text": [
      " * postgresql://student@/FinalProject\n",
      "10 rows affected.\n"
     ]
    },
    {
     "data": {
      "text/html": [
       "<table>\n",
       "    <tr>\n",
       "        <th>model</th>\n",
       "        <th>plane</th>\n",
       "        <th>airport</th>\n",
       "        <th>state</th>\n",
       "    </tr>\n",
       "    <tr>\n",
       "        <td>737-924ER</td>\n",
       "        <td>10502</td>\n",
       "        <td>IAD</td>\n",
       "        <td>VA</td>\n",
       "    </tr>\n",
       "    <tr>\n",
       "        <td>A320-232</td>\n",
       "        <td>5248</td>\n",
       "        <td>IAD</td>\n",
       "        <td>VA</td>\n",
       "    </tr>\n",
       "    <tr>\n",
       "        <td>737-824</td>\n",
       "        <td>3726</td>\n",
       "        <td>IAD</td>\n",
       "        <td>VA</td>\n",
       "    </tr>\n",
       "    <tr>\n",
       "        <td>ERJ 190-100 IGW</td>\n",
       "        <td>1976</td>\n",
       "        <td>IAD</td>\n",
       "        <td>VA</td>\n",
       "    </tr>\n",
       "    <tr>\n",
       "        <td>A320-214</td>\n",
       "        <td>1946</td>\n",
       "        <td>IAD</td>\n",
       "        <td>VA</td>\n",
       "    </tr>\n",
       "    <tr>\n",
       "        <td>MD-88</td>\n",
       "        <td>1655</td>\n",
       "        <td>IAD</td>\n",
       "        <td>VA</td>\n",
       "    </tr>\n",
       "    <tr>\n",
       "        <td>757-224</td>\n",
       "        <td>1289</td>\n",
       "        <td>IAD</td>\n",
       "        <td>VA</td>\n",
       "    </tr>\n",
       "    <tr>\n",
       "        <td>737-7H4</td>\n",
       "        <td>1067</td>\n",
       "        <td>IAD</td>\n",
       "        <td>VA</td>\n",
       "    </tr>\n",
       "    <tr>\n",
       "        <td>717-200</td>\n",
       "        <td>748</td>\n",
       "        <td>IAD</td>\n",
       "        <td>VA</td>\n",
       "    </tr>\n",
       "    <tr>\n",
       "        <td>737-900ER</td>\n",
       "        <td>631</td>\n",
       "        <td>IAD</td>\n",
       "        <td>VA</td>\n",
       "    </tr>\n",
       "</table>"
      ],
      "text/plain": [
       "[('737-924ER', 10502, 'IAD', 'VA'),\n",
       " ('A320-232', 5248, 'IAD', 'VA'),\n",
       " ('737-824', 3726, 'IAD', 'VA'),\n",
       " ('ERJ 190-100 IGW', 1976, 'IAD', 'VA'),\n",
       " ('A320-214', 1946, 'IAD', 'VA'),\n",
       " ('MD-88', 1655, 'IAD', 'VA'),\n",
       " ('757-224', 1289, 'IAD', 'VA'),\n",
       " ('737-7H4', 1067, 'IAD', 'VA'),\n",
       " ('717-200', 748, 'IAD', 'VA'),\n",
       " ('737-900ER', 631, 'IAD', 'VA')]"
      ]
     },
     "execution_count": 86,
     "metadata": {},
     "output_type": "execute_result"
    }
   ],
   "source": [
    "%%sql\n",
    "SELECT tails.model, count(tails.model) as plane, airport.name as airport, airport.state\n",
    "FROM tails\n",
    "    LEFT JOIN aircraft ON aircraft.tail = tails.number \n",
    "    INNER JOIN flight_perf ON aircraft.aircraft_key = flight_perf.aircraft_key\n",
    "    INNER JOIN airport ON flight_perf.dep_airport_key = airport.airport_key\n",
    "GROUP BY tails.model, airport.name, airport.state\n",
    "HAVING airport.name = 'IAD'\n",
    "ORDER BY plane DESC\n",
    "LIMIT 10"
   ]
  },
  {
   "cell_type": "markdown",
   "metadata": {},
   "source": [
    "When you compare the two results, you can easily tell that IAD is capable of handling more larger planes than DCA. For example, one would never see a 757 landing in DCA. On the other hand, one would see more small planes such as the ERJs and EMBs in DCA."
   ]
  },
  {
   "cell_type": "markdown",
   "metadata": {},
   "source": [
    "**Is there a particular aircraft that had more overall delays in 2017?**"
   ]
  },
  {
   "cell_type": "code",
   "execution_count": 87,
   "metadata": {},
   "outputs": [
    {
     "name": "stdout",
     "output_type": "stream",
     "text": [
      " * postgresql://student@/FinalProject\n",
      "20 rows affected.\n"
     ]
    },
    {
     "data": {
      "text/html": [
       "<table>\n",
       "    <tr>\n",
       "        <th>model</th>\n",
       "        <th>dep_delay</th>\n",
       "        <th>arr_delay</th>\n",
       "    </tr>\n",
       "    <tr>\n",
       "        <td>PC-12/47E</td>\n",
       "        <td>163.20</td>\n",
       "        <td>160.60</td>\n",
       "    </tr>\n",
       "    <tr>\n",
       "        <td>767-322</td>\n",
       "        <td>145.65</td>\n",
       "        <td>142.04</td>\n",
       "    </tr>\n",
       "    <tr>\n",
       "        <td>737-732</td>\n",
       "        <td>127.95</td>\n",
       "        <td>122.10</td>\n",
       "    </tr>\n",
       "    <tr>\n",
       "        <td>A319-111</td>\n",
       "        <td>112.70</td>\n",
       "        <td>106.09</td>\n",
       "    </tr>\n",
       "    <tr>\n",
       "        <td>737-700</td>\n",
       "        <td>110.50</td>\n",
       "        <td>95.38</td>\n",
       "    </tr>\n",
       "    <tr>\n",
       "        <td>SR22T</td>\n",
       "        <td>105.33</td>\n",
       "        <td>94.00</td>\n",
       "    </tr>\n",
       "    <tr>\n",
       "        <td>MU-2B-60</td>\n",
       "        <td>104.90</td>\n",
       "        <td>105.10</td>\n",
       "    </tr>\n",
       "    <tr>\n",
       "        <td>525</td>\n",
       "        <td>96.75</td>\n",
       "        <td>100.75</td>\n",
       "    </tr>\n",
       "    <tr>\n",
       "        <td>AIRCAM</td>\n",
       "        <td>89.88</td>\n",
       "        <td>81.88</td>\n",
       "    </tr>\n",
       "    <tr>\n",
       "        <td>G-IV</td>\n",
       "        <td>84.94</td>\n",
       "        <td>83.54</td>\n",
       "    </tr>\n",
       "    <tr>\n",
       "        <td>CL-600-2C10</td>\n",
       "        <td>83.72</td>\n",
       "        <td>81.10</td>\n",
       "    </tr>\n",
       "    <tr>\n",
       "        <td>P68B</td>\n",
       "        <td>79.20</td>\n",
       "        <td>74.70</td>\n",
       "    </tr>\n",
       "    <tr>\n",
       "        <td>SR22</td>\n",
       "        <td>77.72</td>\n",
       "        <td>70.89</td>\n",
       "    </tr>\n",
       "    <tr>\n",
       "        <td>717-200</td>\n",
       "        <td>76.04</td>\n",
       "        <td>71.84</td>\n",
       "    </tr>\n",
       "    <tr>\n",
       "        <td>757-224</td>\n",
       "        <td>75.70</td>\n",
       "        <td>69.99</td>\n",
       "    </tr>\n",
       "    <tr>\n",
       "        <td>757-2Q8</td>\n",
       "        <td>74.05</td>\n",
       "        <td>71.81</td>\n",
       "    </tr>\n",
       "    <tr>\n",
       "        <td>P35</td>\n",
       "        <td>73.50</td>\n",
       "        <td>94.00</td>\n",
       "    </tr>\n",
       "    <tr>\n",
       "        <td>CL-600-2D24</td>\n",
       "        <td>71.34</td>\n",
       "        <td>66.41</td>\n",
       "    </tr>\n",
       "    <tr>\n",
       "        <td>EMB-145LR</td>\n",
       "        <td>70.21</td>\n",
       "        <td>71.15</td>\n",
       "    </tr>\n",
       "    <tr>\n",
       "        <td>EMB-145XR</td>\n",
       "        <td>69.48</td>\n",
       "        <td>68.42</td>\n",
       "    </tr>\n",
       "</table>"
      ],
      "text/plain": [
       "[('PC-12/47E', Decimal('163.20'), Decimal('160.60')),\n",
       " ('767-322', Decimal('145.65'), Decimal('142.04')),\n",
       " ('737-732', Decimal('127.95'), Decimal('122.10')),\n",
       " ('A319-111', Decimal('112.70'), Decimal('106.09')),\n",
       " ('737-700', Decimal('110.50'), Decimal('95.38')),\n",
       " ('SR22T', Decimal('105.33'), Decimal('94.00')),\n",
       " ('MU-2B-60', Decimal('104.90'), Decimal('105.10')),\n",
       " ('525', Decimal('96.75'), Decimal('100.75')),\n",
       " ('AIRCAM', Decimal('89.88'), Decimal('81.88')),\n",
       " ('G-IV', Decimal('84.94'), Decimal('83.54')),\n",
       " ('CL-600-2C10', Decimal('83.72'), Decimal('81.10')),\n",
       " ('P68B', Decimal('79.20'), Decimal('74.70')),\n",
       " ('SR22', Decimal('77.72'), Decimal('70.89')),\n",
       " ('717-200', Decimal('76.04'), Decimal('71.84')),\n",
       " ('757-224', Decimal('75.70'), Decimal('69.99')),\n",
       " ('757-2Q8', Decimal('74.05'), Decimal('71.81')),\n",
       " ('P35', Decimal('73.50'), Decimal('94.00')),\n",
       " ('CL-600-2D24', Decimal('71.34'), Decimal('66.41')),\n",
       " ('EMB-145LR', Decimal('70.21'), Decimal('71.15')),\n",
       " ('EMB-145XR', Decimal('69.48'), Decimal('68.42'))]"
      ]
     },
     "execution_count": 87,
     "metadata": {},
     "output_type": "execute_result"
    }
   ],
   "source": [
    "%%sql\n",
    "SELECT tails.model, ROUND(AVG(flight_perf.dep_delay),2) as dep_delay, ROUND(AVG(flight_perf.arr_delay),2) as arr_delay\n",
    "FROM tails\n",
    "    LEFT JOIN aircraft ON aircraft.tail = tails.number \n",
    "    INNER JOIN flight_perf ON aircraft.aircraft_key = flight_perf.aircraft_key\n",
    "WHERE flight_perf.dep_delay>0 AND flight_perf.arr_delay>0\n",
    "GROUP BY tails.model\n",
    "ORDER BY dep_delay DESC\n",
    "LIMIT 20"
   ]
  },
  {
   "cell_type": "markdown",
   "metadata": {},
   "source": [
    "These are surprising findings. Ignoring the errors that will be described shortly, it appears that larger aircraft have more minute dealays. For example the Boeing 767, 777 and 757 which are usually used for long-haul flights, appear to experience more delays than smaller aircrafts such as the Boeing 737 or Embraer 145.\n",
    "\n",
    "The PC-12/47E is a general aviation aircraft (for nine people), which provides an example of something that was discussed earlier in this section: registration numbers are always changing and there's no efficient way to obtain a day-of-data-entry static record. This could be a recommendation that could be sent to the Bureau of Transportation Statistics, there should be a new column in the data labbeled 'NEW_TAIL_NUM' that includes the latest tail number associated to an aicraft.\n",
    "\n",
    "\n",
    "Given that this would required a manual check of each tail number we will move to the next table.\n",
    "\n",
    "In addition, further data processing could be used to group aircraft into families (i.e.: 737 family, A320 family...) rather than having all different models."
   ]
  },
  {
   "cell_type": "markdown",
   "metadata": {},
   "source": [
    "#### Weather"
   ]
  },
  {
   "cell_type": "markdown",
   "metadata": {},
   "source": [
    "The National Oceanic and Atmospheric Administration (NOAA) is the most important US government agency when it comes to weather data. The agency providers a myriad of weather-related data, including daily summaries for all weather stations spread across the United States. As it was pointed in the earlier steps of our analysis, weather is one of the main causes for delays. Given the importance of this factor, we decided to investigate the weather conditions (precipitations, wind, weather types...) and try to establish a link between a certain weather event and delays.\n",
    "\n",
    "The dataset we are using is a combination of daily weather reports for Washington Reagan (DCA), Washington Dulles (IAD), Norfolk International (ORF), and Richmond International (RIC). Each day (row) contains the following variables:"
   ]
  },
  {
   "cell_type": "code",
   "execution_count": 88,
   "metadata": {},
   "outputs": [
    {
     "name": "stdout",
     "output_type": "stream",
     "text": [
      "  1: NAME\n",
      "  2: AIRPORT\n",
      "  3: DATE\n",
      "  4: MONTH\n",
      "  5: DAY\n",
      "  6: YEAR\n",
      "  7: AWND\n",
      "  8: PRCP\n",
      "  9: SNOW\n",
      " 10: TAVG\n",
      " 11: FOG/ICE_FOG/FREEZE_FOG\n",
      " 12: HEAVY_FOG/HEAVY_FREEZING_FOG\n",
      " 13: THUNDER\n",
      " 14: ICE/SLEET/SMALL_SNOW\n",
      " 15: HAIL\n",
      " 16: GLAZE/RIME\n",
      " 17: DUST/ASH/SAND\n",
      " 18: BLOWING_SNOW\n"
     ]
    }
   ],
   "source": [
    "!csvcut -n va_weather.csv"
   ]
  },
  {
   "cell_type": "markdown",
   "metadata": {},
   "source": [
    "Columns 11 through 18 are indicator columns. A \"1\" indicates that that particular weather condition occured during the day."
   ]
  },
  {
   "cell_type": "code",
   "execution_count": 89,
   "metadata": {},
   "outputs": [
    {
     "name": "stdout",
     "output_type": "stream",
     "text": [
      "Row count: 1460\n"
     ]
    }
   ],
   "source": [
    "!csvstat --count va_weather.csv"
   ]
  },
  {
   "cell_type": "markdown",
   "metadata": {},
   "source": [
    "The row count matches what we expected. 364 days x 4 airports = 1,460 records."
   ]
  },
  {
   "cell_type": "code",
   "execution_count": 90,
   "metadata": {},
   "outputs": [
    {
     "name": "stdout",
     "output_type": "stream",
     "text": [
      "  1. \"NAME\"\n",
      "\n",
      "\tType of data:          Text\n",
      "\tContains null values:  False\n",
      "\tUnique values:         1\n",
      "\tLongest value:         46 characters\n",
      "\tMost common values:    WASHINGTON DULLES INTERNATIONAL AIRPORT, VA US (9x)\n",
      "\n",
      "  2. \"AIRPORT\"\n",
      "\n",
      "\tType of data:          Text\n",
      "\tContains null values:  False\n",
      "\tUnique values:         1\n",
      "\tLongest value:         3 characters\n",
      "\tMost common values:    IAD (9x)\n",
      "\n",
      "  3. \"DATE\"\n",
      "\n",
      "\tType of data:          Date\n",
      "\tContains null values:  False\n",
      "\tUnique values:         9\n",
      "\tSmallest value:        2017-01-01\n",
      "\tLargest value:         2017-01-09\n",
      "\tMost common values:    2017-01-01 (1x)\n",
      "\t                       2017-01-02 (1x)\n",
      "\t                       2017-01-03 (1x)\n",
      "\t                       2017-01-04 (1x)\n",
      "\t                       2017-01-05 (1x)\n",
      "\n",
      "  4. \"MONTH\"\n",
      "\n",
      "\tType of data:          Boolean\n",
      "\tContains null values:  False\n",
      "\tUnique values:         1\n",
      "\tMost common values:    True (9x)\n",
      "\n",
      "  5. \"DAY\"\n",
      "\n",
      "\tType of data:          Number\n",
      "\tContains null values:  False\n",
      "\tUnique values:         9\n",
      "\tSmallest value:        1\n",
      "\tLargest value:         9\n",
      "\tSum:                   45\n",
      "\tMean:                  5\n",
      "\tMedian:                5\n",
      "\tStDev:                 2.739\n",
      "\tMost common values:    1 (1x)\n",
      "\t                       2 (1x)\n",
      "\t                       3 (1x)\n",
      "\t                       4 (1x)\n",
      "\t                       5 (1x)\n",
      "\n",
      "  6. \"YEAR\"\n",
      "\n",
      "\tType of data:          Number\n",
      "\tContains null values:  False\n",
      "\tUnique values:         1\n",
      "\tSmallest value:        2,017\n",
      "\tLargest value:         2,017\n",
      "\tSum:                   18,153\n",
      "\tMean:                  2,017\n",
      "\tMedian:                2,017\n",
      "\tStDev:                 0\n",
      "\tMost common values:    2,017 (9x)\n",
      "\n",
      "  7. \"AWND\"\n",
      "\n",
      "\tType of data:          Number\n",
      "\tContains null values:  False\n",
      "\tUnique values:         9\n",
      "\tSmallest value:        1.7\n",
      "\tLargest value:         6.6\n",
      "\tSum:                   32.3\n",
      "\tMean:                  3.589\n",
      "\tMedian:                2.6\n",
      "\tStDev:                 1.848\n",
      "\tMost common values:    1.8 (1x)\n",
      "\t                       2.6 (1x)\n",
      "\t                       2.1 (1x)\n",
      "\t                       4.9 (1x)\n",
      "\t                       1.7 (1x)\n",
      "\n",
      "  8. \"PRCP\"\n",
      "\n",
      "\tType of data:          Number\n",
      "\tContains null values:  False\n",
      "\tUnique values:         6\n",
      "\tSmallest value:        0\n",
      "\tLargest value:         23.4\n",
      "\tSum:                   32.1\n",
      "\tMean:                  3.567\n",
      "\tMedian:                0.3\n",
      "\tStDev:                 7.762\n",
      "\tMost common values:    0 (4x)\n",
      "\t                       6.9 (1x)\n",
      "\t                       23.4 (1x)\n",
      "\t                       0.5 (1x)\n",
      "\t                       0.3 (1x)\n",
      "\n",
      "  9. \"SNOW\"\n",
      "\n",
      "\tType of data:          Number\n",
      "\tContains null values:  False\n",
      "\tUnique values:         3\n",
      "\tSmallest value:        0\n",
      "\tLargest value:         15\n",
      "\tSum:                   18\n",
      "\tMean:                  2\n",
      "\tMedian:                0\n",
      "\tStDev:                 4.975\n",
      "\tMost common values:    0 (7x)\n",
      "\t                       3 (1x)\n",
      "\t                       15 (1x)\n",
      "\n",
      " 10. \"TAVG\"\n",
      "\n",
      "\tType of data:          Number\n",
      "\tContains null values:  False\n",
      "\tUnique values:         9\n",
      "\tSmallest value:        -8.5\n",
      "\tLargest value:         7.6\n",
      "\tSum:                   0.3\n",
      "\tMean:                  0.033\n",
      "\tMedian:                -0.7\n",
      "\tStDev:                 6.416\n",
      "\tMost common values:    6.1 (1x)\n",
      "\t                       5.6 (1x)\n",
      "\t                       5.4 (1x)\n",
      "\t                       7.6 (1x)\n",
      "\t                       -0.7 (1x)\n",
      "\n",
      " 11. \"FOG/ICE_FOG/FREEZE_FOG\"\n",
      "\n",
      "\tType of data:          Boolean\n",
      "\tContains null values:  False\n",
      "\tUnique values:         2\n",
      "\tMost common values:    False (5x)\n",
      "\t                       True (4x)\n",
      "\n",
      " 12. \"HEAVY_FOG/HEAVY_FREEZING_FOG\"\n",
      "\n",
      "\tType of data:          Boolean\n",
      "\tContains null values:  False\n",
      "\tUnique values:         2\n",
      "\tMost common values:    False (7x)\n",
      "\t                       True (2x)\n",
      "\n",
      " 13. \"THUNDER\"\n",
      "\n",
      "\tType of data:          Boolean\n",
      "\tContains null values:  False\n",
      "\tUnique values:         1\n",
      "\tMost common values:    False (9x)\n",
      "\n",
      " 14. \"ICE/SLEET/SMALL_SNOW\"\n",
      "\n",
      "\tType of data:          Boolean\n",
      "\tContains null values:  False\n",
      "\tUnique values:         1\n",
      "\tMost common values:    False (9x)\n",
      "\n",
      " 15. \"HAIL\"\n",
      "\n",
      "\tType of data:          Boolean\n",
      "\tContains null values:  False\n",
      "\tUnique values:         1\n",
      "\tMost common values:    False (9x)\n",
      "\n",
      " 16. \"GLAZE/RIME\"\n",
      "\n",
      "\tType of data:          Boolean\n",
      "\tContains null values:  False\n",
      "\tUnique values:         1\n",
      "\tMost common values:    False (9x)\n",
      "\n",
      " 17. \"DUST/ASH/SAND\"\n",
      "\n",
      "\tType of data:          Boolean\n",
      "\tContains null values:  False\n",
      "\tUnique values:         1\n",
      "\tMost common values:    False (9x)\n",
      "\n",
      " 18. \"BLOWING_SNOW\"\n",
      "\n",
      "\tType of data:          Boolean\n",
      "\tContains null values:  False\n",
      "\tUnique values:         1\n",
      "\tMost common values:    False (9x)\n",
      "\n",
      "Row count: 9\n"
     ]
    }
   ],
   "source": [
    "!head va_weather.csv | csvstat"
   ]
  },
  {
   "cell_type": "markdown",
   "metadata": {},
   "source": [
    "Let's add it to our database! We'll first create a table:"
   ]
  },
  {
   "cell_type": "code",
   "execution_count": 3,
   "metadata": {},
   "outputs": [
    {
     "name": "stdout",
     "output_type": "stream",
     "text": [
      " * postgresql://student@/FinalProject\n",
      "Done.\n",
      "Done.\n"
     ]
    },
    {
     "data": {
      "text/plain": [
       "[]"
      ]
     },
     "execution_count": 3,
     "metadata": {},
     "output_type": "execute_result"
    }
   ],
   "source": [
    "%%sql\n",
    "DROP TABLE IF EXISTS weather;\n",
    "\n",
    "CREATE TABLE weather (\n",
    "    name VARCHAR(100),\n",
    "    airport CHAR(3),\n",
    "    date DATE,\n",
    "    day INTEGER,\n",
    "    month INTEGER,\n",
    "    year INTEGER,\n",
    "    wind_avg FLOAT(8),\n",
    "    rain FLOAT(8),\n",
    "    snow FLOAT(8),\n",
    "    temp_avg FLOAT(8),\n",
    "    fog INTEGER,\n",
    "    heavy_fog INTEGER,\n",
    "    thunder INTEGER,\n",
    "    ice_smallsnow INTEGER,\n",
    "    hail INTEGER,\n",
    "    glaze INTEGER,\n",
    "    dust_assh INTEGER,\n",
    "    snow_blowing INTEGER\n",
    ")"
   ]
  },
  {
   "cell_type": "markdown",
   "metadata": {},
   "source": [
    "Now that the table has been created, we will fill it with the contents in our *flights.csv* file:"
   ]
  },
  {
   "cell_type": "code",
   "execution_count": 4,
   "metadata": {},
   "outputs": [
    {
     "name": "stdout",
     "output_type": "stream",
     "text": [
      " * postgresql://student@/FinalProject\n",
      "1460 rows affected.\n"
     ]
    },
    {
     "data": {
      "text/plain": [
       "[]"
      ]
     },
     "execution_count": 4,
     "metadata": {},
     "output_type": "execute_result"
    }
   ],
   "source": [
    "%%sql\n",
    "COPY weather FROM '/home/ubuntu/va_weather.csv'\n",
    "CSV\n",
    "HEADER;"
   ]
  },
  {
   "cell_type": "markdown",
   "metadata": {},
   "source": [
    "Let's preview our table:"
   ]
  },
  {
   "cell_type": "code",
   "execution_count": 93,
   "metadata": {},
   "outputs": [
    {
     "name": "stdout",
     "output_type": "stream",
     "text": [
      " * postgresql://student@/FinalProject\n",
      "5 rows affected.\n"
     ]
    },
    {
     "data": {
      "text/html": [
       "<table>\n",
       "    <tr>\n",
       "        <th>name</th>\n",
       "        <th>airport</th>\n",
       "        <th>date</th>\n",
       "        <th>day</th>\n",
       "        <th>month</th>\n",
       "        <th>year</th>\n",
       "        <th>wind_avg</th>\n",
       "        <th>rain</th>\n",
       "        <th>snow</th>\n",
       "        <th>temp_avg</th>\n",
       "        <th>fog</th>\n",
       "        <th>heavy_fog</th>\n",
       "        <th>thunder</th>\n",
       "        <th>ice_smallsnow</th>\n",
       "        <th>hail</th>\n",
       "        <th>glaze</th>\n",
       "        <th>dust_assh</th>\n",
       "        <th>snow_blowing</th>\n",
       "    </tr>\n",
       "    <tr>\n",
       "        <td>WASHINGTON DULLES INTERNATIONAL AIRPORT, VA US</td>\n",
       "        <td>IAD</td>\n",
       "        <td>2017-01-01</td>\n",
       "        <td>1</td>\n",
       "        <td>1</td>\n",
       "        <td>2017</td>\n",
       "        <td>1.8</td>\n",
       "        <td>0.0</td>\n",
       "        <td>0.0</td>\n",
       "        <td>6.1</td>\n",
       "        <td>0</td>\n",
       "        <td>0</td>\n",
       "        <td>0</td>\n",
       "        <td>0</td>\n",
       "        <td>0</td>\n",
       "        <td>0</td>\n",
       "        <td>0</td>\n",
       "        <td>0</td>\n",
       "    </tr>\n",
       "    <tr>\n",
       "        <td>WASHINGTON DULLES INTERNATIONAL AIRPORT, VA US</td>\n",
       "        <td>IAD</td>\n",
       "        <td>2017-01-02</td>\n",
       "        <td>1</td>\n",
       "        <td>2</td>\n",
       "        <td>2017</td>\n",
       "        <td>2.6</td>\n",
       "        <td>6.9</td>\n",
       "        <td>0.0</td>\n",
       "        <td>5.6</td>\n",
       "        <td>1</td>\n",
       "        <td>0</td>\n",
       "        <td>0</td>\n",
       "        <td>0</td>\n",
       "        <td>0</td>\n",
       "        <td>0</td>\n",
       "        <td>0</td>\n",
       "        <td>0</td>\n",
       "    </tr>\n",
       "    <tr>\n",
       "        <td>WASHINGTON DULLES INTERNATIONAL AIRPORT, VA US</td>\n",
       "        <td>IAD</td>\n",
       "        <td>2017-01-03</td>\n",
       "        <td>1</td>\n",
       "        <td>3</td>\n",
       "        <td>2017</td>\n",
       "        <td>2.1</td>\n",
       "        <td>23.4</td>\n",
       "        <td>0.0</td>\n",
       "        <td>5.4</td>\n",
       "        <td>1</td>\n",
       "        <td>1</td>\n",
       "        <td>0</td>\n",
       "        <td>0</td>\n",
       "        <td>0</td>\n",
       "        <td>0</td>\n",
       "        <td>0</td>\n",
       "        <td>0</td>\n",
       "    </tr>\n",
       "    <tr>\n",
       "        <td>WASHINGTON DULLES INTERNATIONAL AIRPORT, VA US</td>\n",
       "        <td>IAD</td>\n",
       "        <td>2017-01-04</td>\n",
       "        <td>1</td>\n",
       "        <td>4</td>\n",
       "        <td>2017</td>\n",
       "        <td>4.9</td>\n",
       "        <td>0.5</td>\n",
       "        <td>0.0</td>\n",
       "        <td>7.6</td>\n",
       "        <td>1</td>\n",
       "        <td>1</td>\n",
       "        <td>0</td>\n",
       "        <td>0</td>\n",
       "        <td>0</td>\n",
       "        <td>0</td>\n",
       "        <td>0</td>\n",
       "        <td>0</td>\n",
       "    </tr>\n",
       "    <tr>\n",
       "        <td>WASHINGTON DULLES INTERNATIONAL AIRPORT, VA US</td>\n",
       "        <td>IAD</td>\n",
       "        <td>2017-01-05</td>\n",
       "        <td>1</td>\n",
       "        <td>5</td>\n",
       "        <td>2017</td>\n",
       "        <td>1.7</td>\n",
       "        <td>0.0</td>\n",
       "        <td>0.0</td>\n",
       "        <td>-0.7</td>\n",
       "        <td>0</td>\n",
       "        <td>0</td>\n",
       "        <td>0</td>\n",
       "        <td>0</td>\n",
       "        <td>0</td>\n",
       "        <td>0</td>\n",
       "        <td>0</td>\n",
       "        <td>0</td>\n",
       "    </tr>\n",
       "</table>"
      ],
      "text/plain": [
       "[('WASHINGTON DULLES INTERNATIONAL AIRPORT, VA US', 'IAD', datetime.date(2017, 1, 1), 1, 1, 2017, 1.8, 0.0, 0.0, 6.1, 0, 0, 0, 0, 0, 0, 0, 0),\n",
       " ('WASHINGTON DULLES INTERNATIONAL AIRPORT, VA US', 'IAD', datetime.date(2017, 1, 2), 1, 2, 2017, 2.6, 6.9, 0.0, 5.6, 1, 0, 0, 0, 0, 0, 0, 0),\n",
       " ('WASHINGTON DULLES INTERNATIONAL AIRPORT, VA US', 'IAD', datetime.date(2017, 1, 3), 1, 3, 2017, 2.1, 23.4, 0.0, 5.4, 1, 1, 0, 0, 0, 0, 0, 0),\n",
       " ('WASHINGTON DULLES INTERNATIONAL AIRPORT, VA US', 'IAD', datetime.date(2017, 1, 4), 1, 4, 2017, 4.9, 0.5, 0.0, 7.6, 1, 1, 0, 0, 0, 0, 0, 0),\n",
       " ('WASHINGTON DULLES INTERNATIONAL AIRPORT, VA US', 'IAD', datetime.date(2017, 1, 5), 1, 5, 2017, 1.7, 0.0, 0.0, -0.7, 0, 0, 0, 0, 0, 0, 0, 0)]"
      ]
     },
     "execution_count": 93,
     "metadata": {},
     "output_type": "execute_result"
    }
   ],
   "source": [
    "%%sql\n",
    "SELECT * \n",
    "FROM weather\n",
    "LIMIT 5"
   ]
  },
  {
   "cell_type": "markdown",
   "metadata": {},
   "source": [
    "According to some connections at United Airlines, the leading cause for delays during the summer months is thunder storms. Let's see if there's a relationship between thunderstorms and delays:"
   ]
  },
  {
   "cell_type": "markdown",
   "metadata": {},
   "source": [
    "For departures:"
   ]
  },
  {
   "cell_type": "markdown",
   "metadata": {},
   "source": [
    "<img src=\"https://s3.amazonaws.com/2018-dmfa-group7/final_project/thunder.png\"/>"
   ]
  },
  {
   "cell_type": "markdown",
   "metadata": {},
   "source": [
    "**Let's investigate the weather conditions per month and compare them with delays:**"
   ]
  },
  {
   "cell_type": "markdown",
   "metadata": {},
   "source": [
    "We can now clearly see the difference between a day with and without thunderstorms. Of course there are other factors that lead to delays but this is one of them."
   ]
  },
  {
   "cell_type": "code",
   "execution_count": 5,
   "metadata": {},
   "outputs": [
    {
     "name": "stdout",
     "output_type": "stream",
     "text": [
      " * postgresql://student@/FinalProject\n",
      "31 rows affected.\n"
     ]
    },
    {
     "data": {
      "text/html": [
       "<table>\n",
       "    <tr>\n",
       "        <th>month</th>\n",
       "        <th>avg_rain</th>\n",
       "        <th>avg_snow</th>\n",
       "    </tr>\n",
       "    <tr>\n",
       "        <td>1</td>\n",
       "        <td>1.54583334674438</td>\n",
       "        <td>0.0</td>\n",
       "    </tr>\n",
       "    <tr>\n",
       "        <td>2</td>\n",
       "        <td>3.71875003352761</td>\n",
       "        <td>0.0</td>\n",
       "    </tr>\n",
       "    <tr>\n",
       "        <td>3</td>\n",
       "        <td>1.98749996473392</td>\n",
       "        <td>0.0625</td>\n",
       "    </tr>\n",
       "    <tr>\n",
       "        <td>4</td>\n",
       "        <td>0.893749995778004</td>\n",
       "        <td>0.0</td>\n",
       "    </tr>\n",
       "    <tr>\n",
       "        <td>5</td>\n",
       "        <td>5.44375001639128</td>\n",
       "        <td>0.0</td>\n",
       "    </tr>\n",
       "    <tr>\n",
       "        <td>6</td>\n",
       "        <td>4.91041675209999</td>\n",
       "        <td>0.125</td>\n",
       "    </tr>\n",
       "    <tr>\n",
       "        <td>7</td>\n",
       "        <td>4.79166669646899</td>\n",
       "        <td>7.04166666666667</td>\n",
       "    </tr>\n",
       "    <tr>\n",
       "        <td>8</td>\n",
       "        <td>2.67708333209157</td>\n",
       "        <td>1.27083333333333</td>\n",
       "    </tr>\n",
       "    <tr>\n",
       "        <td>9</td>\n",
       "        <td>1.95416665698091</td>\n",
       "        <td>3.60416666666667</td>\n",
       "    </tr>\n",
       "    <tr>\n",
       "        <td>10</td>\n",
       "        <td>0.425000008195639</td>\n",
       "        <td>0.0</td>\n",
       "    </tr>\n",
       "    <tr>\n",
       "        <td>11</td>\n",
       "        <td>5.31041673074166</td>\n",
       "        <td>0.0</td>\n",
       "    </tr>\n",
       "    <tr>\n",
       "        <td>12</td>\n",
       "        <td>3.27916664754351</td>\n",
       "        <td>0.0</td>\n",
       "    </tr>\n",
       "    <tr>\n",
       "        <td>13</td>\n",
       "        <td>2.92708332588275</td>\n",
       "        <td>1.375</td>\n",
       "    </tr>\n",
       "    <tr>\n",
       "        <td>14</td>\n",
       "        <td>4.23749996845921</td>\n",
       "        <td>2.64583333333333</td>\n",
       "    </tr>\n",
       "    <tr>\n",
       "        <td>15</td>\n",
       "        <td>1.98541665449739</td>\n",
       "        <td>0.208333333333333</td>\n",
       "    </tr>\n",
       "    <tr>\n",
       "        <td>16</td>\n",
       "        <td>1.00833335270484</td>\n",
       "        <td>0.0</td>\n",
       "    </tr>\n",
       "    <tr>\n",
       "        <td>17</td>\n",
       "        <td>1.19791664679845</td>\n",
       "        <td>0.0</td>\n",
       "    </tr>\n",
       "    <tr>\n",
       "        <td>18</td>\n",
       "        <td>3.64374998087684</td>\n",
       "        <td>0.0</td>\n",
       "    </tr>\n",
       "    <tr>\n",
       "        <td>19</td>\n",
       "        <td>1.92916663736105</td>\n",
       "        <td>0.0625</td>\n",
       "    </tr>\n",
       "    <tr>\n",
       "        <td>20</td>\n",
       "        <td>0.656249983857075</td>\n",
       "        <td>0.0</td>\n",
       "    </tr>\n",
       "    <tr>\n",
       "        <td>21</td>\n",
       "        <td>0.797916655739148</td>\n",
       "        <td>0.0</td>\n",
       "    </tr>\n",
       "    <tr>\n",
       "        <td>22</td>\n",
       "        <td>2.9645832888782</td>\n",
       "        <td>0.0</td>\n",
       "    </tr>\n",
       "    <tr>\n",
       "        <td>23</td>\n",
       "        <td>5.16249989097317</td>\n",
       "        <td>0.0</td>\n",
       "    </tr>\n",
       "    <tr>\n",
       "        <td>24</td>\n",
       "        <td>2.11458333705862</td>\n",
       "        <td>0.0</td>\n",
       "    </tr>\n",
       "    <tr>\n",
       "        <td>25</td>\n",
       "        <td>1.95625001316269</td>\n",
       "        <td>0.0</td>\n",
       "    </tr>\n",
       "    <tr>\n",
       "        <td>26</td>\n",
       "        <td>0.177083329608043</td>\n",
       "        <td>0.0</td>\n",
       "    </tr>\n",
       "    <tr>\n",
       "        <td>27</td>\n",
       "        <td>0.9729166974624</td>\n",
       "        <td>0.0</td>\n",
       "    </tr>\n",
       "    <tr>\n",
       "        <td>28</td>\n",
       "        <td>4.82083325088024</td>\n",
       "        <td>0.0</td>\n",
       "    </tr>\n",
       "    <tr>\n",
       "        <td>29</td>\n",
       "        <td>8.48409096354788</td>\n",
       "        <td>0.0</td>\n",
       "    </tr>\n",
       "    <tr>\n",
       "        <td>30</td>\n",
       "        <td>1.65681817450307</td>\n",
       "        <td>1.09090909090909</td>\n",
       "    </tr>\n",
       "    <tr>\n",
       "        <td>31</td>\n",
       "        <td>6.43214290482657</td>\n",
       "        <td>0.0</td>\n",
       "    </tr>\n",
       "</table>"
      ],
      "text/plain": [
       "[(1, 1.54583334674438, 0.0),\n",
       " (2, 3.71875003352761, 0.0),\n",
       " (3, 1.98749996473392, 0.0625),\n",
       " (4, 0.893749995778004, 0.0),\n",
       " (5, 5.44375001639128, 0.0),\n",
       " (6, 4.91041675209999, 0.125),\n",
       " (7, 4.79166669646899, 7.04166666666667),\n",
       " (8, 2.67708333209157, 1.27083333333333),\n",
       " (9, 1.95416665698091, 3.60416666666667),\n",
       " (10, 0.425000008195639, 0.0),\n",
       " (11, 5.31041673074166, 0.0),\n",
       " (12, 3.27916664754351, 0.0),\n",
       " (13, 2.92708332588275, 1.375),\n",
       " (14, 4.23749996845921, 2.64583333333333),\n",
       " (15, 1.98541665449739, 0.208333333333333),\n",
       " (16, 1.00833335270484, 0.0),\n",
       " (17, 1.19791664679845, 0.0),\n",
       " (18, 3.64374998087684, 0.0),\n",
       " (19, 1.92916663736105, 0.0625),\n",
       " (20, 0.656249983857075, 0.0),\n",
       " (21, 0.797916655739148, 0.0),\n",
       " (22, 2.9645832888782, 0.0),\n",
       " (23, 5.16249989097317, 0.0),\n",
       " (24, 2.11458333705862, 0.0),\n",
       " (25, 1.95625001316269, 0.0),\n",
       " (26, 0.177083329608043, 0.0),\n",
       " (27, 0.9729166974624, 0.0),\n",
       " (28, 4.82083325088024, 0.0),\n",
       " (29, 8.48409096354788, 0.0),\n",
       " (30, 1.65681817450307, 1.09090909090909),\n",
       " (31, 6.43214290482657, 0.0)]"
      ]
     },
     "execution_count": 5,
     "metadata": {},
     "output_type": "execute_result"
    }
   ],
   "source": [
    "%%sql\n",
    "SELECT month, avg(rain) as avg_rain, avg(snow) as avg_snow\n",
    "FROM weather\n",
    "GROUP BY month\n",
    "ORDER BY month"
   ]
  },
  {
   "cell_type": "markdown",
   "metadata": {},
   "source": [
    "The following line of code will take a few minutes to run."
   ]
  },
  {
   "cell_type": "code",
   "execution_count": null,
   "metadata": {},
   "outputs": [
    {
     "name": "stdout",
     "output_type": "stream",
     "text": [
      " * postgresql://student@/FinalProject\n"
     ]
    }
   ],
   "source": [
    "%%sql\n",
    "SELECT datetime.month, airport.name, ROUND(AVG(flight_perf.arr_delay),2) as arr_delay, AVG(weather.rain) as rain, AVG(weather.snow) as snow\n",
    "FROM weather\n",
    "    INNER JOIN airport ON weather.airport = airport.name\n",
    "    INNER JOIN datetime ON weather.day = datetime.day AND weather.month = datetime.month AND weather.year = datetime.year\n",
    "    INNER JOIN flight_perf ON datetime.datetime_key = flight_perf.arr_datetime_key AND airport.airport_key = flight_perf.arr_airport_key\n",
    "WHERE flight_perf.arr_delay > 0 \n",
    "GROUP BY datetime.month, airport.name\n",
    "HAVING airport.name = 'IAD'\n",
    "ORDER BY datetime.month ASC\n",
    "LIMIT 10"
   ]
  },
  {
   "cell_type": "markdown",
   "metadata": {},
   "source": [
    "<img src=\"https://s3.amazonaws.com/2018-dmfa-group7/final_project/Rain_Delays.png\"/>"
   ]
  },
  {
   "cell_type": "markdown",
   "metadata": {},
   "source": [
    "As the graphs show, rain appears to have an impact on arrivals and delays for all Virginia airports. Whenever the rainfall increases then so do delays. Please note that towards the end of the year and beginnin of the month rainfall will most likely be snow. The visualization below displays this:"
   ]
  },
  {
   "cell_type": "markdown",
   "metadata": {},
   "source": [
    "<img src=\"https://s3.amazonaws.com/2018-dmfa-group7/final_project/snow.png\"/>"
   ]
  },
  {
   "cell_type": "markdown",
   "metadata": {},
   "source": [
    "The year of 2017 was rather weak for snowfall. Nonetheless, we can see that as snowfall imcreases then so do departure and arrival delays."
   ]
  },
  {
   "cell_type": "markdown",
   "metadata": {},
   "source": [
    "---"
   ]
  },
  {
   "cell_type": "markdown",
   "metadata": {},
   "source": [
    "### Team Member Contributions & Attestations"
   ]
  },
  {
   "cell_type": "markdown",
   "metadata": {},
   "source": [
    "**Ran He:**\n",
    "- Collaborated on schema design\n",
    "- Descibed variables, identified facts and dimensions based on the schema\n",
    "- Collaborated on data wrangling \n",
    "- Collaborated on slides creation\n",
    "- I attest that everyone contributed substantially\n",
    "\n",
    "**Martim Silva:**\n",
    "- Identified the dataset\n",
    "- Pre-processed data (selecting variables to download)\n",
    "- Collaborated on schema design\n",
    "- Supported data wranggling tasks\n",
    "- Worked on the bonus section\n",
    "- Develop some Tableau visualizations\n",
    "- Added markdown comments and reviewed notebook before submission\n",
    "- I attest that everyone contributed substantially\n",
    "\n",
    "**Maggie Wang:**\n",
    "- Collaborated on schema design\n",
    "- Supported data wranggling tasks\n",
    "- Worked on data analysis to address main questions that we want to solve\n",
    "- Added markdown commments for each analysis\n",
    "- Combined notebooks for final review\n",
    "- I attest that everyone contributed substantially\n",
    "\n",
    "**Mengfei Zhou:**\n",
    "- Collaborated on schema design\n",
    "- Descibed variables, identified facts and dimensions based on the schema\n",
    "- Collaborated on data wrangling \n",
    "- Collaborated on slides creation\n",
    "- I attest that everyone contributed substantially\n",
    "\n",
    "We all attest that this project was completed in accordance with GW's Code of Academic Integrity."
   ]
  }
 ],
 "metadata": {
  "kernelspec": {
   "display_name": "Python 3",
   "language": "python",
   "name": "python3"
  },
  "language_info": {
   "codemirror_mode": {
    "name": "ipython",
    "version": 3
   },
   "file_extension": ".py",
   "mimetype": "text/x-python",
   "name": "python",
   "nbconvert_exporter": "python",
   "pygments_lexer": "ipython3",
   "version": "3.5.3"
  }
 },
 "nbformat": 4,
 "nbformat_minor": 2
}
